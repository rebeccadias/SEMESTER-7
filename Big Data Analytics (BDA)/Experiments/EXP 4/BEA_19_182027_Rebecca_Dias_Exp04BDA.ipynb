{
  "nbformat": 4,
  "nbformat_minor": 0,
  "metadata": {
    "colab": {
      "name": "BEA_19_182027_Rebecca_Dias_Exp04BDA",
      "provenance": [],
      "collapsed_sections": []
    },
    "kernelspec": {
      "name": "python3",
      "display_name": "Python 3"
    },
    "language_info": {
      "name": "python"
    }
  },
  "cells": [
    {
      "cell_type": "markdown",
      "metadata": {
        "id": "0YQSLcuUVIGa"
      },
      "source": [
        "**Name of the Student**    : Rebecca Hilary Dias       <br>                                **Rollno** :19                     <br>                                                         **PID**:182027\n",
        "\n",
        "\n",
        "\n",
        "\n",
        "\n",
        "\n"
      ]
    },
    {
      "cell_type": "markdown",
      "metadata": {
        "id": "M3klKZ0q4g5L"
      },
      "source": [
        "as per the ethnicity compute the avg of math score"
      ]
    },
    {
      "cell_type": "markdown",
      "metadata": {
        "id": "VUDAV7eIWFMD"
      },
      "source": [
        "**What is Pyspark?** <br> PySpark is a Python API for Spark released by the Apache Spark community to support Python with Spark. Using PySpark, one can easily integrate and work with RDDs in Python programming language too. There are numerous features that make PySpark such an amazing framework when it comes to working with huge datasets."
      ]
    },
    {
      "cell_type": "markdown",
      "metadata": {
        "id": "vxoyVEzBZmEH"
      },
      "source": [
        "**Why is PYspark used?**\n",
        "<br>\n",
        "PySpark is a great language for data scientists to learn because it enables scalable analysis and ML pipelines. If you're already familiar with Python and Pandas, then much of your knowledge can be applied to Spark. I've shown how to perform some common operations with PySpark to bootstrap the learning process\n",
        "\n",
        "\n",
        "*   PySpark ML and MLlib is used for machine learning.\n",
        "*   PySpark GraphX and GraphFrames are used for Graph processing\n",
        "\n",
        "*   PySpark RDD and DataFrame’s are used to process batch pipelines where you would need high throughput.\n",
        "*   PySpark Streaming is used to for real time processing.\n"
      ]
    },
    {
      "cell_type": "markdown",
      "metadata": {
        "id": "kg4KsctIZw2p"
      },
      "source": [
        "**Where is Pyspark used?** <br> \n",
        "PySpark brings robust and cost-effective ways to run machine learning applications on billions and trillions of data on distributed clusters 100 times faster than the traditional python applications. PySpark has been used by many organizations like Amazon, Walmart, Trivago, Sanofi, Runtastic, and many more. <br>\n",
        "PySpark has been used by many organizations like Amazon, Walmart, Trivago, Sanofi, Runtastic, and many more. PySpark also used in different sectors.\n",
        "*   Health\n",
        "* E-commerce and many more\n",
        "*   Financials\n",
        "*   Education\n",
        "*   Entertainment\n",
        "*   Utilities"
      ]
    },
    {
      "cell_type": "markdown",
      "metadata": {
        "id": "B1TuvaLNChZF"
      },
      "source": [
        "**Connecting Drive to Colab**: Try connecting to your own google drive. You would be prompted to copy the authorization code. Please do that to proceed further"
      ]
    },
    {
      "cell_type": "code",
      "metadata": {
        "colab": {
          "base_uri": "https://localhost:8080/"
        },
        "id": "91DrQeVnBH-U",
        "outputId": "1ecc7fe9-e545-405a-8d94-ae7696e54530"
      },
      "source": [
        "from google.colab import drive\n",
        "drive.mount('/content/drive')"
      ],
      "execution_count": null,
      "outputs": [
        {
          "output_type": "stream",
          "name": "stdout",
          "text": [
            "Mounted at /content/drive\n"
          ]
        }
      ]
    },
    {
      "cell_type": "markdown",
      "metadata": {
        "id": "HWZELYejHPfK"
      },
      "source": [
        "1. **Loading your data**\n",
        "The data to be downloaded in pyspark can be in zip file. Just upload the zip file in the drive and use your unzip extention to pull it out.\n"
      ]
    },
    {
      "cell_type": "markdown",
      "metadata": {
        "id": "w6keSbKMad8Q"
      },
      "source": [
        "For loading the data, kindly search in UCL repository, Kaggle and other other valid data sources and try downloading the dataset which you can analyze. I shall shown one example here. But I request you'll to kindly download you own datasets and do the analysis. You may download the dataset in the drive directly and you may unzip it. Follow step-by-step the instructions given below for working with your data sets using Pyspark"
      ]
    },
    {
      "cell_type": "markdown",
      "metadata": {
        "id": "04O_AYirbbYO"
      },
      "source": [
        "This *AsianReligiousData.zip* has two csv files in it. AllBooks_baseline_DTM_labelled.csv and AllBooks_baseline_DTM_Unlabelled.csv. and a text file about the dataset"
      ]
    },
    {
      "cell_type": "markdown",
      "metadata": {
        "id": "itqnw5uLcEjX"
      },
      "source": [
        "Just investigate what happens when you try to unzip the code for the second time. Add atext box and write your investigations here\n"
      ]
    },
    {
      "cell_type": "markdown",
      "metadata": {
        "id": "zhIzugq6cR8m"
      },
      "source": [
        "## **Observation:** "
      ]
    },
    {
      "cell_type": "markdown",
      "metadata": {
        "id": "sh6hET9jHsdA"
      },
      "source": [
        "**1.Setting up Pyspark in Colab**\n",
        "a. The first step is to download java. "
      ]
    },
    {
      "cell_type": "code",
      "metadata": {
        "id": "sfEslvo9H5TQ"
      },
      "source": [
        "!apt-get install openjdk-8-jdk-headless -qq > /dev/null"
      ],
      "execution_count": null,
      "outputs": []
    },
    {
      "cell_type": "markdown",
      "metadata": {
        "id": "-Z_kqO69ctmE"
      },
      "source": [
        "**Observation**:- Why is the above command used? <br>\n",
        "<br> The above command is used to install Java."
      ]
    },
    {
      "cell_type": "code",
      "metadata": {
        "id": "WPehR0osIL5i"
      },
      "source": [
        "!wget -q https://mirrors.estointernet.in/apache/spark/spark-3.1.2/spark-3.1.2-bin-hadoop3.2.tgz"
      ],
      "execution_count": null,
      "outputs": []
    },
    {
      "cell_type": "markdown",
      "metadata": {
        "id": "QPjIHQzgdF5r"
      },
      "source": [
        "**Observation:** What is the use of wget function? <br> <br>\n",
        "Wget is a free GNU command-line utility tool used to download files from the internet. It retrieves files using HTTP, HTTPS, and FTP protocols.\n",
        "\n",
        "It serves as a tool to sustain unstable and slow network connections. If a network problem occurs during a download, this helpful software can resume retrieving the files without starting from scratch."
      ]
    },
    {
      "cell_type": "code",
      "metadata": {
        "id": "UVvglDf8IdIS"
      },
      "source": [
        "mv spark-3.1.2-bin-hadoop3.2.tgz spark3.tgz"
      ],
      "execution_count": null,
      "outputs": []
    },
    {
      "cell_type": "markdown",
      "metadata": {
        "id": "1Ds1YdeLdZzj"
      },
      "source": [
        "**Observation:** What is a mv function and why is it used here? <br>  <br> Linux mv command is used to move existing file or directory from one location to another. It is also used to rename a file or directory. If you want to rename a single directory or file then 'mv' option will be better to use.\n",
        "\n"
      ]
    },
    {
      "cell_type": "code",
      "metadata": {
        "id": "q8Qhdn29ITUs"
      },
      "source": [
        "!tar xf spark3.tgz\n",
        "!pip install -q findspark"
      ],
      "execution_count": null,
      "outputs": []
    },
    {
      "cell_type": "markdown",
      "metadata": {
        "id": "UbwRct7Sdp0b"
      },
      "source": [
        "**Observation:** What is the use of the tar function?<br> <br>\n",
        "The Linux ‘tar’ stands for tape archive, is used to create Archive and extract the Archive files. tar command in Linux is one of the important command which provides archiving functionality in Linux. We can use Linux tar command to create compressed or uncompressed Archive files and also maintain and modify them. \n",
        "```\n",
        "tar [options] [archive-file] [file or directory to be archived]\n",
        "```"
      ]
    },
    {
      "cell_type": "markdown",
      "metadata": {
        "id": "_rDXADfoOlvO"
      },
      "source": [
        "The findspark library. It will locate Spark on the system and import it as a regular library."
      ]
    },
    {
      "cell_type": "code",
      "metadata": {
        "id": "FZAHX-_HKLPK"
      },
      "source": [
        "!pip install -q findspark"
      ],
      "execution_count": null,
      "outputs": []
    },
    {
      "cell_type": "markdown",
      "metadata": {
        "id": "EpcnzH5aO0fl"
      },
      "source": [
        "Now that we have installed all the necessary dependencies in Colab, it is time to set the environment path. This will enable us to run Pyspark in the Colab environment."
      ]
    },
    {
      "cell_type": "code",
      "metadata": {
        "id": "9vomU0oZKXHM"
      },
      "source": [
        "import os\n",
        "os.environ[\"JAVA_HOME\"] = \"/usr/lib/jvm/java-8-openjdk-amd64\"\n",
        "os.environ[\"SPARK_HOME\"] = \"/content/spark-3.1.2-bin-hadoop3.2\""
      ],
      "execution_count": null,
      "outputs": []
    },
    {
      "cell_type": "markdown",
      "metadata": {
        "id": "DGtEfxT0PB_W"
      },
      "source": [
        "Pyspark is located and initiated in your system by using these two commands"
      ]
    },
    {
      "cell_type": "code",
      "metadata": {
        "id": "fEVkfdnlKmGN"
      },
      "source": [
        "import findspark\n",
        "findspark.init()"
      ],
      "execution_count": null,
      "outputs": []
    },
    {
      "cell_type": "code",
      "metadata": {
        "colab": {
          "base_uri": "https://localhost:8080/",
          "height": 35
        },
        "id": "8F0J-hU3LDQK",
        "outputId": "ddd3cd02-e87f-46b1-905e-e5909cce4858"
      },
      "source": [
        "findspark.find()"
      ],
      "execution_count": null,
      "outputs": [
        {
          "output_type": "execute_result",
          "data": {
            "application/vnd.google.colaboratory.intrinsic+json": {
              "type": "string"
            },
            "text/plain": [
              "'/content/spark-3.1.2-bin-hadoop3.2'"
            ]
          },
          "metadata": {},
          "execution_count": 11
        }
      ]
    },
    {
      "cell_type": "markdown",
      "metadata": {
        "id": "78S1k2_7QleL"
      },
      "source": [
        "we can import SparkSession from pyspark.sql and create a SparkSession, which is the entry point to Spark."
      ]
    },
    {
      "cell_type": "code",
      "metadata": {
        "id": "rBs1mhETLUMk"
      },
      "source": [
        "from pyspark.sql import SparkSession\n",
        "spark = SparkSession.builder\\\n",
        "        .master(\"local\")\\\n",
        "        .appName(\"Colab\")\\\n",
        "        .config('spark.ui.port', '4050')\\\n",
        "        .getOrCreate()"
      ],
      "execution_count": null,
      "outputs": []
    },
    {
      "cell_type": "markdown",
      "metadata": {
        "id": "L2Yp2vbjQxQ9"
      },
      "source": [
        "Finally, print the SparkSession variable."
      ]
    },
    {
      "cell_type": "code",
      "metadata": {
        "colab": {
          "base_uri": "https://localhost:8080/",
          "height": 219
        },
        "id": "KDHq-vnmNEbA",
        "outputId": "cb0a191f-5598-4802-be91-4f7c813e0b7e"
      },
      "source": [
        "spark"
      ],
      "execution_count": null,
      "outputs": [
        {
          "output_type": "execute_result",
          "data": {
            "text/html": [
              "\n",
              "            <div>\n",
              "                <p><b>SparkSession - in-memory</b></p>\n",
              "                \n",
              "        <div>\n",
              "            <p><b>SparkContext</b></p>\n",
              "\n",
              "            <p><a href=\"http://34dcfe420258:4050\">Spark UI</a></p>\n",
              "\n",
              "            <dl>\n",
              "              <dt>Version</dt>\n",
              "                <dd><code>v3.1.2</code></dd>\n",
              "              <dt>Master</dt>\n",
              "                <dd><code>local</code></dd>\n",
              "              <dt>AppName</dt>\n",
              "                <dd><code>Colab</code></dd>\n",
              "            </dl>\n",
              "        </div>\n",
              "        \n",
              "            </div>\n",
              "        "
            ],
            "text/plain": [
              "<pyspark.sql.session.SparkSession at 0x7fd4bc2b2f90>"
            ]
          },
          "metadata": {},
          "execution_count": 13
        }
      ]
    },
    {
      "cell_type": "markdown",
      "metadata": {
        "id": "F4s_19-heJsm"
      },
      "source": [
        "If you have completed so far, you are ready to move forward with Pyspark\n"
      ]
    },
    {
      "cell_type": "markdown",
      "metadata": {
        "id": "iynA6IfBRU4w"
      },
      "source": [
        "**Loading Data into Pyspark**"
      ]
    },
    {
      "cell_type": "code",
      "metadata": {
        "id": "l4st6v4WSEkS"
      },
      "source": [
        "df = spark.read.csv(\"StudentsPerformance.csv\", header=True, inferSchema=True)"
      ],
      "execution_count": null,
      "outputs": []
    },
    {
      "cell_type": "markdown",
      "metadata": {
        "id": "V_uQ88N_U_yX"
      },
      "source": [
        "**Data Exploration with Pyspark DF**"
      ]
    },
    {
      "cell_type": "markdown",
      "metadata": {
        "id": "yzqm7pkYVXvd"
      },
      "source": [
        "First job is to check out with the schema"
      ]
    },
    {
      "cell_type": "code",
      "metadata": {
        "colab": {
          "base_uri": "https://localhost:8080/"
        },
        "id": "zoQUjn5bVdOz",
        "outputId": "455ef100-8a5e-4de2-801d-d342b1d420c3"
      },
      "source": [
        "df.printSchema()"
      ],
      "execution_count": null,
      "outputs": [
        {
          "output_type": "stream",
          "name": "stdout",
          "text": [
            "root\n",
            " |-- gender: string (nullable = true)\n",
            " |-- race/ethnicity: string (nullable = true)\n",
            " |-- parental level of education: string (nullable = true)\n",
            " |-- lunch: string (nullable = true)\n",
            " |-- test preparation course: string (nullable = true)\n",
            " |-- math score: integer (nullable = true)\n",
            " |-- reading score: integer (nullable = true)\n",
            " |-- writing score: integer (nullable = true)\n",
            "\n"
          ]
        }
      ]
    },
    {
      "cell_type": "markdown",
      "metadata": {
        "id": "6_FGfLzWVpZG"
      },
      "source": [
        "Displaying the rows in the dataset"
      ]
    },
    {
      "cell_type": "code",
      "metadata": {
        "colab": {
          "base_uri": "https://localhost:8080/"
        },
        "id": "FZTe0urDVs3-",
        "outputId": "077b1a48-dc71-4536-cb4f-bc891bf237c4"
      },
      "source": [
        "df.show(10)"
      ],
      "execution_count": null,
      "outputs": [
        {
          "output_type": "stream",
          "name": "stdout",
          "text": [
            "+------+--------------+---------------------------+------------+-----------------------+----------+-------------+-------------+\n",
            "|gender|race/ethnicity|parental level of education|       lunch|test preparation course|math score|reading score|writing score|\n",
            "+------+--------------+---------------------------+------------+-----------------------+----------+-------------+-------------+\n",
            "|female|       group B|          bachelor's degree|    standard|                   none|        72|           72|           74|\n",
            "|female|       group C|               some college|    standard|              completed|        69|           90|           88|\n",
            "|female|       group B|            master's degree|    standard|                   none|        90|           95|           93|\n",
            "|  male|       group A|         associate's degree|free/reduced|                   none|        47|           57|           44|\n",
            "|  male|       group C|               some college|    standard|                   none|        76|           78|           75|\n",
            "|female|       group B|         associate's degree|    standard|                   none|        71|           83|           78|\n",
            "|female|       group B|               some college|    standard|              completed|        88|           95|           92|\n",
            "|  male|       group B|               some college|free/reduced|                   none|        40|           43|           39|\n",
            "|  male|       group D|                high school|free/reduced|              completed|        64|           64|           67|\n",
            "|female|       group B|                high school|free/reduced|                   none|        38|           60|           50|\n",
            "+------+--------------+---------------------------+------------+-----------------------+----------+-------------+-------------+\n",
            "only showing top 10 rows\n",
            "\n"
          ]
        }
      ]
    },
    {
      "cell_type": "markdown",
      "metadata": {
        "id": "6N6JaEnYWHh4"
      },
      "source": [
        "Displaying the first 10 rows of the dataset"
      ]
    },
    {
      "cell_type": "code",
      "metadata": {
        "colab": {
          "base_uri": "https://localhost:8080/"
        },
        "id": "uXfzLTYsepgL",
        "outputId": "b6b04e0b-5a14-4369-8c9b-47095260f680"
      },
      "source": [
        "df.head()"
      ],
      "execution_count": null,
      "outputs": [
        {
          "output_type": "execute_result",
          "data": {
            "text/plain": [
              "Row(gender='female', race/ethnicity='group B', parental level of education=\"bachelor's degree\", lunch='standard', test preparation course='none', math score=72, reading score=72, writing score=74)"
            ]
          },
          "metadata": {},
          "execution_count": 18
        }
      ]
    },
    {
      "cell_type": "code",
      "metadata": {
        "colab": {
          "base_uri": "https://localhost:8080/"
        },
        "id": "mDPgYHvkWL2M",
        "outputId": "5744d084-a500-4d01-bfdc-9b58ffc8a346"
      },
      "source": [
        "df.count()"
      ],
      "execution_count": null,
      "outputs": [
        {
          "output_type": "execute_result",
          "data": {
            "text/plain": [
              "1000"
            ]
          },
          "metadata": {},
          "execution_count": 19
        }
      ]
    },
    {
      "cell_type": "markdown",
      "metadata": {
        "id": "H2EkndgDWSyL"
      },
      "source": [
        "The count command is used for displaying the number of rows in the dataset"
      ]
    },
    {
      "cell_type": "code",
      "metadata": {
        "colab": {
          "base_uri": "https://localhost:8080/"
        },
        "id": "jsZFtpDyXYlX",
        "outputId": "493b7646-c32b-4740-ad88-bedf9ae777cc"
      },
      "source": [
        "df.select()"
      ],
      "execution_count": null,
      "outputs": [
        {
          "output_type": "execute_result",
          "data": {
            "text/plain": [
              "DataFrame[]"
            ]
          },
          "metadata": {},
          "execution_count": 20
        }
      ]
    },
    {
      "cell_type": "markdown",
      "metadata": {
        "id": "HVGr2_87YAlC"
      },
      "source": [
        "The above command is used to display the columns specified"
      ]
    },
    {
      "cell_type": "markdown",
      "metadata": {
        "id": "OU0O9h5MfJjY"
      },
      "source": [
        "**Observation:** Try displaying specific columns and display the output"
      ]
    },
    {
      "cell_type": "markdown",
      "metadata": {
        "id": "8BZmGnTuRyc_"
      },
      "source": [
        "**Describing columns**:- The columns are described using this command"
      ]
    },
    {
      "cell_type": "code",
      "metadata": {
        "colab": {
          "base_uri": "https://localhost:8080/"
        },
        "id": "fzgbuE_NYSdm",
        "outputId": "19f45026-5016-41c1-cb0e-673fd874b896"
      },
      "source": [
        "df.describe().show()"
      ],
      "execution_count": null,
      "outputs": [
        {
          "output_type": "stream",
          "name": "stdout",
          "text": [
            "+-------+------+--------------+---------------------------+------------+-----------------------+------------------+------------------+-----------------+\n",
            "|summary|gender|race/ethnicity|parental level of education|       lunch|test preparation course|        math score|     reading score|    writing score|\n",
            "+-------+------+--------------+---------------------------+------------+-----------------------+------------------+------------------+-----------------+\n",
            "|  count|  1000|          1000|                       1000|        1000|                   1000|              1000|              1000|             1000|\n",
            "|   mean|  null|          null|                       null|        null|                   null|            66.089|            69.169|           68.054|\n",
            "| stddev|  null|          null|                       null|        null|                   null|15.163080096009454|14.600191937252223|15.19565701086966|\n",
            "|    min|female|       group A|         associate's degree|free/reduced|              completed|                 0|                17|               10|\n",
            "|    max|  male|       group E|           some high school|    standard|                   none|               100|               100|              100|\n",
            "+-------+------+--------------+---------------------------+------------+-----------------------+------------------+------------------+-----------------+\n",
            "\n"
          ]
        }
      ]
    },
    {
      "cell_type": "markdown",
      "metadata": {
        "id": "6CvC9tDplxNc"
      },
      "source": [
        "**Another way of uploading files:** Alternatively to downloading the zip file to the drive and uploading. You may also download the file of your choice in the local disk and then get it into the dataframe with the method mentioned below"
      ]
    },
    {
      "cell_type": "code",
      "metadata": {
        "colab": {
          "resources": {
            "http://localhost:8080/nbextensions/google.colab/files.js": {
              "data": "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",
              "ok": true,
              "headers": [
                [
                  "content-type",
                  "application/javascript"
                ]
              ],
              "status": 200,
              "status_text": ""
            }
          },
          "base_uri": "https://localhost:8080/",
          "height": 73
        },
        "id": "Jam-C86sleIq",
        "outputId": "936d1e07-b446-4096-b79c-1359d7a63f39"
      },
      "source": [
        "from google.colab import files\n",
        "\n",
        "\n",
        "uploaded = files.upload()\n"
      ],
      "execution_count": null,
      "outputs": [
        {
          "output_type": "display_data",
          "data": {
            "text/html": [
              "\n",
              "     <input type=\"file\" id=\"files-841862da-3ca4-448f-9166-ba73dc0cbda4\" name=\"files[]\" multiple disabled\n",
              "        style=\"border:none\" />\n",
              "     <output id=\"result-841862da-3ca4-448f-9166-ba73dc0cbda4\">\n",
              "      Upload widget is only available when the cell has been executed in the\n",
              "      current browser session. Please rerun this cell to enable.\n",
              "      </output>\n",
              "      <script src=\"/nbextensions/google.colab/files.js\"></script> "
            ],
            "text/plain": [
              "<IPython.core.display.HTML object>"
            ]
          },
          "metadata": {}
        },
        {
          "output_type": "stream",
          "name": "stdout",
          "text": [
            "Saving StudentsPerformance.csv to StudentsPerformance (1).csv\n"
          ]
        }
      ]
    },
    {
      "cell_type": "markdown",
      "metadata": {
        "id": "lUTjJ1cwnNS9"
      },
      "source": [
        "**Observation:**(To be done by the student: Try uploading any dataset through with analytical functions can be operated upon )"
      ]
    },
    {
      "cell_type": "code",
      "metadata": {
        "id": "pK7qJ7I4SNHb"
      },
      "source": [
        "df1 = spark.read.csv('StudentsPerformance.csv', header=True)"
      ],
      "execution_count": null,
      "outputs": []
    },
    {
      "cell_type": "markdown",
      "metadata": {
        "id": "SGego7E6mi_A"
      },
      "source": [
        "**Schema of Mall_Customers**"
      ]
    },
    {
      "cell_type": "code",
      "metadata": {
        "colab": {
          "base_uri": "https://localhost:8080/"
        },
        "id": "PZs-Tfbrmr2V",
        "outputId": "3b56d8b1-12ed-403f-b591-11d346b805da"
      },
      "source": [
        "df1.printSchema()"
      ],
      "execution_count": null,
      "outputs": [
        {
          "output_type": "stream",
          "name": "stdout",
          "text": [
            "root\n",
            " |-- gender: string (nullable = true)\n",
            " |-- race/ethnicity: string (nullable = true)\n",
            " |-- parental level of education: string (nullable = true)\n",
            " |-- lunch: string (nullable = true)\n",
            " |-- test preparation course: string (nullable = true)\n",
            " |-- math score: string (nullable = true)\n",
            " |-- reading score: string (nullable = true)\n",
            " |-- writing score: string (nullable = true)\n",
            "\n"
          ]
        }
      ]
    },
    {
      "cell_type": "markdown",
      "metadata": {
        "id": "0O9yq2Z2n6VT"
      },
      "source": [
        "**Implement:** Write the command to display the first 5 entries of the dataset you have downloaded using *files.upload()* function"
      ]
    },
    {
      "cell_type": "code",
      "metadata": {
        "colab": {
          "base_uri": "https://localhost:8080/"
        },
        "id": "l0JBCqXGnnOZ",
        "outputId": "c18a9d29-b5e1-4121-9834-215196816f0f"
      },
      "source": [
        "df1.head(5)"
      ],
      "execution_count": null,
      "outputs": [
        {
          "output_type": "execute_result",
          "data": {
            "text/plain": [
              "[Row(gender='female', race/ethnicity='group B', parental level of education=\"bachelor's degree\", lunch='standard', test preparation course='none', math score='72', reading score='72', writing score='74'),\n",
              " Row(gender='female', race/ethnicity='group C', parental level of education='some college', lunch='standard', test preparation course='completed', math score='69', reading score='90', writing score='88'),\n",
              " Row(gender='female', race/ethnicity='group B', parental level of education=\"master's degree\", lunch='standard', test preparation course='none', math score='90', reading score='95', writing score='93'),\n",
              " Row(gender='male', race/ethnicity='group A', parental level of education=\"associate's degree\", lunch='free/reduced', test preparation course='none', math score='47', reading score='57', writing score='44'),\n",
              " Row(gender='male', race/ethnicity='group C', parental level of education='some college', lunch='standard', test preparation course='none', math score='76', reading score='78', writing score='75')]"
            ]
          },
          "metadata": {},
          "execution_count": 25
        }
      ]
    },
    {
      "cell_type": "markdown",
      "metadata": {
        "id": "IqarBQlHoYpV"
      },
      "source": [
        "**Implementation:** What is the total number of records in your dataset?"
      ]
    },
    {
      "cell_type": "code",
      "metadata": {
        "id": "tmed6aAIoXnb",
        "colab": {
          "base_uri": "https://localhost:8080/"
        },
        "outputId": "0542d14b-e193-4ced-fce5-a520b698b739"
      },
      "source": [
        "df1.count()"
      ],
      "execution_count": null,
      "outputs": [
        {
          "output_type": "execute_result",
          "data": {
            "text/plain": [
              "1000"
            ]
          },
          "metadata": {},
          "execution_count": 26
        }
      ]
    },
    {
      "cell_type": "markdown",
      "metadata": {
        "id": "cB8gAPsCouGj"
      },
      "source": [
        "**Displaying specific columns:** You can display specific coloums using df.select() command\n",
        "**Implementation:** Display any 2 rows in the dataset you have uploaded into the dataframe"
      ]
    },
    {
      "cell_type": "code",
      "metadata": {
        "colab": {
          "base_uri": "https://localhost:8080/"
        },
        "id": "Sp9LofcQpGiI",
        "outputId": "ba9641de-3d17-4ad7-8853-7463bc35724d"
      },
      "source": [
        "df1.select(\"gender\",\"math score\").show()"
      ],
      "execution_count": null,
      "outputs": [
        {
          "output_type": "stream",
          "name": "stdout",
          "text": [
            "+------+----------+\n",
            "|gender|math score|\n",
            "+------+----------+\n",
            "|female|        72|\n",
            "|female|        69|\n",
            "|female|        90|\n",
            "|  male|        47|\n",
            "|  male|        76|\n",
            "|female|        71|\n",
            "|female|        88|\n",
            "|  male|        40|\n",
            "|  male|        64|\n",
            "|female|        38|\n",
            "|  male|        58|\n",
            "|  male|        40|\n",
            "|female|        65|\n",
            "|  male|        78|\n",
            "|female|        50|\n",
            "|female|        69|\n",
            "|  male|        88|\n",
            "|female|        18|\n",
            "|  male|        46|\n",
            "|female|        54|\n",
            "+------+----------+\n",
            "only showing top 20 rows\n",
            "\n"
          ]
        }
      ]
    },
    {
      "cell_type": "markdown",
      "metadata": {
        "id": "5jJX7TDqpzcX"
      },
      "source": [
        "**Implementation:** Try finding the count max and min of all the columns in your dataframe. "
      ]
    },
    {
      "cell_type": "code",
      "metadata": {
        "id": "vrk5_hqrphA3",
        "colab": {
          "base_uri": "https://localhost:8080/"
        },
        "outputId": "b5bd14f2-1354-485f-9b48-4454ea1d919b"
      },
      "source": [
        "df1.describe().show()"
      ],
      "execution_count": null,
      "outputs": [
        {
          "output_type": "stream",
          "name": "stdout",
          "text": [
            "+-------+------+--------------+---------------------------+------------+-----------------------+------------------+------------------+-----------------+\n",
            "|summary|gender|race/ethnicity|parental level of education|       lunch|test preparation course|        math score|     reading score|    writing score|\n",
            "+-------+------+--------------+---------------------------+------------+-----------------------+------------------+------------------+-----------------+\n",
            "|  count|  1000|          1000|                       1000|        1000|                   1000|              1000|              1000|             1000|\n",
            "|   mean|  null|          null|                       null|        null|                   null|            66.089|            69.169|           68.054|\n",
            "| stddev|  null|          null|                       null|        null|                   null|15.163080096009454|14.600191937252223|15.19565701086966|\n",
            "|    min|female|       group A|         associate's degree|free/reduced|              completed|                 0|               100|               10|\n",
            "|    max|  male|       group E|           some high school|    standard|                   none|                99|                99|               99|\n",
            "+-------+------+--------------+---------------------------+------------+-----------------------+------------------+------------------+-----------------+\n",
            "\n"
          ]
        }
      ]
    },
    {
      "cell_type": "markdown",
      "metadata": {
        "id": "5sttBb74rH3W"
      },
      "source": [
        "Computing distinct values of categorical columns"
      ]
    },
    {
      "cell_type": "code",
      "metadata": {
        "colab": {
          "base_uri": "https://localhost:8080/"
        },
        "id": "WaZHzqbSrQzX",
        "outputId": "003c1b23-fed6-4e7b-f8fa-eaa4e51f86d6"
      },
      "source": [
        "df1.select(\"parental level of education\").distinct().show()"
      ],
      "execution_count": null,
      "outputs": [
        {
          "output_type": "stream",
          "name": "stdout",
          "text": [
            "+---------------------------+\n",
            "|parental level of education|\n",
            "+---------------------------+\n",
            "|           some high school|\n",
            "|         associate's degree|\n",
            "|                high school|\n",
            "|          bachelor's degree|\n",
            "|            master's degree|\n",
            "|               some college|\n",
            "+---------------------------+\n",
            "\n"
          ]
        }
      ]
    },
    {
      "cell_type": "markdown",
      "metadata": {
        "id": "6RIB-2eitJwv"
      },
      "source": [
        "**Aggregate with Groupby**"
      ]
    },
    {
      "cell_type": "code",
      "metadata": {
        "colab": {
          "base_uri": "https://localhost:8080/"
        },
        "id": "I54DC0TwtNG0",
        "outputId": "81ebbed6-0133-40d4-b238-5938a712beca"
      },
      "source": [
        "from pyspark.sql import functions as F\n",
        "df1.groupBy(\"parental level of education\").agg(F.avg(\"reading score\")).show()"
      ],
      "execution_count": null,
      "outputs": [
        {
          "output_type": "stream",
          "name": "stdout",
          "text": [
            "+---------------------------+------------------+\n",
            "|parental level of education|avg(reading score)|\n",
            "+---------------------------+------------------+\n",
            "|           some high school| 66.93854748603351|\n",
            "|         associate's degree| 70.92792792792793|\n",
            "|                high school| 64.70408163265306|\n",
            "|          bachelor's degree|              73.0|\n",
            "|            master's degree| 75.37288135593221|\n",
            "|               some college| 69.46017699115045|\n",
            "+---------------------------+------------------+\n",
            "\n"
          ]
        }
      ]
    },
    {
      "cell_type": "code",
      "metadata": {
        "colab": {
          "base_uri": "https://localhost:8080/"
        },
        "id": "GqMN6yc1xQJA",
        "outputId": "7a66a3e9-29e8-46df-f6d2-d1f0c8f48cf6"
      },
      "source": [
        "from pyspark.sql import functions as F\n",
        "df1.groupBy(\"parental level of education\").agg(F.max(\"reading score\")).show()"
      ],
      "execution_count": null,
      "outputs": [
        {
          "output_type": "stream",
          "name": "stdout",
          "text": [
            "+---------------------------+------------------+\n",
            "|parental level of education|max(reading score)|\n",
            "+---------------------------+------------------+\n",
            "|           some high school|                97|\n",
            "|         associate's degree|                96|\n",
            "|                high school|                99|\n",
            "|          bachelor's degree|                97|\n",
            "|            master's degree|                99|\n",
            "|               some college|                97|\n",
            "+---------------------------+------------------+\n",
            "\n"
          ]
        }
      ]
    },
    {
      "cell_type": "code",
      "metadata": {
        "colab": {
          "base_uri": "https://localhost:8080/"
        },
        "id": "dod_8UlExWwg",
        "outputId": "0dd3c642-3663-4f12-d497-d0c422606cce"
      },
      "source": [
        "from pyspark.sql import functions as F\n",
        "df1.groupBy(\"parental level of education\").agg(F.min(\"writing score\")).show()"
      ],
      "execution_count": null,
      "outputs": [
        {
          "output_type": "stream",
          "name": "stdout",
          "text": [
            "+---------------------------+------------------+\n",
            "|parental level of education|min(writing score)|\n",
            "+---------------------------+------------------+\n",
            "|           some high school|                10|\n",
            "|         associate's degree|               100|\n",
            "|                high school|               100|\n",
            "|          bachelor's degree|               100|\n",
            "|            master's degree|               100|\n",
            "|               some college|                19|\n",
            "+---------------------------+------------------+\n",
            "\n"
          ]
        }
      ]
    },
    {
      "cell_type": "code",
      "metadata": {
        "colab": {
          "base_uri": "https://localhost:8080/"
        },
        "id": "2ss65yW_xhp5",
        "outputId": "83a26240-5226-4779-b35a-e11041cf10f1"
      },
      "source": [
        "from pyspark.sql import functions as F\n",
        "df1.groupBy(\"gender\").agg(F.min(\"test preparation course\")).show()"
      ],
      "execution_count": null,
      "outputs": [
        {
          "output_type": "stream",
          "name": "stdout",
          "text": [
            "+------+----------------------------+\n",
            "|gender|min(test preparation course)|\n",
            "+------+----------------------------+\n",
            "|female|                   completed|\n",
            "|  male|                   completed|\n",
            "+------+----------------------------+\n",
            "\n"
          ]
        }
      ]
    },
    {
      "cell_type": "markdown",
      "metadata": {
        "id": "sXTUCb5Yx3w6"
      },
      "source": [
        "**Implementation:** If you have encountered any errors because of the columns name try fixing it before proceeding. Also write the code for the same"
      ]
    },
    {
      "cell_type": "markdown",
      "metadata": {
        "id": "4wHAaz8syQIa"
      },
      "source": [
        "**Counting and Removing Null values**"
      ]
    },
    {
      "cell_type": "markdown",
      "metadata": {
        "id": "n2dmxYMHyj1T"
      },
      "source": [
        "The columns having null values can be displayed using the command below. For removing it using fillna function. But try it on your own for your own dataset"
      ]
    },
    {
      "cell_type": "code",
      "metadata": {
        "colab": {
          "base_uri": "https://localhost:8080/"
        },
        "id": "yAZ4629aySc7",
        "outputId": "fd3f5791-1e74-4ea2-f7fb-df5f320c1e16"
      },
      "source": [
        "df1.select([F.count(F.when(F.isnull(c), c)).alias(c) for c in df1.columns]).show()"
      ],
      "execution_count": null,
      "outputs": [
        {
          "output_type": "stream",
          "name": "stdout",
          "text": [
            "+------+--------------+---------------------------+-----+-----------------------+----------+-------------+-------------+\n",
            "|gender|race/ethnicity|parental level of education|lunch|test preparation course|math score|reading score|writing score|\n",
            "+------+--------------+---------------------------+-----+-----------------------+----------+-------------+-------------+\n",
            "|     0|             0|                          0|    0|                      0|         0|            0|            0|\n",
            "+------+--------------+---------------------------+-----+-----------------------+----------+-------------+-------------+\n",
            "\n"
          ]
        }
      ]
    },
    {
      "cell_type": "markdown",
      "metadata": {
        "id": "91t8yryJy6Nd"
      },
      "source": [
        "**Save to file:** After analysis save the output. Finally, after doing all the analysis if you want to save your results into a new CSV file, you can do that using the write.csv() function."
      ]
    },
    {
      "cell_type": "code",
      "metadata": {
        "id": "X2nbBLnpzZ2i"
      },
      "source": [
        "df.write.csv(\"final_score.csv\") #the path you want the file to be saved in the drive has to be mentioned here"
      ],
      "execution_count": null,
      "outputs": []
    },
    {
      "cell_type": "markdown",
      "metadata": {
        "id": "KiiMymVhQdLD"
      },
      "source": [
        "# Extra Queries\n",
        "## As per the ethnicity compute the avg of math score"
      ]
    },
    {
      "cell_type": "code",
      "metadata": {
        "colab": {
          "base_uri": "https://localhost:8080/"
        },
        "id": "1xr9vhtM8fqU",
        "outputId": "46b85b92-3ba2-4f4a-dff3-618daa5d9d93"
      },
      "source": [
        "df1.groupBy(\"race/ethnicity\").agg(F.avg(\"math score\")).show()"
      ],
      "execution_count": null,
      "outputs": [
        {
          "output_type": "stream",
          "name": "stdout",
          "text": [
            "+--------------+-----------------+\n",
            "|race/ethnicity|  avg(math score)|\n",
            "+--------------+-----------------+\n",
            "|       group B|63.45263157894737|\n",
            "|       group C|64.46394984326018|\n",
            "|       group D|67.36259541984732|\n",
            "|       group A|61.62921348314607|\n",
            "|       group E|73.82142857142857|\n",
            "+--------------+-----------------+\n",
            "\n"
          ]
        }
      ]
    },
    {
      "cell_type": "markdown",
      "metadata": {
        "id": "MjL3NfGaQndi"
      },
      "source": [
        "Lowest Math  Score "
      ]
    },
    {
      "cell_type": "code",
      "metadata": {
        "id": "JXKIppLAP5ch"
      },
      "source": [
        "from pyspark.sql.functions import desc, asc"
      ],
      "execution_count": null,
      "outputs": []
    },
    {
      "cell_type": "code",
      "metadata": {
        "colab": {
          "base_uri": "https://localhost:8080/"
        },
        "id": "fbgUwgggOvot",
        "outputId": "ac238894-7acf-44f3-9e43-bf1f57f2008d"
      },
      "source": [
        "highest_mathScore = df1.orderBy(['math score'],ascending =[True]).take(1)\n",
        "print(f\"The Level of Education is {highest_mathScore[0][2]} with {highest_mathScore[0][5]} as the Lowest Math Score\")"
      ],
      "execution_count": null,
      "outputs": [
        {
          "output_type": "stream",
          "name": "stdout",
          "text": [
            "The Level of Education is some high school with 0 as the Lowest Math Score\n"
          ]
        }
      ]
    },
    {
      "cell_type": "markdown",
      "metadata": {
        "id": "1oTuXS0nQ1MW"
      },
      "source": [
        "Highest Reading  Score "
      ]
    },
    {
      "cell_type": "code",
      "metadata": {
        "colab": {
          "base_uri": "https://localhost:8080/"
        },
        "id": "_dUgADKuQGCc",
        "outputId": "414cf7a8-4f10-4ac0-98ae-31eb029aaacf"
      },
      "source": [
        "highest_readScore = df1.orderBy(['reading score'],ascending =[False]).take(1)\n",
        "print(f\"The Level of Education is {highest_readScore[0][2]} with {highest_readScore[0][6]} as the Highest Reading Score\")"
      ],
      "execution_count": null,
      "outputs": [
        {
          "output_type": "stream",
          "name": "stdout",
          "text": [
            "The Level of Education is high school with 99 as the Highest Reading Score\n"
          ]
        }
      ]
    },
    {
      "cell_type": "markdown",
      "metadata": {
        "id": "ere2O5c-Rirg"
      },
      "source": [
        "Highest Writing  Score "
      ]
    },
    {
      "cell_type": "code",
      "metadata": {
        "colab": {
          "base_uri": "https://localhost:8080/"
        },
        "id": "mYT6cAaVVVft",
        "outputId": "e5ea4683-89e7-4026-eaa6-146727c9ae87"
      },
      "source": [
        "highest_writeScore = df1.orderBy(['writing score'],ascending =[False]).take(1)\n",
        "print(f\"The Level of Education is {highest_writeScore[0][2]} with {highest_writeScore[0][7]} as the Highest Writing Score\")"
      ],
      "execution_count": null,
      "outputs": [
        {
          "output_type": "stream",
          "name": "stdout",
          "text": [
            "The Level of Education is bachelor's degree with 99 as the Highest Writing Score\n"
          ]
        }
      ]
    }
  ]
}