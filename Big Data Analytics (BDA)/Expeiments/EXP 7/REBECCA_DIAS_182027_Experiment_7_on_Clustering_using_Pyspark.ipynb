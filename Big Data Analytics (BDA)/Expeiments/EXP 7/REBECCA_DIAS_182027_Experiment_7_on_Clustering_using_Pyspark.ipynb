{
  "nbformat": 4,
  "nbformat_minor": 0,
  "metadata": {
    "colab": {
      "name": " REBECCA DIAS_182027 - Experiment 7 on Clustering using Pyspark  ",
      "provenance": [],
      "collapsed_sections": []
    },
    "kernelspec": {
      "name": "python3",
      "display_name": "Python 3"
    },
    "language_info": {
      "name": "python"
    }
  },
  "cells": [
    {
      "cell_type": "markdown",
      "metadata": {
        "id": "0YQSLcuUVIGa"
      },
      "source": [
        "**Name of the Student**    : Rebecca Dias                                     <br>   **Rollno** :     19                                                 <br>               **PID**: 182027\n",
        "\n",
        "\n",
        "\n",
        "\n",
        "\n",
        "\n",
        "\n"
      ]
    },
    {
      "cell_type": "markdown",
      "metadata": {
        "id": "mgIxzxXLLcpt"
      },
      "source": [
        "**1. Distance metrics**"
      ]
    },
    {
      "cell_type": "markdown",
      "metadata": {
        "id": "ZFhTR5dkL85h"
      },
      "source": [
        "Implement the different distance metrics\n",
        "1. Jaccard distance\n"
      ]
    },
    {
      "cell_type": "code",
      "metadata": {
        "colab": {
          "base_uri": "https://localhost:8080/"
        },
        "id": "iLHG7Uhw7xDN",
        "outputId": "2ac3a195-38ff-4fec-af22-4a42c85f2b48"
      },
      "source": [
        "import numpy as np\n",
        "from sklearn.metrics import jaccard_score\n",
        "x=np.array([0,1,1])\n",
        "y=np.array([1,1,1])\n",
        "z=jaccard_score(x,y)\n",
        "z1=1-z\n",
        "print(\"The Jaccard similarity between X and Y\" +str(z))\n",
        "print(\"The Jaccard distance between X and Y\" +str(z1))"
      ],
      "execution_count": null,
      "outputs": [
        {
          "output_type": "stream",
          "name": "stdout",
          "text": [
            "The Jaccard similarity between X and Y0.6666666666666666\n",
            "The Jaccard distance between X and Y0.33333333333333337\n"
          ]
        }
      ]
    },
    {
      "cell_type": "markdown",
      "metadata": {
        "id": "CaiNrsu-8HlU"
      },
      "source": [
        "2. cosine distance\n"
      ]
    },
    {
      "cell_type": "code",
      "metadata": {
        "colab": {
          "base_uri": "https://localhost:8080/"
        },
        "id": "lQCPM4NJ8JW7",
        "outputId": "704f111d-f904-4cf6-fa8c-85b8aad7f8ac"
      },
      "source": [
        "from scipy import spatial\n",
        "\n",
        "datasetI=[3,45,7,2]\n",
        "datasetII=[2,54,13,19]\n",
        "result=1-spatial.distance.cosine(datasetI,datasetII)\n",
        "print(\"The cosine distance is\" +str(result))"
      ],
      "execution_count": null,
      "outputs": [
        {
          "output_type": "stream",
          "name": "stdout",
          "text": [
            "The cosine distance is0.9559091030465309\n"
          ]
        }
      ]
    },
    {
      "cell_type": "markdown",
      "metadata": {
        "id": "xo7BEj-t8J_1"
      },
      "source": [
        "3. Euclidean distance\n"
      ]
    },
    {
      "cell_type": "code",
      "metadata": {
        "colab": {
          "base_uri": "https://localhost:8080/"
        },
        "id": "1oLKFG-e8LiC",
        "outputId": "90043025-ceb3-4ebf-be3f-f406f9f24579"
      },
      "source": [
        "import math\n",
        "print(\"Enter first point A\")\n",
        "x1,y1=map(int,input().split())\n",
        "print(\"Enter second point B\")\n",
        "x2,y2=map(int,input().split())\n",
        "dist=math.sqrt((x2-x1)**2+(y2-y1)**2)\n",
        "print(\"The Euclidean Distance is\" +str(dist))"
      ],
      "execution_count": null,
      "outputs": [
        {
          "output_type": "stream",
          "name": "stdout",
          "text": [
            "Enter first point A\n",
            "4 3\n",
            "Enter second point B\n",
            "2 2\n",
            "The Euclidean Distance is2.23606797749979\n"
          ]
        }
      ]
    },
    {
      "cell_type": "markdown",
      "metadata": {
        "id": "fO4sNYpE8Lyl"
      },
      "source": [
        "4. Manhattan distance\n",
        " "
      ]
    },
    {
      "cell_type": "code",
      "metadata": {
        "colab": {
          "base_uri": "https://localhost:8080/"
        },
        "id": "c45K2GGp8Nu4",
        "outputId": "84bb5487-9266-493b-9865-1ee770da40b6"
      },
      "source": [
        "import math\n",
        "print(\"Enter first point A\")\n",
        "x1,y1=map(int,input().split())\n",
        "print(\"Enter second point B\")\n",
        "x2,y2=map(int,input().split())\n",
        "dist=abs(x2-x1)+abs(y2-y1)\n",
        "print(\"The Manhattan Distance is\" +str(dist))"
      ],
      "execution_count": null,
      "outputs": [
        {
          "output_type": "stream",
          "name": "stdout",
          "text": [
            "Enter first point A\n",
            "23 45\n",
            "Enter second point B\n",
            "222 555\n",
            "The Manhattan Distance is709\n"
          ]
        }
      ]
    },
    {
      "cell_type": "markdown",
      "metadata": {
        "id": "pod09Sok8N_u"
      },
      "source": [
        "5. Edit distance"
      ]
    },
    {
      "cell_type": "code",
      "metadata": {
        "colab": {
          "base_uri": "https://localhost:8080/"
        },
        "id": "2T7O2QLL8OnG",
        "outputId": "2fa35192-3f68-4fe1-82ba-549b33f39cf3"
      },
      "source": [
        "def edit_distance(string1, string2):\n",
        "    \"\"\"Ref: https://bit.ly/2Pf4a6Z\"\"\"\n",
        "\n",
        "    if len(string1) > len(string2):\n",
        "        difference = len(string1) - len(string2)\n",
        "        string1[:difference]\n",
        "\n",
        "    elif len(string2) > len(string1):\n",
        "        difference = len(string2) - len(string1)\n",
        "        string2[:difference]\n",
        "\n",
        "    else:\n",
        "        difference = 0\n",
        "\n",
        "    for i in range(len(string1)):\n",
        "        if string1[i] != string2[i]:\n",
        "            difference += 1\n",
        "\n",
        "    return difference\n",
        "\n",
        "print(edit_distance(\"kitten\", \"sitting\"))\n",
        "print(edit_distance(\"sarah\", \"rebecca\"))\n",
        "print(edit_distance(\"defghsi\", \"abcceghi\"))"
      ],
      "execution_count": null,
      "outputs": [
        {
          "output_type": "stream",
          "name": "stdout",
          "text": [
            "3\n",
            "7\n",
            "8\n"
          ]
        }
      ]
    },
    {
      "cell_type": "markdown",
      "metadata": {
        "id": "vxoyVEzBZmEH"
      },
      "source": [
        "**Why is PYspark used for clustering?** <br>\n",
        "Ans: PySpark uses the concept of Data Parallelism or Result Parallelism when performing the K Means clustering.K-means is one of the most commonly used clustering algorithms for grouping data into a predefined number of clusters. The spark. mllib includes a parallelized variant of the k-means++ method called kmeans||. The KMeans function from pyspark.k is the number of clusters specified by the user."
      ]
    },
    {
      "cell_type": "markdown",
      "metadata": {
        "id": "kg4KsctIZw2p"
      },
      "source": [
        "**What are some major Applications using Pyspark in Clustering?** <br> \n",
        "Ans:Applications of Clustering in different fields  \n",
        "\n",
        " \n",
        "\n",
        "*   Marketing: It can be used to characterize & discover customer segments for marketing purposes.\n",
        "*   Biology: It can be used for classification among different species of plants and animals.\n",
        "\n",
        "*   Libraries: It is used in clustering different books on the basis of topics and information.\n",
        "*   Insurance: It is used to acknowledge the customers, their policies and identifying the frauds."
      ]
    },
    {
      "cell_type": "markdown",
      "metadata": {
        "id": "zhIzugq6cR8m"
      },
      "source": [
        "## **2. Implementation:** "
      ]
    },
    {
      "cell_type": "markdown",
      "metadata": {
        "id": "sh6hET9jHsdA"
      },
      "source": [
        "**1.Setting up Pyspark in Colab**\n",
        "a. The first step is to download java. "
      ]
    },
    {
      "cell_type": "code",
      "metadata": {
        "id": "sfEslvo9H5TQ"
      },
      "source": [
        "!apt-get install openjdk-8-jdk-headless -qq > /dev/null"
      ],
      "execution_count": null,
      "outputs": []
    },
    {
      "cell_type": "code",
      "metadata": {
        "id": "WPehR0osIL5i"
      },
      "source": [
        "!wget -q https://mirrors.estointernet.in/apache/spark/spark-3.1.2/spark-3.1.2-bin-hadoop3.2.tgz"
      ],
      "execution_count": null,
      "outputs": []
    },
    {
      "cell_type": "code",
      "metadata": {
        "id": "UVvglDf8IdIS"
      },
      "source": [
        "mv spark-3.1.2-bin-hadoop3.2.tgz spark3.tgz"
      ],
      "execution_count": null,
      "outputs": []
    },
    {
      "cell_type": "code",
      "metadata": {
        "id": "q8Qhdn29ITUs"
      },
      "source": [
        "!tar xf spark3.tgz\n",
        "!pip install -q findspark"
      ],
      "execution_count": null,
      "outputs": []
    },
    {
      "cell_type": "code",
      "metadata": {
        "id": "FZAHX-_HKLPK"
      },
      "source": [
        "!pip install -q findspark"
      ],
      "execution_count": null,
      "outputs": []
    },
    {
      "cell_type": "markdown",
      "metadata": {
        "id": "EpcnzH5aO0fl"
      },
      "source": [
        "Now that we have installed all the necessary dependencies in Colab, it is time to set the environment path. This will enable us to run Pyspark in the Colab environment."
      ]
    },
    {
      "cell_type": "code",
      "metadata": {
        "id": "9vomU0oZKXHM"
      },
      "source": [
        "import os\n",
        "os.environ[\"JAVA_HOME\"] = \"/usr/lib/jvm/java-8-openjdk-amd64\"\n",
        "os.environ[\"SPARK_HOME\"] = \"/content/spark-3.1.2-bin-hadoop3.2\""
      ],
      "execution_count": null,
      "outputs": []
    },
    {
      "cell_type": "markdown",
      "metadata": {
        "id": "DGtEfxT0PB_W"
      },
      "source": [
        "Pyspark is located and initiated in your system by using these two commands"
      ]
    },
    {
      "cell_type": "code",
      "metadata": {
        "id": "fEVkfdnlKmGN"
      },
      "source": [
        "import findspark\n",
        "findspark.init()"
      ],
      "execution_count": null,
      "outputs": []
    },
    {
      "cell_type": "code",
      "metadata": {
        "colab": {
          "base_uri": "https://localhost:8080/",
          "height": 35
        },
        "id": "8F0J-hU3LDQK",
        "outputId": "a575c891-5f8a-4ecd-bdc8-19c113e0ddf1"
      },
      "source": [
        "findspark.find()"
      ],
      "execution_count": null,
      "outputs": [
        {
          "output_type": "execute_result",
          "data": {
            "application/vnd.google.colaboratory.intrinsic+json": {
              "type": "string"
            },
            "text/plain": [
              "'/content/spark-3.1.2-bin-hadoop3.2'"
            ]
          },
          "metadata": {},
          "execution_count": 8
        }
      ]
    },
    {
      "cell_type": "markdown",
      "metadata": {
        "id": "78S1k2_7QleL"
      },
      "source": [
        "we can import SparkSession from pyspark.sql and create a SparkSession, which is the entry point to Spark."
      ]
    },
    {
      "cell_type": "code",
      "metadata": {
        "id": "rBs1mhETLUMk"
      },
      "source": [
        "from pyspark.sql import SparkSession\n",
        "spark = SparkSession.builder\\\n",
        "        .master(\"local\")\\\n",
        "        .appName(\"Colab\")\\\n",
        "        .config('spark.ui.port', '4050')\\\n",
        "        .getOrCreate()"
      ],
      "execution_count": null,
      "outputs": []
    },
    {
      "cell_type": "code",
      "metadata": {
        "id": "_k58RSB6vV5D"
      },
      "source": [
        "from pyspark.sql import SparkSession\n",
        "spark = SparkSession.builder.appName(\"Clustering using K-Means\").getOrCreate()"
      ],
      "execution_count": null,
      "outputs": []
    },
    {
      "cell_type": "markdown",
      "metadata": {
        "id": "L2Yp2vbjQxQ9"
      },
      "source": [
        "Finally, print the SparkSession variable."
      ]
    },
    {
      "cell_type": "code",
      "metadata": {
        "colab": {
          "base_uri": "https://localhost:8080/",
          "height": 213
        },
        "id": "KDHq-vnmNEbA",
        "outputId": "4112a529-24eb-4407-eaa4-49f439590ac8"
      },
      "source": [
        "spark"
      ],
      "execution_count": null,
      "outputs": [
        {
          "output_type": "execute_result",
          "data": {
            "text/html": [
              "\n",
              "            <div>\n",
              "                <p><b>SparkSession - in-memory</b></p>\n",
              "                \n",
              "        <div>\n",
              "            <p><b>SparkContext</b></p>\n",
              "\n",
              "            <p><a href=\"http://0a1ca2d1fbb7:4050\">Spark UI</a></p>\n",
              "\n",
              "            <dl>\n",
              "              <dt>Version</dt>\n",
              "                <dd><code>v3.1.2</code></dd>\n",
              "              <dt>Master</dt>\n",
              "                <dd><code>local</code></dd>\n",
              "              <dt>AppName</dt>\n",
              "                <dd><code>Colab</code></dd>\n",
              "            </dl>\n",
              "        </div>\n",
              "        \n",
              "            </div>\n",
              "        "
            ],
            "text/plain": [
              "<pyspark.sql.session.SparkSession at 0x7f1b09d9a690>"
            ]
          },
          "metadata": {},
          "execution_count": 11
        }
      ]
    },
    {
      "cell_type": "markdown",
      "metadata": {
        "id": "F4s_19-heJsm"
      },
      "source": [
        "If you have completed so far, you are ready to move forward with Pyspark\n"
      ]
    },
    {
      "cell_type": "markdown",
      "metadata": {
        "id": "iynA6IfBRU4w"
      },
      "source": [
        "**Loading Data into Pyspark**"
      ]
    },
    {
      "cell_type": "markdown",
      "metadata": {
        "id": "76lrsclDMUjT"
      },
      "source": [
        "*`A sample is shown here which is done using CC General dataset. YOu may try the same and execute for some other dataset which can be downloaded from kaggle or UCI repository `*"
      ]
    },
    {
      "cell_type": "code",
      "metadata": {
        "colab": {
          "resources": {
            "http://localhost:8080/nbextensions/google.colab/files.js": {
              "data": "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",
              "ok": true,
              "headers": [
                [
                  "content-type",
                  "application/javascript"
                ]
              ],
              "status": 200,
              "status_text": ""
            }
          },
          "base_uri": "https://localhost:8080/",
          "height": 72
        },
        "id": "4J-iMIbrwLpC",
        "outputId": "f0522f58-dbf5-4e79-ded0-15ec97e4dd7f"
      },
      "source": [
        "from google.colab import files\n",
        "\n",
        "\n",
        "uploaded = files.upload()"
      ],
      "execution_count": null,
      "outputs": [
        {
          "output_type": "display_data",
          "data": {
            "text/html": [
              "\n",
              "     <input type=\"file\" id=\"files-615f9e3f-0c28-4162-9b8d-51d32dc3a0d7\" name=\"files[]\" multiple disabled\n",
              "        style=\"border:none\" />\n",
              "     <output id=\"result-615f9e3f-0c28-4162-9b8d-51d32dc3a0d7\">\n",
              "      Upload widget is only available when the cell has been executed in the\n",
              "      current browser session. Please rerun this cell to enable.\n",
              "      </output>\n",
              "      <script src=\"/nbextensions/google.colab/files.js\"></script> "
            ],
            "text/plain": [
              "<IPython.core.display.HTML object>"
            ]
          },
          "metadata": {}
        },
        {
          "output_type": "stream",
          "name": "stdout",
          "text": [
            "Saving Live_20210128.csv to Live_20210128.csv\n"
          ]
        }
      ]
    },
    {
      "cell_type": "markdown",
      "metadata": {
        "id": "SOR335IMyyby"
      },
      "source": [
        "**Viewing the Schema**"
      ]
    },
    {
      "cell_type": "code",
      "metadata": {
        "id": "-8plDruBxW4T",
        "colab": {
          "base_uri": "https://localhost:8080/"
        },
        "outputId": "a24024f5-994d-4c92-bdfb-b479dc4fa56c"
      },
      "source": [
        "facebook=spark.read.csv('/content/Live_20210128.csv', header=True, inferSchema=True)\n",
        "facebook.printSchema()"
      ],
      "execution_count": null,
      "outputs": [
        {
          "output_type": "stream",
          "name": "stdout",
          "text": [
            "root\n",
            " |-- status_id: integer (nullable = true)\n",
            " |-- num_reactions: integer (nullable = true)\n",
            " |-- num_comments: integer (nullable = true)\n",
            " |-- num_shares: integer (nullable = true)\n",
            " |-- num_likes: integer (nullable = true)\n",
            " |-- num_loves: integer (nullable = true)\n",
            " |-- num_wows: integer (nullable = true)\n",
            " |-- num_hahas: integer (nullable = true)\n",
            " |-- num_sads: integer (nullable = true)\n",
            " |-- num_angrys: integer (nullable = true)\n",
            "\n"
          ]
        }
      ]
    },
    {
      "cell_type": "markdown",
      "metadata": {
        "id": "V_uQ88N_U_yX"
      },
      "source": [
        "**What are the broader classification of the attributes ?** <br> The broadest data types are alphanumeric and numeric. Programming languages allow for the creation of several data types, such as integer (whole numbers), floating point, date, string (text), logical (true/false) and binary."
      ]
    },
    {
      "cell_type": "markdown",
      "metadata": {
        "id": "yzqm7pkYVXvd"
      },
      "source": [
        "Why the comment below is used?<br> It is used to remove/discard the NULL values"
      ]
    },
    {
      "cell_type": "code",
      "metadata": {
        "id": "zoQUjn5bVdOz"
      },
      "source": [
        "facebook=facebook.na.drop()"
      ],
      "execution_count": null,
      "outputs": []
    },
    {
      "cell_type": "code",
      "metadata": {
        "id": "iXjOVyfk0jLc"
      },
      "source": [
        "from pyspark.ml.feature import VectorAssembler"
      ],
      "execution_count": null,
      "outputs": []
    },
    {
      "cell_type": "code",
      "metadata": {
        "id": "lS3-UgYs05SW"
      },
      "source": [
        "cols=facebook.columns"
      ],
      "execution_count": null,
      "outputs": []
    },
    {
      "cell_type": "code",
      "metadata": {
        "colab": {
          "base_uri": "https://localhost:8080/"
        },
        "id": "b660XyYrsGmA",
        "outputId": "5371da00-5702-4bb8-ba89-df7f40f7b27f"
      },
      "source": [
        "cols"
      ],
      "execution_count": null,
      "outputs": [
        {
          "output_type": "execute_result",
          "data": {
            "text/plain": [
              "['status_id',\n",
              " 'num_reactions',\n",
              " 'num_comments',\n",
              " 'num_shares',\n",
              " 'num_likes',\n",
              " 'num_loves',\n",
              " 'num_wows',\n",
              " 'num_hahas',\n",
              " 'num_sads',\n",
              " 'num_angrys']"
            ]
          },
          "metadata": {},
          "execution_count": 19
        }
      ]
    },
    {
      "cell_type": "code",
      "metadata": {
        "id": "EIOJZLL91SvB"
      },
      "source": [
        "assemble=VectorAssembler(inputCols=cols, outputCol='features')"
      ],
      "execution_count": null,
      "outputs": []
    },
    {
      "cell_type": "markdown",
      "metadata": {
        "id": "5Q43MfTD2CkG"
      },
      "source": [
        "Why is a Vector Assembler used here? <br> Vector Assembler is a feature transformer that merges multiple columns into a vector column. It is useful for combining raw features and features generated by different feature transformers into a single feature vector, in order to train ML models like logistic regression and decision trees."
      ]
    },
    {
      "cell_type": "code",
      "metadata": {
        "id": "SS_QnXzt1Wgj",
        "colab": {
          "base_uri": "https://localhost:8080/"
        },
        "outputId": "9fc4226a-66df-4ddd-c198-04820e657b50"
      },
      "source": [
        "assembled_data=assemble.transform(facebook)\n",
        "assembled_data.show(2)"
      ],
      "execution_count": null,
      "outputs": [
        {
          "output_type": "stream",
          "name": "stdout",
          "text": [
            "+---------+-------------+------------+----------+---------+---------+--------+---------+--------+----------+--------------------+\n",
            "|status_id|num_reactions|num_comments|num_shares|num_likes|num_loves|num_wows|num_hahas|num_sads|num_angrys|            features|\n",
            "+---------+-------------+------------+----------+---------+---------+--------+---------+--------+----------+--------------------+\n",
            "|        1|          529|         512|       262|      432|       92|       3|        1|       1|         0|[1.0,529.0,512.0,...|\n",
            "|        2|          150|           0|         0|      150|        0|       0|        0|       0|         0|(10,[0,1,4],[2.0,...|\n",
            "+---------+-------------+------------+----------+---------+---------+--------+---------+--------+----------+--------------------+\n",
            "only showing top 2 rows\n",
            "\n"
          ]
        }
      ]
    },
    {
      "cell_type": "markdown",
      "metadata": {
        "id": "Gnq2GtZw5vMy"
      },
      "source": [
        "**Standardizing the data to a comparable scale**"
      ]
    },
    {
      "cell_type": "code",
      "metadata": {
        "id": "RcpHwzNX6G6S"
      },
      "source": [
        "from pyspark.ml.feature import StandardScaler"
      ],
      "execution_count": null,
      "outputs": []
    },
    {
      "cell_type": "code",
      "metadata": {
        "id": "4Hu798LS6VgT"
      },
      "source": [
        "scale=StandardScaler(inputCol='features',outputCol='standardized')"
      ],
      "execution_count": null,
      "outputs": []
    },
    {
      "cell_type": "code",
      "metadata": {
        "id": "Fup-LQVH6a-c"
      },
      "source": [
        "data_scale=scale.fit(assembled_data)\n",
        "data_scale_output=data_scale.transform(assembled_data)"
      ],
      "execution_count": null,
      "outputs": []
    },
    {
      "cell_type": "code",
      "metadata": {
        "id": "gJY5oW_s6jln",
        "colab": {
          "base_uri": "https://localhost:8080/"
        },
        "outputId": "4492f303-c9fd-4c08-8ad2-88cadc3c27bc"
      },
      "source": [
        "data_scale_output.show(5)"
      ],
      "execution_count": null,
      "outputs": [
        {
          "output_type": "stream",
          "name": "stdout",
          "text": [
            "+---------+-------------+------------+----------+---------+---------+--------+---------+--------+----------+--------------------+--------------------+\n",
            "|status_id|num_reactions|num_comments|num_shares|num_likes|num_loves|num_wows|num_hahas|num_sads|num_angrys|            features|        standardized|\n",
            "+---------+-------------+------------+----------+---------+---------+--------+---------+--------+----------+--------------------+--------------------+\n",
            "|        1|          529|         512|       262|      432|       92|       3|        1|       1|         0|[1.0,529.0,512.0,...|[4.91327086568131...|\n",
            "|        2|          150|           0|         0|      150|        0|       0|        0|       0|         0|(10,[0,1,4],[2.0,...|(10,[0,1,4],[9.82...|\n",
            "|        3|          227|         236|        57|      204|       21|       1|        1|       0|         0|[3.0,227.0,236.0,...|[0.00147398125970...|\n",
            "|        4|          111|           0|         0|      111|        0|       0|        0|       0|         0|(10,[0,1,4],[4.0,...|(10,[0,1,4],[0.00...|\n",
            "|        5|          213|           0|         0|      204|        9|       0|        0|       0|         0|(10,[0,1,4,5],[5....|(10,[0,1,4,5],[0....|\n",
            "+---------+-------------+------------+----------+---------+---------+--------+---------+--------+----------+--------------------+--------------------+\n",
            "only showing top 5 rows\n",
            "\n"
          ]
        }
      ]
    },
    {
      "cell_type": "code",
      "metadata": {
        "id": "KuQkbvZa65TQ",
        "colab": {
          "base_uri": "https://localhost:8080/"
        },
        "outputId": "74d9f97a-7a2b-4a54-9294-1e40928b894e"
      },
      "source": [
        "from pyspark.ml.clustering import KMeans\n",
        "from pyspark.ml.evaluation import ClusteringEvaluator\n",
        "silhouette_score=[]\n",
        "evaluator = ClusteringEvaluator(predictionCol='prediction', featuresCol='standardized', \\\n",
        "                                metricName='silhouette', distanceMeasure='squaredEuclidean')\n",
        "for i in range(2,10):\n",
        "    \n",
        "    KMeans_algo=KMeans(featuresCol='standardized', k=i)\n",
        "    \n",
        "    KMeans_fit=KMeans_algo.fit(data_scale_output)\n",
        "    \n",
        "    output=KMeans_fit.transform(data_scale_output)\n",
        "    \n",
        "    \n",
        "    \n",
        "    score=evaluator.evaluate(output)\n",
        "    \n",
        "    silhouette_score.append(score)\n",
        "    \n",
        "    print(\"Silhouette Score:\",score)"
      ],
      "execution_count": null,
      "outputs": [
        {
          "output_type": "stream",
          "name": "stdout",
          "text": [
            "Silhouette Score: 0.8856384084184857\n",
            "Silhouette Score: 0.7970871123069208\n",
            "Silhouette Score: 0.4132312447259981\n",
            "Silhouette Score: 0.800679877237448\n",
            "Silhouette Score: 0.803613399248971\n",
            "Silhouette Score: 0.45783325558245874\n",
            "Silhouette Score: 0.7252538013376477\n",
            "Silhouette Score: 0.7150091482778196\n"
          ]
        }
      ]
    },
    {
      "cell_type": "markdown",
      "metadata": {
        "id": "f7oIbISH7Id9"
      },
      "source": [
        "What is silehouette score? Why is it used? <br>\n",
        "Silhouette Coefficient or silhouette score is a metric used to calculate the goodness of a clustering technique. Its value ranges from -1 to 1.\n",
        "\n",
        "1: Means clusters are well apart from each other and clearly distinguished.\n",
        "\n",
        "0: Means clusters are indifferent, or we can say that the distance between clusters is not significant.\n",
        "\n",
        "-1: Means clusters are assigned in the wrong way."
      ]
    },
    {
      "cell_type": "code",
      "metadata": {
        "id": "cQOWGTJE7hc4",
        "colab": {
          "base_uri": "https://localhost:8080/",
          "height": 405
        },
        "outputId": "b35a7de4-e0c5-4e0a-84c6-9d3b8607a424"
      },
      "source": [
        "#Visualizing the silhouette scores in a plot\n",
        "import matplotlib.pyplot as plt\n",
        "fig, ax = plt.subplots(1,1, figsize =(8,6))\n",
        "ax.plot(range(2,10),silhouette_score)\n",
        "ax.set_xlabel(\"k\")\n",
        "ax.set_ylabel(\"cost\")"
      ],
      "execution_count": null,
      "outputs": [
        {
          "output_type": "execute_result",
          "data": {
            "text/plain": [
              "Text(0, 0.5, 'cost')"
            ]
          },
          "metadata": {},
          "execution_count": 27
        },
        {
          "output_type": "display_data",
          "data": {
            "image/png": "[encoded data removed]",
            "text/plain": [
              "<Figure size 576x432 with 1 Axes>"
            ]
          },
          "metadata": {
            "needs_background": "light"
          }
        }
      ]
    },
    {
      "cell_type": "code",
      "metadata": {
        "id": "mBfvDXA06Wd2"
      },
      "source": [
        "pddf_pred = output.toPandas().set_index('status_id')"
      ],
      "execution_count": null,
      "outputs": []
    },
    {
      "cell_type": "code",
      "metadata": {
        "colab": {
          "base_uri": "https://localhost:8080/",
          "height": 612
        },
        "id": "KFHxSTc4690w",
        "outputId": "82b3a335-90c1-43d8-a7e8-f3ee41526166"
      },
      "source": [
        "pddf_pred"
      ],
      "execution_count": null,
      "outputs": [
        {
          "output_type": "execute_result",
          "data": {
            "text/html": [
              "<div>\n",
              "<style scoped>\n",
              "    .dataframe tbody tr th:only-of-type {\n",
              "        vertical-align: middle;\n",
              "    }\n",
              "\n",
              "    .dataframe tbody tr th {\n",
              "        vertical-align: top;\n",
              "    }\n",
              "\n",
              "    .dataframe thead th {\n",
              "        text-align: right;\n",
              "    }\n",
              "</style>\n",
              "<table border=\"1\" class=\"dataframe\">\n",
              "  <thead>\n",
              "    <tr style=\"text-align: right;\">\n",
              "      <th></th>\n",
              "      <th>num_reactions</th>\n",
              "      <th>num_comments</th>\n",
              "      <th>num_shares</th>\n",
              "      <th>num_likes</th>\n",
              "      <th>num_loves</th>\n",
              "      <th>num_wows</th>\n",
              "      <th>num_hahas</th>\n",
              "      <th>num_sads</th>\n",
              "      <th>num_angrys</th>\n",
              "      <th>features</th>\n",
              "      <th>standardized</th>\n",
              "      <th>prediction</th>\n",
              "    </tr>\n",
              "    <tr>\n",
              "      <th>status_id</th>\n",
              "      <th></th>\n",
              "      <th></th>\n",
              "      <th></th>\n",
              "      <th></th>\n",
              "      <th></th>\n",
              "      <th></th>\n",
              "      <th></th>\n",
              "      <th></th>\n",
              "      <th></th>\n",
              "      <th></th>\n",
              "      <th></th>\n",
              "      <th></th>\n",
              "    </tr>\n",
              "  </thead>\n",
              "  <tbody>\n",
              "    <tr>\n",
              "      <th>1</th>\n",
              "      <td>529</td>\n",
              "      <td>512</td>\n",
              "      <td>262</td>\n",
              "      <td>432</td>\n",
              "      <td>92</td>\n",
              "      <td>3</td>\n",
              "      <td>1</td>\n",
              "      <td>1</td>\n",
              "      <td>0</td>\n",
              "      <td>[1.0, 529.0, 512.0, 262.0, 432.0, 92.0, 3.0, 1...</td>\n",
              "      <td>[0.0004913270865681313, 1.1434739724656195, 0....</td>\n",
              "      <td>6</td>\n",
              "    </tr>\n",
              "    <tr>\n",
              "      <th>2</th>\n",
              "      <td>150</td>\n",
              "      <td>0</td>\n",
              "      <td>0</td>\n",
              "      <td>150</td>\n",
              "      <td>0</td>\n",
              "      <td>0</td>\n",
              "      <td>0</td>\n",
              "      <td>0</td>\n",
              "      <td>0</td>\n",
              "      <td>(2.0, 150.0, 0.0, 0.0, 150.0, 0.0, 0.0, 0.0, 0...</td>\n",
              "      <td>(0.0009826541731362626, 0.32423647612446677, 0...</td>\n",
              "      <td>0</td>\n",
              "    </tr>\n",
              "    <tr>\n",
              "      <th>3</th>\n",
              "      <td>227</td>\n",
              "      <td>236</td>\n",
              "      <td>57</td>\n",
              "      <td>204</td>\n",
              "      <td>21</td>\n",
              "      <td>1</td>\n",
              "      <td>1</td>\n",
              "      <td>0</td>\n",
              "      <td>0</td>\n",
              "      <td>[3.0, 227.0, 236.0, 57.0, 204.0, 21.0, 1.0, 1....</td>\n",
              "      <td>[0.001473981259704394, 0.49067786720169304, 0....</td>\n",
              "      <td>0</td>\n",
              "    </tr>\n",
              "    <tr>\n",
              "      <th>4</th>\n",
              "      <td>111</td>\n",
              "      <td>0</td>\n",
              "      <td>0</td>\n",
              "      <td>111</td>\n",
              "      <td>0</td>\n",
              "      <td>0</td>\n",
              "      <td>0</td>\n",
              "      <td>0</td>\n",
              "      <td>0</td>\n",
              "      <td>(4.0, 111.0, 0.0, 0.0, 111.0, 0.0, 0.0, 0.0, 0...</td>\n",
              "      <td>(0.0019653083462725252, 0.2399349923321054, 0....</td>\n",
              "      <td>0</td>\n",
              "    </tr>\n",
              "    <tr>\n",
              "      <th>5</th>\n",
              "      <td>213</td>\n",
              "      <td>0</td>\n",
              "      <td>0</td>\n",
              "      <td>204</td>\n",
              "      <td>9</td>\n",
              "      <td>0</td>\n",
              "      <td>0</td>\n",
              "      <td>0</td>\n",
              "      <td>0</td>\n",
              "      <td>(5.0, 213.0, 0.0, 0.0, 204.0, 9.0, 0.0, 0.0, 0...</td>\n",
              "      <td>(0.0024566354328406565, 0.4604157960967428, 0....</td>\n",
              "      <td>0</td>\n",
              "    </tr>\n",
              "    <tr>\n",
              "      <th>...</th>\n",
              "      <td>...</td>\n",
              "      <td>...</td>\n",
              "      <td>...</td>\n",
              "      <td>...</td>\n",
              "      <td>...</td>\n",
              "      <td>...</td>\n",
              "      <td>...</td>\n",
              "      <td>...</td>\n",
              "      <td>...</td>\n",
              "      <td>...</td>\n",
              "      <td>...</td>\n",
              "      <td>...</td>\n",
              "    </tr>\n",
              "    <tr>\n",
              "      <th>7046</th>\n",
              "      <td>89</td>\n",
              "      <td>0</td>\n",
              "      <td>0</td>\n",
              "      <td>89</td>\n",
              "      <td>0</td>\n",
              "      <td>0</td>\n",
              "      <td>0</td>\n",
              "      <td>0</td>\n",
              "      <td>0</td>\n",
              "      <td>(7046.0, 89.0, 0.0, 0.0, 89.0, 0.0, 0.0, 0.0, ...</td>\n",
              "      <td>(3.4618906519590533, 0.19238030916718363, 0.0,...</td>\n",
              "      <td>0</td>\n",
              "    </tr>\n",
              "    <tr>\n",
              "      <th>7047</th>\n",
              "      <td>16</td>\n",
              "      <td>0</td>\n",
              "      <td>0</td>\n",
              "      <td>14</td>\n",
              "      <td>1</td>\n",
              "      <td>0</td>\n",
              "      <td>1</td>\n",
              "      <td>0</td>\n",
              "      <td>0</td>\n",
              "      <td>(7047.0, 16.0, 0.0, 0.0, 14.0, 1.0, 0.0, 1.0, ...</td>\n",
              "      <td>(3.462381979045621, 0.03458522411994312, 0.0, ...</td>\n",
              "      <td>0</td>\n",
              "    </tr>\n",
              "    <tr>\n",
              "      <th>7048</th>\n",
              "      <td>2</td>\n",
              "      <td>0</td>\n",
              "      <td>0</td>\n",
              "      <td>1</td>\n",
              "      <td>1</td>\n",
              "      <td>0</td>\n",
              "      <td>0</td>\n",
              "      <td>0</td>\n",
              "      <td>0</td>\n",
              "      <td>(7048.0, 2.0, 0.0, 0.0, 1.0, 1.0, 0.0, 0.0, 0....</td>\n",
              "      <td>(3.4628733061321895, 0.00432315301499289, 0.0,...</td>\n",
              "      <td>0</td>\n",
              "    </tr>\n",
              "    <tr>\n",
              "      <th>7049</th>\n",
              "      <td>351</td>\n",
              "      <td>12</td>\n",
              "      <td>22</td>\n",
              "      <td>349</td>\n",
              "      <td>2</td>\n",
              "      <td>0</td>\n",
              "      <td>0</td>\n",
              "      <td>0</td>\n",
              "      <td>0</td>\n",
              "      <td>[7049.0, 351.0, 12.0, 22.0, 349.0, 2.0, 0.0, 0...</td>\n",
              "      <td>[3.4633646332187578, 0.7587133541312523, 0.013...</td>\n",
              "      <td>0</td>\n",
              "    </tr>\n",
              "    <tr>\n",
              "      <th>7050</th>\n",
              "      <td>17</td>\n",
              "      <td>0</td>\n",
              "      <td>0</td>\n",
              "      <td>17</td>\n",
              "      <td>0</td>\n",
              "      <td>0</td>\n",
              "      <td>0</td>\n",
              "      <td>0</td>\n",
              "      <td>0</td>\n",
              "      <td>(7050.0, 17.0, 0.0, 0.0, 17.0, 0.0, 0.0, 0.0, ...</td>\n",
              "      <td>(3.4638559603053256, 0.03674680062743957, 0.0,...</td>\n",
              "      <td>0</td>\n",
              "    </tr>\n",
              "  </tbody>\n",
              "</table>\n",
              "<p>7050 rows × 12 columns</p>\n",
              "</div>"
            ],
            "text/plain": [
              "           num_reactions  ...  prediction\n",
              "status_id                 ...            \n",
              "1                    529  ...           6\n",
              "2                    150  ...           0\n",
              "3                    227  ...           0\n",
              "4                    111  ...           0\n",
              "5                    213  ...           0\n",
              "...                  ...  ...         ...\n",
              "7046                  89  ...           0\n",
              "7047                  16  ...           0\n",
              "7048                   2  ...           0\n",
              "7049                 351  ...           0\n",
              "7050                  17  ...           0\n",
              "\n",
              "[7050 rows x 12 columns]"
            ]
          },
          "metadata": {},
          "execution_count": 31
        }
      ]
    },
    {
      "cell_type": "code",
      "metadata": {
        "colab": {
          "base_uri": "https://localhost:8080/"
        },
        "id": "kJk78kxw8rYT",
        "outputId": "9d6dbce1-90b2-46b7-8e48-b7973152de0a"
      },
      "source": [
        "silhouette_score=[]\n",
        "evaluator = ClusteringEvaluator(predictionCol='prediction', featuresCol='standardized', \\\n",
        "                                metricName='silhouette', distanceMeasure='squaredEuclidean')   \n",
        "KMeans_algo=KMeans(featuresCol='standardized', k=4)\n",
        "KMeans_fit=KMeans_algo.fit(data_scale_output)\n",
        "output=KMeans_fit.transform(data_scale_output)\n",
        "score=evaluator.evaluate(output)\n",
        "silhouette_score.append(score)\n",
        "print(\"Silhouette Score:\",score)"
      ],
      "execution_count": null,
      "outputs": [
        {
          "output_type": "stream",
          "name": "stdout",
          "text": [
            "Silhouette Score: 0.4132312447259981\n"
          ]
        }
      ]
    },
    {
      "cell_type": "code",
      "metadata": {
        "id": "JDP4pvg_8vRB"
      },
      "source": [
        "pddf_pred = output.toPandas().set_index('status_id')"
      ],
      "execution_count": null,
      "outputs": []
    },
    {
      "cell_type": "code",
      "metadata": {
        "colab": {
          "base_uri": "https://localhost:8080/",
          "height": 303
        },
        "id": "-VV1Ebbl82F1",
        "outputId": "e954133f-3944-4d2b-f5a2-3def78d0cfa4"
      },
      "source": [
        "threedee = plt.figure(figsize=(6,5)).gca(projection='3d')\n",
        "threedee.scatter(pddf_pred.num_comments, pddf_pred.num_shares, pddf_pred.num_likes, c=pddf_pred.prediction)\n",
        "threedee.set_xlabel('num_comments')\n",
        "threedee.set_ylabel('num_shares')\n",
        "threedee.set_zlabel('num_likes')\n",
        "plt.show()"
      ],
      "execution_count": null,
      "outputs": [
        {
          "output_type": "display_data",
          "data": {
            "image/png": "[encoded data removed]",
            "text/plain": [
              "<Figure size 432x360 with 1 Axes>"
            ]
          },
          "metadata": {
            "needs_background": "light"
          }
        }
      ]
    },
    {
      "cell_type": "code",
      "metadata": {
        "colab": {
          "base_uri": "https://localhost:8080/",
          "height": 542
        },
        "id": "BHg3UUnt-trh",
        "outputId": "2eb08643-badf-48f8-f210-de7c51c862ef"
      },
      "source": [
        "import plotly.express as px\n",
        "\n",
        "fig = px.scatter_3d(pddf_pred, pddf_pred.num_comments, pddf_pred.num_shares, pddf_pred.num_likes, color=pddf_pred.prediction,\n",
        "                    title=\"3D Scatter Plot\")\n",
        "fig.show()"
      ],
      "execution_count": null,
      "outputs": [
        {
          "output_type": "display_data",
          "data": {
            "text/html": [
              "<html>\n",
              "<head><meta charset=\"utf-8\" /></head>\n",
              "<body>\n",
              "    <div>\n",
              "            <script src=\"https://cdnjs.cloudflare.com/ajax/libs/mathjax/2.7.5/MathJax.js?config=TeX-AMS-MML_SVG\"></script><script type=\"text/javascript\">if (window.MathJax) {MathJax.Hub.Config({SVG: {font: \"STIX-Web\"}});}</script>\n",
              "                <script type=\"text/javascript\">window.PlotlyConfig = {MathJaxConfig: 'local'};</script>\n",
              "        <script src=\"https://cdn.plot.ly/plotly-latest.min.js\"></script>    \n",
              "            <div id=\"a809238d-0e37-49bb-a9f4-3e103ddc7d84\" class=\"plotly-graph-div\" style=\"height:525px; width:100%;\"></div>\n",
              "            <script type=\"text/javascript\">\n",
              "                \n",
              "                    window.PLOTLYENV=window.PLOTLYENV || {};\n",
              "                    \n",
              "                if (document.getElementById(\"a809238d-0e37-49bb-a9f4-3e103ddc7d84\")) {\n",
              "                    Plotly.newPlot(\n",
              "                        'a809238d-0e37-49bb-a9f4-3e103ddc7d84',\n",
              "                        [{\"hoverlabel\": {\"namelength\": 0}, \"hovertemplate\": \"num_comments=%{x}<br>num_shares=%{y}<br>num_likes=%{z}<br>prediction=%{marker.color}\", \"legendgroup\": \"\", \"marker\": {\"color\": [3, 3, 3, 3, 3, 3, 3, 3, 3, 3, 3, 3, 3, 3, 3, 3, 3, 3, 3, 3, 3, 3, 3, 3, 3, 3, 3, 3, 3, 3, 3, 3, 3, 3, 3, 3, 3, 3, 3, 3, 3, 3, 3, 3, 3, 3, 3, 3, 3, 3, 3, 3, 3, 3, 3, 3, 3, 3, 3, 3, 3, 3, 3, 3, 3, 3, 3, 3, 3, 3, 3, 3, 3, 3, 3, 3, 3, 3, 3, 3, 3, 3, 3, 3, 3, 3, 3, 3, 3, 3, 3, 3, 3, 3, 3, 3, 3, 3, 3, 2, 3, 3, 3, 3, 3, 3, 3, 3, 3, 3, 3, 3, 1, 3, 3, 3, 3, 3, 3, 3, 3, 3, 3, 3, 3, 3, 3, 3, 3, 3, 3, 3, 3, 3, 3, 3, 3, 3, 3, 3, 3, 3, 3, 3, 3, 3, 3, 3, 3, 3, 3, 3, 3, 3, 3, 3, 3, 3, 3, 3, 3, 3, 3, 3, 3, 3, 1, 3, 3, 3, 3, 3, 3, 3, 3, 3, 3, 3, 3, 3, 3, 3, 3, 3, 3, 3, 3, 3, 3, 3, 3, 3, 3, 3, 3, 3, 3, 3, 3, 3, 3, 3, 3, 3, 3, 3, 3, 3, 3, 3, 3, 3, 3, 3, 3, 3, 3, 3, 3, 3, 3, 3, 3, 3, 3, 3, 3, 3, 3, 3, 3, 3, 3, 3, 3, 3, 3, 3, 3, 3, 3, 3, 3, 3, 3, 3, 3, 3, 3, 3, 3, 3, 3, 3, 3, 3, 3, 3, 3, 3, 3, 3, 3, 3, 3, 3, 3, 3, 3, 3, 3, 3, 3, 3, 3, 3, 3, 3, 3, 3, 3, 3, 3, 3, 3, 3, 3, 3, 3, 3, 3, 3, 3, 3, 3, 3, 3, 3, 3, 3, 3, 3, 3, 3, 3, 3, 3, 3, 3, 3, 3, 3, 3, 3, 3, 3, 3, 3, 3, 3, 3, 3, 3, 3, 3, 3, 3, 3, 3, 3, 3, 3, 3, 3, 3, 3, 3, 3, 3, 3, 3, 3, 3, 2, 3, 3, 3, 3, 3, 3, 3, 3, 3, 3, 3, 1, 3, 3, 3, 3, 3, 1, 3, 3, 3, 3, 3, 3, 3, 3, 3, 3, 3, 3, 3, 3, 3, 3, 3, 3, 3, 3, 3, 3, 3, 3, 3, 3, 3, 3, 3, 3, 3, 3, 3, 3, 3, 3, 3, 3, 3, 3, 3, 3, 3, 3, 3, 3, 3, 3, 3, 3, 3, 2, 3, 3, 3, 3, 3, 3, 3, 3, 3, 3, 3, 3, 3, 3, 3, 3, 3, 3, 3, 3, 3, 3, 3, 3, 3, 3, 3, 3, 3, 3, 3, 3, 3, 3, 3, 3, 3, 3, 3, 3, 3, 3, 3, 3, 3, 3, 3, 3, 3, 3, 3, 3, 3, 3, 3, 3, 3, 3, 3, 3, 3, 3, 3, 3, 3, 3, 2, 3, 2, 3, 3, 3, 3, 3, 3, 3, 3, 3, 3, 3, 3, 3, 3, 3, 2, 3, 3, 3, 3, 3, 3, 3, 3, 3, 3, 3, 3, 3, 3, 3, 3, 3, 3, 3, 3, 3, 3, 3, 3, 3, 3, 3, 3, 3, 3, 3, 3, 3, 3, 3, 3, 3, 3, 3, 3, 3, 3, 3, 3, 3, 3, 3, 3, 3, 3, 3, 3, 3, 3, 3, 3, 3, 3, 3, 3, 3, 3, 3, 3, 3, 3, 3, 3, 3, 3, 3, 3, 3, 3, 2, 3, 3, 3, 3, 3, 3, 3, 3, 3, 3, 3, 3, 3, 3, 3, 3, 3, 3, 3, 3, 3, 3, 3, 3, 3, 3, 3, 3, 3, 3, 3, 3, 3, 3, 3, 3, 3, 3, 3, 3, 3, 3, 3, 3, 3, 3, 3, 3, 3, 3, 3, 3, 3, 3, 3, 3, 3, 3, 3, 3, 3, 3, 3, 3, 3, 3, 3, 3, 3, 3, 3, 3, 3, 3, 3, 3, 3, 3, 3, 3, 3, 3, 3, 3, 3, 3, 3, 3, 3, 3, 3, 3, 3, 3, 3, 3, 3, 3, 3, 3, 3, 3, 3, 3, 3, 3, 3, 3, 3, 3, 3, 3, 3, 3, 3, 3, 3, 3, 3, 3, 3, 3, 3, 3, 3, 3, 3, 3, 3, 3, 3, 3, 3, 3, 3, 3, 3, 3, 3, 3, 3, 3, 3, 3, 3, 3, 3, 3, 3, 3, 3, 3, 2, 3, 3, 3, 3, 3, 3, 3, 3, 3, 3, 3, 3, 3, 3, 3, 3, 3, 3, 3, 3, 3, 3, 3, 3, 3, 3, 3, 3, 3, 3, 3, 3, 3, 3, 3, 3, 3, 3, 3, 3, 3, 3, 3, 3, 3, 3, 3, 3, 3, 3, 3, 3, 3, 3, 3, 3, 3, 3, 3, 3, 3, 3, 3, 3, 3, 3, 3, 3, 3, 3, 3, 3, 3, 3, 3, 3, 3, 3, 3, 3, 3, 3, 3, 3, 3, 3, 3, 3, 3, 3, 3, 3, 3, 3, 3, 3, 3, 3, 3, 3, 3, 3, 3, 3, 3, 3, 3, 3, 3, 3, 3, 3, 3, 3, 3, 3, 3, 3, 3, 3, 3, 3, 3, 3, 3, 3, 3, 3, 3, 3, 3, 3, 3, 3, 3, 3, 3, 3, 3, 3, 3, 3, 3, 3, 3, 3, 3, 3, 3, 3, 3, 3, 3, 3, 3, 3, 3, 3, 3, 3, 3, 3, 3, 3, 3, 3, 3, 3, 3, 3, 3, 3, 3, 3, 3, 3, 3, 3, 3, 3, 3, 3, 3, 3, 3, 3, 3, 3, 3, 3, 3, 3, 3, 3, 3, 3, 3, 3, 3, 3, 3, 3, 3, 3, 3, 3, 3, 3, 3, 3, 3, 3, 3, 3, 3, 3, 3, 3, 3, 3, 3, 3, 3, 3, 3, 3, 3, 3, 3, 3, 3, 3, 3, 3, 3, 3, 3, 3, 3, 3, 3, 3, 3, 3, 3, 3, 3, 3, 3, 3, 3, 3, 3, 3, 3, 3, 3, 3, 3, 3, 3, 3, 3, 3, 3, 3, 3, 3, 3, 3, 3, 3, 3, 3, 3, 3, 3, 3, 3, 3, 3, 3, 3, 1, 3, 1, 1, 1, 1, 3, 1, 1, 3, 1, 1, 1, 3, 3, 1, 3, 1, 1, 3, 1, 3, 1, 3, 3, 3, 1, 1, 1, 1, 3, 1, 1, 3, 1, 3, 3, 1, 1, 1, 3, 1, 1, 3, 1, 1, 1, 3, 3, 3, 1, 1, 1, 1, 1, 1, 1, 1, 1, 1, 1, 1, 1, 1, 1, 1, 1, 1, 3, 3, 3, 1, 1, 1, 1, 1, 1, 1, 1, 1, 3, 1, 1, 1, 1, 1, 1, 1, 1, 1, 1, 1, 1, 1, 1, 1, 1, 1, 1, 1, 1, 1, 1, 1, 1, 1, 1, 1, 1, 1, 1, 1, 1, 1, 1, 1, 1, 1, 1, 1, 1, 1, 1, 1, 1, 1, 1, 1, 1, 1, 1, 1, 1, 1, 1, 1, 1, 1, 1, 1, 1, 1, 1, 1, 1, 1, 1, 1, 3, 3, 3, 1, 1, 1, 1, 1, 1, 1, 1, 1, 1, 1, 1, 1, 1, 1, 1, 1, 1, 1, 3, 1, 1, 1, 3, 1, 1, 1, 1, 1, 1, 1, 1, 1, 1, 1, 1, 1, 1, 1, 1, 1, 1, 1, 1, 1, 1, 1, 3, 3, 3, 1, 1, 1, 1, 1, 1, 1, 1, 1, 1, 1, 1, 1, 1, 1, 1, 1, 1, 1, 1, 1, 1, 1, 1, 1, 1, 1, 1, 1, 1, 1, 1, 1, 1, 1, 1, 1, 1, 1, 3, 1, 1, 1, 1, 1, 1, 1, 1, 1, 1, 1, 1, 1, 1, 3, 1, 1, 1, 1, 1, 1, 1, 1, 1, 1, 1, 1, 1, 1, 1, 1, 1, 1, 1, 1, 1, 1, 1, 1, 1, 1, 1, 1, 1, 1, 1, 1, 1, 1, 1, 1, 1, 3, 3, 1, 1, 1, 1, 1, 3, 1, 1, 1, 3, 3, 1, 3, 1, 3, 3, 3, 3, 3, 3, 3, 3, 3, 3, 1, 1, 3, 1, 1, 1, 1, 1, 3, 3, 1, 3, 1, 3, 3, 1, 3, 3, 3, 1, 3, 1, 3, 3, 3, 3, 3, 3, 3, 3, 3, 3, 3, 3, 3, 3, 3, 3, 3, 3, 3, 1, 3, 3, 3, 3, 3, 3, 3, 3, 3, 3, 3, 3, 3, 3, 3, 3, 3, 3, 3, 3, 3, 3, 3, 3, 3, 3, 3, 3, 3, 3, 3, 3, 3, 1, 3, 3, 3, 3, 3, 3, 3, 3, 1, 3, 3, 3, 1, 1, 1, 1, 3, 3, 3, 1, 3, 1, 1, 3, 1, 1, 1, 3, 3, 3, 3, 3, 1, 3, 3, 3, 3, 3, 3, 1, 3, 3, 3, 3, 3, 3, 3, 3, 3, 3, 3, 3, 3, 3, 3, 3, 3, 3, 3, 3, 3, 3, 3, 3, 3, 3, 3, 3, 3, 3, 3, 3, 3, 3, 3, 3, 3, 3, 3, 3, 3, 3, 3, 3, 3, 3, 3, 3, 3, 3, 3, 3, 3, 3, 3, 3, 3, 3, 3, 3, 3, 3, 3, 3, 3, 3, 3, 3, 3, 3, 3, 3, 3, 3, 3, 3, 3, 3, 3, 3, 3, 3, 3, 3, 3, 3, 3, 3, 3, 3, 3, 3, 3, 3, 3, 3, 3, 3, 3, 3, 3, 3, 3, 3, 3, 3, 3, 3, 3, 3, 3, 3, 3, 3, 3, 3, 3, 3, 3, 3, 3, 3, 3, 1, 3, 3, 3, 3, 3, 3, 3, 3, 3, 3, 3, 3, 3, 3, 3, 3, 3, 3, 3, 3, 3, 3, 3, 3, 3, 3, 3, 3, 3, 3, 3, 3, 3, 3, 3, 3, 3, 3, 3, 3, 3, 3, 3, 3, 3, 3, 3, 3, 3, 3, 3, 3, 3, 3, 3, 3, 3, 3, 3, 3, 3, 3, 3, 3, 3, 3, 3, 3, 3, 3, 3, 3, 3, 3, 3, 3, 3, 3, 3, 3, 3, 3, 3, 3, 3, 3, 3, 3, 3, 3, 3, 3, 3, 3, 3, 3, 3, 3, 3, 3, 3, 3, 3, 3, 3, 3, 3, 3, 3, 3, 3, 3, 3, 3, 3, 3, 3, 1, 1, 3, 3, 3, 3, 3, 3, 3, 3, 3, 3, 3, 3, 3, 3, 3, 3, 3, 3, 3, 3, 3, 3, 3, 3, 3, 3, 3, 3, 3, 3, 3, 3, 3, 3, 3, 3, 3, 3, 3, 3, 3, 3, 3, 3, 3, 3, 3, 3, 3, 3, 3, 3, 3, 3, 3, 3, 3, 3, 3, 3, 3, 3, 3, 3, 3, 3, 3, 3, 3, 3, 3, 3, 3, 3, 3, 3, 3, 3, 3, 3, 3, 3, 3, 3, 3, 3, 3, 3, 3, 3, 3, 3, 3, 3, 3, 3, 3, 3, 3, 3, 3, 3, 3, 3, 3, 3, 3, 3, 3, 3, 3, 3, 3, 3, 3, 3, 3, 3, 3, 3, 3, 3, 3, 3, 3, 3, 3, 3, 3, 3, 3, 3, 3, 3, 3, 3, 3, 3, 3, 3, 3, 3, 3, 3, 3, 3, 3, 3, 3, 3, 3, 3, 3, 3, 3, 3, 3, 3, 3, 3, 3, 3, 3, 3, 3, 3, 3, 3, 3, 3, 3, 3, 3, 3, 3, 3, 3, 3, 3, 3, 3, 3, 3, 3, 3, 3, 3, 3, 3, 3, 3, 3, 3, 3, 3, 3, 3, 3, 3, 3, 3, 3, 3, 3, 3, 3, 3, 3, 3, 3, 3, 3, 3, 3, 3, 3, 3, 3, 3, 3, 3, 3, 3, 3, 3, 3, 3, 3, 3, 3, 3, 3, 3, 3, 3, 3, 3, 3, 3, 3, 3, 3, 3, 3, 3, 3, 3, 3, 3, 3, 3, 3, 3, 3, 3, 3, 3, 3, 3, 3, 3, 3, 3, 3, 3, 3, 3, 3, 3, 3, 3, 3, 3, 3, 3, 3, 3, 3, 3, 3, 3, 3, 3, 3, 3, 3, 3, 3, 3, 3, 3, 3, 3, 3, 3, 3, 3, 3, 3, 3, 3, 3, 3, 3, 3, 3, 3, 3, 3, 3, 3, 3, 3, 3, 3, 3, 3, 3, 3, 3, 3, 3, 3, 3, 3, 3, 3, 3, 3, 3, 3, 3, 3, 3, 3, 3, 3, 3, 3, 3, 3, 3, 3, 3, 3, 3, 3, 3, 3, 3, 3, 3, 3, 3, 3, 3, 3, 3, 3, 3, 3, 3, 3, 3, 3, 3, 3, 3, 3, 3, 3, 3, 3, 3, 3, 3, 3, 3, 3, 3, 3, 3, 3, 3, 3, 3, 3, 3, 3, 3, 3, 3, 3, 3, 3, 3, 3, 3, 3, 3, 3, 3, 3, 3, 3, 3, 3, 3, 3, 3, 3, 3, 3, 3, 3, 3, 3, 3, 3, 3, 3, 3, 3, 3, 3, 3, 3, 3, 3, 3, 3, 3, 3, 3, 3, 3, 3, 3, 3, 3, 3, 3, 3, 3, 3, 3, 3, 3, 3, 3, 3, 3, 3, 3, 3, 3, 3, 3, 3, 3, 3, 3, 3, 3, 3, 3, 3, 3, 3, 3, 3, 3, 3, 3, 3, 3, 3, 3, 3, 3, 3, 3, 3, 3, 3, 3, 3, 3, 3, 3, 3, 3, 3, 3, 3, 3, 3, 3, 3, 3, 3, 3, 3, 3, 3, 3, 3, 3, 3, 3, 3, 3, 3, 3, 3, 3, 3, 3, 3, 3, 3, 3, 3, 3, 3, 3, 3, 3, 3, 3, 3, 3, 3, 3, 3, 3, 3, 3, 3, 3, 3, 3, 3, 3, 3, 3, 3, 3, 3, 3, 3, 3, 3, 3, 3, 3, 3, 3, 3, 3, 3, 3, 3, 3, 3, 3, 3, 3, 3, 3, 3, 3, 3, 3, 3, 3, 3, 3, 3, 3, 3, 3, 3, 3, 3, 3, 3, 3, 3, 3, 3, 3, 3, 3, 3, 3, 3, 3, 3, 3, 3, 3, 3, 3, 3, 3, 3, 3, 3, 3, 3, 3, 3, 3, 3, 3, 3, 3, 3, 3, 3, 3, 3, 3, 3, 3, 3, 3, 3, 3, 3, 3, 3, 3, 3, 3, 3, 3, 3, 3, 3, 3, 3, 3, 3, 3, 3, 3, 3, 3, 3, 3, 3, 3, 3, 3, 3, 3, 3, 3, 3, 3, 3, 3, 3, 3, 3, 3, 3, 3, 3, 3, 3, 3, 3, 3, 3, 3, 3, 3, 3, 3, 3, 3, 3, 3, 3, 3, 3, 3, 3, 3, 3, 3, 3, 3, 3, 3, 3, 3, 3, 3, 3, 3, 3, 3, 3, 3, 3, 3, 3, 3, 3, 3, 3, 3, 3, 3, 3, 3, 3, 3, 3, 3, 3, 3, 3, 3, 3, 3, 3, 3, 3, 3, 3, 3, 3, 3, 3, 3, 3, 3, 3, 3, 3, 3, 3, 3, 3, 3, 3, 3, 3, 3, 3, 3, 3, 3, 3, 3, 3, 3, 3, 3, 3, 3, 3, 3, 3, 3, 3, 3, 3, 3, 3, 3, 3, 3, 3, 3, 3, 3, 3, 3, 3, 3, 3, 3, 3, 3, 3, 3, 3, 3, 3, 3, 3, 3, 3, 3, 3, 3, 3, 3, 3, 3, 3, 3, 3, 3, 3, 3, 3, 3, 3, 3, 3, 3, 3, 3, 3, 3, 3, 3, 3, 3, 3, 3, 3, 3, 3, 3, 3, 3, 3, 3, 3, 3, 3, 3, 3, 3, 3, 3, 3, 3, 3, 3, 3, 3, 3, 3, 3, 3, 3, 3, 3, 3, 3, 3, 3, 3, 3, 3, 3, 3, 3, 3, 3, 3, 3, 3, 3, 3, 3, 3, 3, 3, 3, 3, 3, 3, 3, 3, 3, 3, 3, 3, 3, 3, 3, 3, 3, 3, 3, 3, 3, 3, 3, 3, 3, 3, 3, 3, 3, 3, 3, 3, 3, 3, 3, 3, 3, 3, 3, 3, 3, 3, 3, 3, 3, 3, 3, 3, 3, 3, 3, 3, 3, 3, 3, 3, 3, 3, 3, 3, 3, 3, 3, 3, 3, 3, 3, 3, 3, 3, 3, 3, 3, 0, 3, 3, 3, 3, 3, 3, 3, 3, 3, 3, 3, 3, 3, 3, 3, 0, 3, 3, 3, 3, 3, 3, 3, 3, 3, 3, 3, 3, 3, 3, 3, 3, 3, 3, 3, 3, 3, 3, 3, 3, 3, 3, 3, 3, 3, 3, 3, 3, 3, 3, 3, 3, 3, 3, 3, 3, 3, 3, 3, 3, 3, 3, 3, 3, 3, 3, 3, 3, 3, 3, 3, 3, 3, 3, 3, 3, 3, 3, 3, 0, 3, 3, 3, 3, 3, 0, 3, 3, 3, 3, 3, 3, 0, 3, 3, 3, 3, 3, 3, 3, 3, 3, 3, 3, 3, 3, 0, 3, 0, 3, 3, 3, 3, 3, 3, 3, 3, 3, 3, 3, 3, 3, 3, 0, 3, 3, 3, 3, 3, 3, 3, 3, 3, 3, 3, 3, 3, 3, 3, 3, 3, 3, 3, 3, 0, 3, 3, 3, 3, 3, 3, 3, 3, 3, 3, 3, 3, 3, 0, 3, 3, 3, 0, 3, 3, 3, 3, 3, 3, 3, 3, 3, 3, 3, 3, 3, 3, 3, 3, 3, 3, 3, 3, 3, 3, 3, 3, 0, 3, 0, 3, 3, 3, 3, 3, 3, 3, 3, 3, 3, 3, 3, 3, 3, 3, 3, 0, 3, 3, 3, 3, 3, 3, 3, 3, 3, 3, 3, 3, 3, 3, 0, 3, 3, 0, 3, 3, 3, 3, 3, 3, 3, 3, 3, 3, 3, 3, 3, 1, 3, 3, 3, 3, 3, 3, 3, 3, 3, 3, 3, 3, 3, 3, 3, 3, 3, 3, 3, 3, 3, 3, 3, 3, 0, 3, 3, 3, 3, 0, 3, 3, 3, 3, 3, 0, 3, 3, 3, 3, 3, 3, 2, 3, 3, 3, 0, 3, 3, 3, 3, 3, 3, 3, 3, 0, 3, 3, 3, 3, 3, 3, 3, 3, 3, 3, 3, 3, 3, 3, 3, 3, 3, 3, 3, 3, 3, 3, 3, 3, 3, 3, 3, 2, 3, 3, 3, 3, 3, 0, 3, 3, 3, 3, 3, 3, 3, 3, 2, 1, 3, 3, 3, 3, 3, 0, 3, 3, 3, 3, 0, 3, 3, 3, 3, 3, 0, 3, 3, 3, 3, 3, 3, 0, 1, 3, 3, 3, 3, 3, 3, 3, 3, 3, 3, 3, 3, 3, 3, 0, 3, 3, 3, 3, 3, 3, 3, 3, 3, 3, 3, 3, 3, 3, 3, 3, 3, 0, 3, 3, 3, 3, 3, 3, 3, 3, 3, 0, 3, 3, 1, 3, 3, 0, 3, 3, 3, 3, 3, 3, 3, 3, 3, 3, 3, 3, 3, 3, 3, 3, 3, 3, 3, 3, 3, 3, 3, 3, 3, 3, 3, 1, 3, 3, 3, 3, 3, 0, 3, 3, 3, 3, 3, 3, 3, 3, 0, 3, 3, 3, 3, 3, 3, 3, 3, 3, 3, 3, 3, 3, 0, 3, 3, 0, 3, 3, 3, 3, 3, 0, 3, 0, 3, 3, 3, 3, 3, 3, 3, 3, 3, 3, 3, 3, 3, 3, 3, 3, 3, 3, 3, 3, 3, 3, 3, 3, 3, 3, 3, 3, 3, 3, 3, 3, 3, 0, 3, 2, 3, 3, 3, 3, 3, 3, 3, 3, 3, 0, 3, 3, 3, 0, 0, 3, 3, 3, 3, 3, 0, 0, 3, 3, 0, 3, 3, 3, 3, 3, 3, 3, 3, 0, 3, 3, 3, 3, 3, 3, 0, 3, 3, 0, 3, 3, 3, 3, 0, 3, 3, 0, 3, 3, 3, 0, 3, 3, 3, 0, 3, 3, 3, 0, 3, 0, 3, 3, 3, 3, 3, 0, 3, 2, 3, 3, 3, 0, 3, 3, 0, 3, 3, 3, 3, 3, 0, 3, 3, 0, 3, 2, 3, 3, 3, 2, 3, 3, 0, 3, 3, 0, 3, 3, 3, 0, 3, 3, 3, 0, 3, 3, 3, 3, 3, 3, 3, 3, 3, 3, 3, 3, 3, 3, 3, 3, 3, 3, 3, 3, 3, 3, 3, 3, 3, 3, 0, 3, 3, 3, 0, 3, 2, 3, 3, 0, 3, 3, 3, 2, 3, 3, 3, 3, 3, 3, 3, 3, 2, 3, 3, 3, 3, 3, 3, 3, 3, 3, 0, 3, 3, 0, 3, 3, 3, 3, 0, 3, 3, 2, 3, 3, 3, 2, 3, 3, 3, 3, 3, 3, 3, 3, 3, 2, 3, 2, 2, 3, 3, 3, 2, 3, 3, 0, 3, 3, 3, 3, 3, 3, 3, 3, 3, 3, 3, 3, 3, 3, 3, 3, 3, 3, 3, 3, 3, 3, 3, 0, 3, 3, 0, 3, 3, 3, 0, 3, 3, 0, 3, 3, 3, 3, 3, 3, 0, 3, 3, 0, 3, 3, 3, 3, 0, 3, 0, 3, 3, 3, 3, 3, 3, 3, 3, 3, 3, 3, 3, 3, 3, 3, 3, 0, 3, 0, 3, 3, 3, 3, 0, 3, 3, 3, 0, 3, 3, 3, 3, 0, 3, 3, 0, 3, 3, 3, 3, 3, 3, 0, 3, 3, 3, 3, 3, 3, 3, 3, 3, 0, 3, 3, 3, 3, 3, 3, 3, 0, 3, 3, 3, 0, 3, 3, 3, 3, 3, 3, 3, 3, 3, 3, 0, 3, 3, 0, 3, 3, 3, 3, 3, 3, 3, 3, 3, 0, 3, 3, 0, 3, 0, 3, 3, 3, 3, 3, 3, 3, 3, 0, 0, 3, 3, 3, 3, 0, 3, 0, 3, 0, 3, 2, 3, 3, 3, 3, 0, 2, 3, 0, 3, 3, 0, 3, 3, 0, 0, 3, 3, 3, 0, 3, 3, 3, 3, 3, 3, 0, 3, 3, 0, 3, 0, 3, 3, 0, 3, 3, 0, 3, 3, 3, 3, 0, 0, 0, 3, 3, 3, 3, 3, 3, 3, 3, 3, 0, 3, 3, 3, 3, 3, 3, 3, 3, 3, 0, 0, 3, 3, 3, 3, 3, 0, 3, 3, 0, 3, 3, 3, 0, 3, 3, 3, 0, 3, 0, 3, 3, 3, 3, 0, 0, 0, 3, 3, 3, 3, 3, 3, 3, 3, 0, 3, 3, 0, 3, 3, 0, 3, 3, 3, 3, 0, 0, 3, 0, 3, 3, 3, 3, 0, 0, 0, 3, 3, 3, 0, 0, 3, 0, 3, 0, 3, 3, 3, 3, 3, 3, 3, 3, 3, 3, 3, 3, 0, 3, 3, 3, 3, 3, 3, 0, 3, 3, 3, 3, 3, 3, 3, 3, 3, 3, 3, 3, 3, 3, 3, 3, 3, 3, 3, 0, 3, 3, 0, 3, 3, 3, 0, 3, 3, 0, 3, 3, 3, 0, 3, 3, 3, 3, 3, 3, 0, 3, 3, 3, 3, 3, 3, 3, 3, 3, 3, 3, 3, 3, 3, 3, 3, 3, 3, 3, 3, 3, 3, 3, 3, 3, 3, 3, 3, 3, 3, 3, 0, 3, 3, 3, 3, 3, 3, 3, 3, 3, 3, 3, 3, 3, 3, 3, 3, 3, 3, 3, 3, 3, 3, 3, 3, 3, 3, 3, 3, 3, 3, 3, 3, 3, 3, 3, 3, 3, 3, 3, 3, 3, 3, 3, 3, 3, 3, 3, 3, 3, 3, 3, 3, 3, 3, 3, 3, 3, 3, 3, 3, 3, 3, 3, 3, 3, 0, 0, 0, 3, 0, 0, 0, 0, 0, 0, 0, 0, 0, 0, 0, 0, 0, 0, 0, 0, 0, 0, 0, 0, 0, 0, 0, 0, 0, 0, 0, 0, 0, 0, 0, 2, 0, 0, 2, 0, 0, 2, 0, 0, 0, 2, 1, 3, 0, 2, 0, 2, 0, 0, 2, 2, 0, 2, 2, 2, 0, 2, 0, 2, 0, 1, 0, 0, 2, 2, 0, 2, 2, 0, 2, 3, 0, 0, 2, 2, 0, 0, 2, 0, 2, 2, 0, 0, 0, 0, 0, 0, 1, 0, 2, 0, 0, 0, 0, 0, 2, 0, 0, 0, 0, 0, 0, 2, 0, 0, 0, 0, 0, 0, 0, 0, 0, 0, 0, 0, 0, 0, 0, 0, 0, 0, 0, 0, 0, 0, 0, 0, 0, 0, 0, 0, 0, 0, 0, 0, 0, 0, 0, 0, 0, 0, 0, 0, 0, 0, 0, 0, 0, 0, 0, 0, 0, 0, 0, 0, 0, 0, 0, 0, 0, 0, 0, 0, 0, 0, 0, 0, 0, 0, 0, 0, 0, 0, 0, 0, 0, 0, 0, 0, 0, 0, 0, 0, 0, 0, 0, 0, 0, 0, 0, 0, 0, 0, 0, 0, 0, 0, 0, 0, 0, 0, 0, 0, 0, 0, 0, 0, 0, 0, 0, 0, 0, 0, 0, 0, 0, 0, 0, 0, 0, 0, 0, 0, 0, 0, 0, 0, 0, 0, 0, 0, 0, 0, 0, 0, 0, 0, 0, 0, 0, 0, 0, 0, 0, 0, 0, 0, 0, 0, 0, 0, 0, 0, 0, 0, 0, 0, 0, 0, 0, 0, 0, 0, 0, 0, 0, 0, 0, 0, 0, 0, 0, 0, 0, 0, 0, 0, 0, 0, 0, 0, 0, 0, 0, 0, 0, 0, 0, 0, 0, 0, 0, 0, 0, 0, 0, 0, 0, 0, 0, 0, 0, 0, 0, 0, 0, 0, 0, 0, 0, 0, 0, 0, 0, 0, 0, 0, 0, 0, 0, 0, 0, 0, 0, 0, 0, 0, 0, 0, 0, 0, 0, 0, 0, 0, 0, 0, 0, 0, 0, 0, 0, 0, 0, 0, 0, 0, 0, 0, 0, 0, 0, 0, 0, 0, 0, 0, 0, 0, 0, 0, 0, 0, 0, 0, 0, 0, 0, 0, 0, 0, 0, 0, 0, 0, 0, 0, 0, 0, 0, 0, 0, 0, 0, 0, 0, 0, 0, 0, 0, 0, 0, 0, 0, 0, 0, 0, 0, 0, 0, 0, 0, 0, 0, 0, 0, 0, 0, 0, 0, 0, 0, 0, 0, 0, 0, 0, 0, 0, 0, 0, 0, 0, 0, 0, 0, 0, 0, 0, 0, 0, 0, 0, 0, 0, 0, 0, 0, 0, 0, 0, 0, 0, 0, 0, 0, 0, 0, 0, 0, 0, 0, 0, 0, 0, 0, 0, 0, 0, 0, 0, 0, 0, 0, 0, 0, 0, 0, 0, 0, 0, 0, 0, 0, 0, 0, 0, 0, 0, 0, 0, 0, 0, 0, 0, 0, 0, 0, 0, 0, 0, 0, 0, 0, 0, 0, 0, 0, 0, 0, 0, 0, 0, 0, 0, 0, 0, 0, 0, 0, 0, 0, 0, 0, 0, 0, 0, 0, 0, 0, 0, 0, 0, 0, 0, 0, 0, 0, 0, 0, 0, 0, 0, 0, 0, 0, 0, 0, 0, 0, 0, 0, 0, 0, 0, 0, 0, 0, 0, 0, 0, 0, 0, 0, 0, 0, 0, 0, 0, 0, 0, 0, 0, 0, 0, 0, 0, 0, 0, 0, 0, 0, 0, 0, 0, 0, 0, 0, 0, 0, 0, 0, 0, 0, 0, 0, 0, 0, 0, 0, 0, 0, 0, 0, 0, 0, 0, 0, 0, 0, 0, 0, 0, 0, 0, 0, 0, 0, 0, 0, 0, 0, 0, 0, 0, 0, 0, 0, 0, 0, 0, 0, 0, 0, 0, 0, 0, 0, 0, 0, 0, 0, 0, 0, 0, 0, 0, 0, 0, 0, 0, 0, 0, 0, 0, 0, 0, 0, 0, 0, 0, 0, 0, 0, 0, 0, 0, 0, 0, 0, 0, 1, 0, 0, 2, 2, 0, 2, 2, 2, 2, 2, 2, 2, 0, 0, 2, 2, 2, 1, 2, 2, 0, 2, 2, 2, 2, 2, 2, 1, 2, 2, 2, 2, 1, 2, 2, 2, 0, 2, 2, 2, 0, 2, 0, 2, 2, 2, 2, 2, 2, 2, 2, 0, 2, 2, 2, 2, 0, 2, 2, 0, 0, 2, 2, 2, 0, 0, 2, 0, 2, 2, 0, 2, 0, 2, 0, 2, 0, 2, 2, 2, 0, 0, 2, 0, 2, 2, 0, 0, 2, 0, 2, 2, 0, 2, 0, 2, 0, 2, 0, 0, 0, 0, 0, 2, 0, 2, 0, 0, 2, 0, 2, 0, 0, 0, 0, 0, 0, 0, 0, 0, 2, 2, 0, 0, 2, 2, 0, 0, 2, 1, 0, 2, 1, 2, 0, 0, 0, 0, 0, 2, 0, 0, 2, 0, 2, 0, 0, 0, 0, 0, 0, 0, 0, 0, 0, 0, 2, 0, 0, 0, 2, 0, 0, 2, 1, 2, 0, 2, 0, 2, 0, 0, 0, 0, 0, 0, 0, 0, 0, 0, 2, 0, 1, 0, 0, 0, 0, 0, 1, 1, 0, 1, 0, 0, 0, 1, 0, 0, 1, 1, 1, 0, 0, 1, 1, 0, 0, 0, 0, 0, 0, 0, 0, 0, 0, 0, 0, 0, 0, 0, 0, 0, 0, 0, 0, 0, 0, 0, 0, 0, 0, 0, 0, 0, 0, 0, 0, 0, 0, 0, 0, 0, 0, 0, 0, 0, 0, 0, 0, 0, 0, 0, 0, 0, 0, 0, 0, 0, 0, 0, 0, 0, 0, 0, 0, 0, 0, 0, 0, 0, 0, 0, 0, 0, 0, 0, 0, 0, 0, 0, 0, 0, 0, 0, 0, 0, 0, 0, 0, 0, 0, 0, 0, 0, 0, 0, 0, 0, 0, 0, 0, 0, 0, 0, 0, 0, 0, 0, 0, 0, 0, 0, 0, 0, 0, 0, 0, 0, 0, 0, 0, 0, 0, 0, 0, 0, 0, 0, 0, 0, 0, 0, 0, 0, 0, 0, 0, 0, 0, 0, 0, 0, 0, 0, 0, 0, 0, 0, 0, 0, 0, 0, 0, 0, 0, 0, 0, 0, 0, 0, 0, 0, 0, 0, 0, 0, 0, 0, 0, 0, 0, 0, 0, 0, 0, 0, 0, 0, 0, 0, 0, 0, 0, 0, 0, 0, 0, 0, 0, 0, 0, 0, 0, 0, 0, 0, 0, 0, 0, 0, 0, 0, 0, 0, 0, 0, 0, 0, 0, 0, 0, 0, 0, 0, 0, 0, 0, 0, 0, 0, 0, 0, 0, 0, 0, 0, 0, 0, 0, 0, 0, 0, 0, 0, 0, 0, 0, 0, 0, 0, 0, 0, 0, 0, 0, 0, 0, 0, 0, 0, 0, 0, 0, 0, 0, 0, 0, 0, 0, 0, 0, 0, 0, 0, 0, 0, 0, 0, 0, 0, 0, 0, 0, 0, 0, 0, 0, 0, 0, 0, 0, 0, 0, 0, 0, 0, 0, 0, 0, 0, 0, 0, 0, 0, 0, 0, 0, 0, 0, 0, 0, 0, 0, 0, 0, 0, 0, 0, 0, 0, 0, 0, 0, 0, 0, 0, 0, 0, 0, 0, 0, 0, 0, 0, 0, 0, 0, 0, 0, 0, 0, 0, 0, 0, 0, 0, 0, 0, 0, 0, 0, 0, 0, 0, 0, 0, 0, 0, 0, 0, 0, 0, 0, 0, 0, 0, 0, 0, 0, 0, 0, 0, 0, 0, 0, 0, 0, 0, 0, 0, 0, 0, 0, 0, 0, 0, 0, 0, 0, 0, 0, 0, 0, 0, 0, 0, 0, 0, 0, 0, 0, 0, 0, 0, 0, 0, 0, 0, 0, 0, 0, 0, 0, 0, 0, 0, 0, 0, 0, 0, 0, 0, 0, 0, 0, 0, 0, 0, 0, 0, 0, 0, 0, 0, 0, 0, 0, 0, 0, 0, 0, 0, 0, 0, 0, 0, 0, 0, 0, 0, 0, 0, 0, 0, 0, 0, 0, 0, 0, 0, 0, 0, 0, 0, 0, 0, 0, 0, 0, 0, 0, 0, 0, 0, 0, 0, 0, 0, 0, 0, 0, 0, 0, 0, 0, 0, 0, 0, 0, 0, 0, 0, 0, 0, 0, 0, 0, 0, 0, 0, 0, 0, 0, 0, 0, 0, 0, 0, 0, 0, 0, 0, 0, 0, 0, 0, 0, 0, 0, 0, 0, 0, 0, 0, 0, 0, 0, 0, 0, 0, 0, 0, 0, 0, 0, 0, 0, 0, 0, 0, 0, 0, 0, 0, 0, 0, 0, 0, 0, 0, 0, 0, 0, 0, 0, 0, 0, 0, 0, 0, 0, 0, 0, 0, 0, 0, 0, 0, 0, 0, 0, 0, 0, 0, 0, 0, 0, 0, 0, 0, 0, 0, 0, 0, 0, 0, 0, 0, 0, 0, 0, 0, 0, 0, 0, 0, 0, 0, 0, 0, 0, 0, 0, 0, 0, 0, 0, 0, 0, 0, 0, 0, 0, 0, 0, 0, 0, 0, 0, 0, 0, 0, 0, 0, 0, 0, 0, 0, 0, 0, 0, 0, 0, 0, 0, 0, 0, 0, 0, 0, 0, 0, 0, 0, 0, 0, 0, 0, 0, 0, 0, 0, 0, 0, 0, 0, 0, 0, 0, 0, 0, 0, 0, 0, 0, 0, 0, 0, 0, 0, 0, 0, 0, 0, 0, 0, 0, 0, 0, 0, 0, 0, 0, 0, 0, 0, 0, 0, 0, 0, 0, 0, 0, 0, 0, 0, 0, 0, 0, 0, 0, 0, 0, 0, 0, 0, 0, 0, 0, 0, 0, 0, 0, 0, 0, 0, 0, 0, 0, 0, 0, 0, 0, 0, 0, 0, 0, 0, 0, 0, 0, 0, 0, 0, 0, 0, 0, 0, 0, 0, 0, 0, 0, 0, 0, 0, 0, 0, 0, 0, 0, 0, 0, 0, 0, 0, 0, 0, 0, 0, 0, 0, 0, 0, 0, 0, 0, 0, 0, 0, 0, 0, 0, 0, 0, 0, 0, 0, 0, 0, 0, 0, 0, 0, 0, 0, 0, 0, 0, 0, 0, 0, 0, 0, 0, 0, 0, 0, 0, 0, 0, 0, 0, 0, 0, 0, 0, 0, 0, 0, 0, 0, 0, 0, 0, 0, 0, 0, 0, 0, 0, 0, 0, 0, 0, 0, 0, 0, 0, 0, 0, 0, 0, 0, 0, 0, 0, 0, 0, 0, 0, 0, 0, 0, 0, 0, 0, 0, 0, 0, 0, 0, 0, 0, 0, 0, 0, 0, 0, 0, 0, 0, 0, 0, 0, 0, 0, 0, 0, 0, 0, 0, 0, 0, 0, 0, 0, 0, 0, 0, 0, 0, 0, 0, 0, 0, 0, 0, 0, 0, 0, 0, 0, 0, 0, 0, 0, 0, 0, 0, 0, 0, 0, 0, 0, 0, 0, 0, 0, 0, 0, 0, 0, 0, 0, 0, 0, 2, 0, 0, 0, 0, 0, 0, 0, 0, 0, 2, 0, 0, 0, 0, 0, 0, 0, 0, 0, 2, 0, 0, 0, 0, 2, 0, 0, 0, 2, 0, 0, 0, 0, 0, 0, 0, 0, 0, 0, 0, 0, 0, 0, 0, 0, 0, 0, 0, 0, 0, 0, 0, 0, 0, 0, 0, 0, 0, 0, 0, 0, 0, 0, 0, 0, 0, 0, 0, 0, 0, 0, 0, 0, 0, 0, 0, 0, 0, 0, 0, 0, 0, 0, 0, 0, 0, 0, 0, 0, 0, 0, 0, 0, 0, 0, 0, 0, 0, 0, 0, 0, 0, 0, 0, 0, 0, 0, 0, 0, 0, 0, 0, 0, 0, 0, 0, 0, 0, 0, 0, 0, 0, 0, 0, 0, 0, 0, 0, 0, 0, 0, 0, 0, 0, 0, 0, 0, 0, 0, 0, 0, 0, 0, 0, 0, 0, 0, 0, 0, 0, 0, 0, 0, 0, 0, 0, 0, 0, 0, 0, 0, 0, 0, 0, 0, 2, 0, 0, 0, 0, 0, 0, 0, 0, 0, 2, 0, 0, 0, 0, 0, 0, 2, 0, 0, 0, 0, 0, 2, 0, 0, 0, 0, 0, 0, 0, 2, 0, 0, 0, 0, 0, 0, 0, 0, 0, 0, 0, 0, 0, 0, 0, 0, 0, 0, 0, 0, 0, 0, 2, 0, 0, 0, 0, 0, 0, 0, 0, 0, 0, 0, 0, 0, 0, 0, 0, 0, 0, 0, 0, 0, 0, 0, 0, 0, 0, 0, 0, 0, 0, 0, 0, 2, 0, 0, 2, 0, 0, 0, 0, 0, 0, 0, 0, 0, 0, 0, 0, 0, 0, 0, 0, 0, 0, 0, 0, 0, 0, 0, 0, 0, 0, 0, 0, 0, 0, 0, 0, 0, 0, 0, 0, 0, 0, 0, 0, 0, 0, 0, 2, 0, 0, 0, 2, 0, 0, 0, 0, 0, 0, 0, 0, 0, 0, 0, 0, 0, 0, 0, 2, 0, 0, 0, 0, 0, 0, 0, 0, 0, 0, 0, 0, 0, 0, 0, 0, 0, 0, 0, 0, 0, 0, 0, 0, 0, 0, 0, 0, 0, 0, 0, 0, 0, 0, 0, 0, 0, 0, 0, 0, 0, 0, 0, 0, 0, 0, 0, 0, 0, 0, 0, 0, 0, 0, 0, 0, 0, 0, 0, 2, 0, 0, 0, 0, 0, 0, 0, 0, 0, 0, 0, 0, 0, 0, 0, 0, 0, 0, 0, 0, 0, 0, 0, 0, 0, 0, 0, 2, 0, 0, 0, 0, 0, 0, 0, 0, 0, 0, 0, 0, 0, 0, 0, 2, 0, 0, 0, 0, 0, 0, 0, 0, 0, 0, 0, 0, 0, 0, 0, 0, 0, 0, 0, 0, 0, 0, 0, 0, 0, 0, 0, 0, 0, 0, 0, 0, 0, 0, 0, 0, 0, 0, 0, 0, 0, 0, 0, 0, 0, 0, 0, 0, 0, 0, 0, 0, 0, 0, 0, 0, 0, 0, 0, 0, 0, 0, 0, 0, 0, 0, 0, 0, 0, 0, 0, 2, 0, 2, 0, 0, 0, 0, 0, 0, 0, 0, 0, 0, 2, 0, 0, 0, 0, 0, 0, 0, 0, 0, 0, 0, 0, 0, 0, 0, 0, 0, 0, 0, 0, 0, 0, 0, 0, 0, 0, 0, 0, 0, 0, 0, 0, 0, 0, 0, 0, 0, 0, 0, 0, 0, 0, 0, 0, 0, 0, 0, 0, 0, 0, 0, 0, 0, 2, 0, 0, 0, 0, 0, 0, 0, 0, 0, 0, 0, 0, 0, 0, 0, 0, 0, 0, 0, 0, 0, 1, 0, 2, 0, 0, 0, 0, 0, 0, 0, 1, 0, 1, 0, 0, 1, 1, 1, 0, 0, 1, 2, 1, 0, 1, 1, 1, 0, 0, 0, 0, 1, 2, 1, 0, 0, 0, 0, 1, 0, 0, 0, 0, 1, 0, 0, 0, 1, 0, 0, 0, 1, 0, 2, 0, 0, 0, 0, 0, 0, 0, 1, 0, 1, 0, 0, 1, 1, 1, 0, 0, 1, 2, 1, 0, 1, 1, 1, 0, 0, 0, 0, 1, 2, 1, 0, 0, 0, 0, 1, 0, 0, 0, 0, 1, 0, 0, 0, 1, 0, 1, 0, 0, 0, 0, 0, 0, 0, 0, 0, 0, 0, 0, 0, 0, 0, 2, 0, 0, 2, 0, 0, 0, 2, 2, 1, 0, 0, 2, 0, 0, 2, 2, 0, 0, 2, 2, 0, 0, 2, 2, 0, 0, 0, 0, 2, 0, 0, 0, 0, 0, 0, 0, 0, 0, 0, 0, 0, 0, 0, 0, 0, 0, 2, 0, 0, 0, 0, 0, 0, 2, 0, 0, 0, 0, 0, 0, 0, 0, 0, 0, 0, 0, 0, 0, 0, 0, 0, 0, 0, 0, 0, 0, 0, 0, 0, 0, 2, 0, 0, 0, 0, 0, 0, 0, 0, 0, 0, 0, 0, 0, 0, 0, 0, 0, 0, 0, 0, 0, 0, 0, 0, 0, 0, 0, 0, 0, 0, 0, 0, 2, 0, 0, 0, 0, 0, 0, 0, 0, 2, 0, 0, 0, 0, 0, 2, 0, 0, 0, 0, 0, 0, 0, 0, 2, 0, 0, 0, 0, 0, 0, 2, 0, 0, 0, 0, 0, 0, 0, 0, 0, 0, 0, 0, 0, 0, 2, 0, 0, 0, 0, 0, 0, 0, 0, 0, 0, 0, 0, 0, 0, 0, 0, 0, 0, 0, 0, 0, 0, 0, 0, 0, 0, 0, 0, 0, 0, 0, 0, 0, 0, 0, 0, 0, 0, 0, 0, 0, 0, 0, 0, 0, 0, 0, 0, 0, 0, 0, 0, 0, 0, 0, 0, 0, 0, 0, 0, 0, 0, 0, 0, 0, 0, 0, 0, 0, 0, 0, 0, 0, 0, 0, 0, 0, 0, 0, 0, 0, 0, 0, 0, 0, 0, 0, 0, 0, 0, 0, 0, 0, 0, 0, 0, 0, 0, 0, 0, 0, 0, 0, 0, 0, 0, 0, 0, 0, 0, 0, 0, 2, 0, 0, 0, 0, 0, 0, 0, 0, 0, 0, 0, 0, 0, 0, 0, 0, 0, 0, 0, 0, 0, 0, 0, 0, 0, 0, 0, 0, 0, 0, 0, 0, 0, 0, 0, 0, 0, 0, 0, 0, 0, 0, 0, 0, 0, 0, 0, 0, 0, 0, 0, 0, 0, 0, 0, 0, 0, 0, 0, 0, 0, 0, 0, 2, 0, 0, 0, 0, 0, 0, 0, 0, 0, 2, 0, 0, 0, 0, 0, 2, 0, 0, 0, 0, 0, 0, 0, 0, 0, 0, 0, 0, 0, 0, 0, 0, 0, 2, 0, 0, 0, 0, 0, 0, 0, 0, 0, 0, 0, 0, 0, 0, 0, 0, 0, 0, 0, 0, 0, 0, 0, 0, 0, 0, 0, 0, 0, 0, 0, 0, 0, 0, 0, 0, 0, 0, 0, 0, 0, 2, 0, 0, 0, 2, 2, 0, 0, 0, 0, 0, 0, 0, 0, 0, 0, 0, 0, 0, 0, 0, 2, 0, 0, 0, 0, 2, 0, 0, 0, 0, 0, 0, 0, 0, 0, 2, 0, 0, 0, 0, 0, 0, 0, 0, 0, 0, 0, 2, 0, 0, 0, 0, 0, 0, 0, 2, 0, 0, 0, 0, 2, 0, 0, 0, 0, 2, 0, 2, 2, 0, 0, 0, 0, 2, 0, 0, 0, 0, 0, 0, 0, 0, 0, 0, 2, 2, 0, 0, 0, 0, 0, 0, 0, 0, 2, 0, 0, 2, 2, 0, 0, 0, 0, 0, 0, 0, 2, 0, 2, 0, 0, 0, 2, 0, 0, 0, 0, 0, 0, 0, 2, 0, 0, 0, 0, 2, 0, 0, 0, 0, 0, 0, 0, 2, 0, 0, 0, 2, 0, 0, 0, 0, 2, 0, 0, 0, 2, 0, 0, 2, 0, 0, 0, 0, 0, 0, 0, 0, 0, 2, 0, 0, 0, 2, 0, 0, 0, 0, 0, 0, 0, 2, 0, 0, 0, 0, 0, 0, 0, 0, 0, 0, 0, 0, 0, 0, 0, 0, 0, 0, 0, 0, 0, 0, 0, 0, 0, 0, 0, 0, 0, 0, 0, 0, 2, 0, 0, 0, 0, 0, 0, 0, 0, 0, 0, 0, 0, 0, 0, 0, 0, 0, 0, 0, 0, 0, 0, 0, 0, 0, 0, 0, 0, 0, 0, 0, 0, 0, 0, 0, 0, 0, 0, 0, 0, 0, 0, 0, 0, 0, 0, 0, 0, 0, 0, 0, 0, 0, 0, 0, 0, 0, 0, 0, 0, 0, 0, 0, 0, 0, 0, 0, 2, 0, 0, 0, 0, 0, 0, 0, 0, 0, 0, 0, 0, 0, 0, 0, 0, 0, 0, 0, 0, 0, 0, 0, 0, 0, 0, 0, 0, 0, 0, 0, 0, 0, 0, 0, 0, 0, 0, 0, 0, 0, 0, 0, 0, 0, 0, 0, 0, 0, 0, 0, 0, 0, 0, 0, 0, 0, 0, 0, 0, 0, 0, 0, 0, 0, 0, 0, 0, 0, 0, 0, 0, 0, 0, 0], \"coloraxis\": \"coloraxis\", \"symbol\": \"circle\"}, \"mode\": \"markers\", \"name\": \"\", \"scene\": \"scene\", \"showlegend\": false, \"type\": \"scatter3d\", \"x\": [512, 0, 236, 0, 0, 6, 614, 453, 1, 9, 2, 4, 4, 4, 11, 100, 256, 173, 166, 2, 15, 7, 0, 0, 0, 0, 36, 78, 9, 300, 0, 14, 0, 1, 4, 8, 137, 15, 11, 292, 72, 39, 181, 210, 12, 456, 9, 60, 235, 444, 11, 72, 21, 255, 136, 327, 284, 114, 81, 292, 8, 193, 32, 258, 13, 6, 259, 468, 130, 251, 0, 258, 247, 89, 341, 1, 316, 1, 368, 1, 76, 63, 171, 461, 540, 3, 6, 12, 10, 12, 9, 12, 10, 18, 16, 7, 25, 512, 709, 1979, 17, 11, 8, 10, 2, 1, 0, 0, 16, 14, 15, 18, 25, 145, 14, 17, 116, 157, 46, 120, 453, 486, 2, 5, 199, 77, 11, 825, 0, 805, 5, 14, 11, 12, 12, 6, 8, 9, 8, 11, 449, 49, 17, 589, 558, 15, 5, 8, 31, 247, 13, 157, 424, 3, 131, 0, 7, 7, 14, 525, 4, 24, 12, 15, 491, 4, 633, 588, 20, 20, 7, 23, 7, 18, 6, 5, 3, 417, 18, 12, 11, 355, 10, 8, 8, 17, 8, 564, 11, 2, 110, 2, 1, 7, 605, 7, 3, 158, 888, 10, 9, 7, 6, 911, 3, 3, 7, 6, 996, 16, 6, 6, 6, 6, 574, 8, 23, 34, 7, 14, 6, 3, 17, 28, 2, 1381, 7, 10, 524, 14, 16, 9, 11, 15, 19, 8, 0, 0, 462, 11, 1, 9, 9, 40, 2, 8, 6, 2, 3, 1, 0, 6, 1, 3, 9, 4, 3, 4, 0, 3, 0, 4, 5, 10, 12, 6, 11, 2, 0, 0, 0, 5, 6, 0, 4, 0, 0, 2, 8, 2, 1, 254, 5, 265, 7, 0, 1, 5, 0, 8, 5, 5, 7, 523, 0, 309, 2, 5, 7, 9, 6, 1, 2, 8, 16, 0, 13, 4, 6, 0, 1, 4, 3, 0, 5, 6, 1, 0, 1, 3, 4, 10, 9, 5, 24, 9, 0, 9, 3, 4, 5, 11, 18, 9, 1, 0, 0, 61, 0, 1, 6, 10, 22, 769, 16, 4, 9, 2, 2, 48, 7, 18, 4, 10, 5, 37, 560, 8, 16, 9, 10, 117, 10, 7, 16, 1, 3, 17, 8, 9, 13, 13, 12, 128, 8, 2, 427, 1, 0, 3, 2, 0, 7, 1, 54, 11, 4, 0, 5, 13, 16, 7, 3, 3, 9, 95, 25, 266, 23, 10, 75, 11, 10, 5, 3, 11, 6, 4, 2, 10, 165, 2, 21, 6148, 1, 6, 8, 6, 8, 12, 2, 103, 4, 10, 1, 9, 195, 84, 8, 5, 14, 16, 8, 8, 5, 9, 6, 4, 11, 8, 14, 10, 19, 4, 3, 1201, 12, 22, 7, 2, 15, 2, 19, 3, 8, 3, 1, 4, 147, 2, 7, 9, 127, 9, 44, 3, 7, 72, 8, 2, 3, 1, 21, 274, 8, 5498, 4, 11, 4, 8, 19013, 23, 4661, 8, 432, 7, 383, 4, 8, 2, 6, 169, 12, 4, 11, 13, 5, 8, 20990, 36, 12, 19, 13, 0, 12, 4, 4, 9, 0, 8, 2, 1, 0, 0, 1, 0, 7, 0, 0, 0, 0, 0, 0, 0, 0, 0, 0, 0, 0, 0, 5, 0, 5, 0, 0, 0, 2, 2, 0, 0, 0, 9, 0, 0, 1, 0, 1, 0, 0, 0, 0, 2, 0, 5, 3, 1, 0, 0, 1, 2, 0, 0, 9, 0, 3, 0, 0, 1, 0, 0, 0, 1, 0, 3, 0, 0, 0, 1, 10, 14, 6, 2, 80, 46, 4, 26, 14, 7, 4, 34, 6, 27, 8, 5, 4, 3, 14, 17, 4, 19, 1, 1, 10, 4, 3, 4, 3, 5, 9, 13, 26, 3, 2, 6, 18, 4, 1, 5, 1, 3, 1, 16, 1, 8, 4, 1, 4, 27, 6, 31, 186, 40, 33, 7, 102, 2, 6, 8, 93, 5, 11, 1, 0, 4, 3, 4, 3, 30, 1, 1, 4, 1, 120, 0, 6, 52, 8, 6, 3, 1, 0, 10, 14, 0, 5, 3, 5, 0, 11, 6, 3, 0, 14, 8, 21, 4, 1, 15, 6, 154, 2, 1, 2, 10, 13, 12, 15, 2, 13, 14, 11, 10, 52, 0, 53, 136, 2, 1, 2, 0, 1, 20, 26, 13, 3, 17, 5, 184, 16, 18, 11, 1, 5, 19, 35, 0, 9, 10, 3, 9, 16, 1, 24, 10, 8, 62, 18, 14, 15, 18, 1, 4, 19, 20, 11, 15, 18, 24, 11, 24, 1, 21, 16, 16, 27, 4, 131, 11, 11, 15, 18, 19, 0, 33, 5, 2, 3, 3, 16, 3, 3, 0, 10, 11, 2, 1, 3, 14, 1, 0, 9, 17, 6, 5, 2, 14, 48, 2, 1, 1, 1, 7, 3, 2, 18, 2, 12, 2, 9, 10, 3, 5, 16, 21, 0, 16, 14, 14, 5, 0, 13, 13, 4, 3, 15, 78, 4, 44, 8, 25, 15, 30, 14, 9, 89, 18, 15, 152, 124, 1, 6, 2, 134, 11, 29, 45, 108, 7, 10, 9, 45, 242, 43, 4, 15, 4, 31, 10, 25, 84, 173, 19, 10, 39, 13, 2, 13, 10, 6, 14, 10, 1, 145, 18, 18, 6, 3, 10, 2, 14, 0, 41, 389, 11, 4, 23, 8, 407, 93, 16, 0, 13, 18, 2, 0, 6, 13, 2, 5, 15, 14, 1, 3, 4, 1, 4, 0, 1, 6, 1, 8, 3, 10, 0, 20, 5, 8, 10, 1, 2, 9, 3, 2, 5, 6, 1, 4, 0, 16, 3, 22, 9, 10, 7, 9, 18, 13, 19, 19, 14, 5, 4, 0, 1, 9, 0, 4, 8, 2, 3, 5, 0, 6, 19, 16, 9, 11, 8, 2, 9, 4, 13, 7, 2, 6, 10, 37, 3, 11, 5, 10, 6, 11, 1, 0, 9, 0, 6, 26, 11, 8, 12, 19, 11, 11, 16, 16, 12, 18, 4, 13, 30, 5, 8, 8, 2, 7, 16, 3, 0, 0, 2, 11, 3, 0, 9, 9, 0, 12, 8, 13, 19, 8, 11, 12, 5, 16, 13, 7, 20, 5, 0, 18, 13, 18, 9, 2, 12, 3, 9, 12, 7, 23, 14, 6, 9, 10, 14, 0, 13, 34, 13, 67, 1, 3, 15, 9, 14, 9, 6, 25, 8, 23, 13, 10, 10, 57, 5, 10, 10, 4, 22, 17, 9, 6, 5, 0, 0, 5, 13, 3, 5, 12, 6, 28, 9, 7, 6, 1, 6, 154, 10, 2, 49, 14, 3, 8, 11, 8, 12, 129, 8, 211, 9, 8, 222, 11, 12, 6, 14, 10, 14, 7, 20, 18, 13, 1, 10, 260, 290, 2, 21, 330, 14, 15, 28, 15, 17, 31, 7, 199, 12, 23, 12, 29, 15, 11, 10, 286, 13, 44, 225, 363, 32, 17, 24, 10, 8, 27, 25, 74, 21, 56, 297, 15, 354, 8, 16, 284, 2, 13, 14, 206, 13, 8, 0, 10, 1, 4, 7, 6, 8, 361, 11, 390, 10, 12, 32, 7, 10, 509, 11, 11, 32, 22, 10, 10, 17, 0, 1, 0, 21, 4, 5, 15, 14, 15, 11, 22, 12, 13, 18, 7, 2, 4, 70, 12, 32, 17, 5, 2, 7, 16, 1, 0, 2, 36, 22, 30, 14, 3, 13, 18, 0, 3, 26, 213, 28, 449, 35, 6, 28, 13, 11, 179, 4, 12, 175, 14, 24, 16, 8, 7, 281, 5, 4, 42, 46, 8, 10, 22, 21, 3, 6, 3, 7, 10, 14, 8, 50, 8, 19, 12, 10, 5, 7, 11, 19, 108, 53, 19, 4, 23, 32, 24, 16, 12, 20, 3, 26, 6, 10, 38, 85, 24, 14, 32, 14, 29, 11, 12, 5, 9, 9, 15, 13, 38, 11, 7, 21, 13, 58, 66, 41, 25, 35, 42, 44, 40, 16, 55, 36, 26, 17, 6, 9, 0, 7, 24, 21, 51, 10, 9, 11, 4, 6, 8, 5, 122, 14, 30, 37, 46, 3, 43, 13, 18, 8, 6, 0, 28, 6, 23, 113, 0, 0, 131, 29, 243, 196, 38, 0, 1, 0, 0, 0, 0, 0, 11, 162, 15, 16, 5, 17, 58, 67, 22, 9, 3, 34, 4, 156, 7, 1, 84, 12, 4, 25, 29, 4, 23, 15, 15, 9, 9, 6, 19, 10, 31, 3, 5, 41, 17, 4, 5, 38, 17, 14, 3, 5, 24, 19, 6, 7, 6, 7, 5, 6, 13, 7, 7, 11, 40, 3, 36, 0, 14, 1, 13, 30, 12, 23, 18, 10, 15, 8, 6, 14, 12, 20, 10, 0, 10, 17, 31, 24, 9, 22, 16, 4, 17, 19, 10, 48, 3, 16, 18, 30, 234, 107, 36, 9, 9, 14, 64, 10, 50, 44, 9, 77, 61, 48, 5, 26, 9, 0, 8, 13, 5, 6, 10, 4, 0, 3, 23, 3, 8, 24, 2, 4, 17, 7, 6, 8, 11, 7, 16, 9, 24, 28, 17, 6, 18, 6, 10, 5, 5, 20, 12, 25, 6, 7, 16, 12, 8, 6, 34, 46, 17, 15, 2, 17, 2, 0, 10, 16, 13, 13, 2, 6, 21, 6, 10, 17, 4, 4, 22, 26, 10, 18, 46, 23, 25, 31, 8, 9, 12, 3, 14, 17, 9, 6, 5, 11, 12, 5, 32, 5, 5, 9, 2, 36, 9, 8, 7, 30, 2, 1, 6, 0, 10, 7, 18, 7, 1, 5, 31, 9, 19, 1, 2, 21, 6, 10, 7, 31, 0, 2, 7, 5, 3, 4, 0, 3, 5, 6, 0, 0, 1, 1, 1, 0, 4, 3, 0, 1, 0, 3, 12, 0, 3, 0, 6, 2, 3, 3, 3, 8, 0, 0, 13, 1, 6, 11, 0, 0, 2, 23, 0, 4, 2, 14, 1, 18, 3, 9, 7, 3, 4, 11, 0, 6, 6, 9, 2, 0, 3, 1, 34, 0, 9, 0, 2, 6, 44, 7, 11, 4, 11, 6, 3, 52, 2, 6, 30, 10, 0, 11, 7, 0, 12, 13, 6, 53, 5, 12, 6, 1, 22, 9, 22, 6, 9, 2, 4, 24, 2, 9, 5, 14, 20, 2, 1, 9, 3, 3, 4, 1, 0, 0, 6, 9, 17, 6, 13, 3, 0, 15, 5, 1, 0, 2, 3, 3, 0, 14, 1, 8, 0, 5, 17, 5, 5, 1, 18, 5, 86, 22, 5, 5, 9, 8, 20, 3, 11, 1, 5, 4, 2, 9, 6, 1, 1, 15, 14, 35, 25, 30, 1, 7, 4, 0, 5, 0, 0, 1, 2, 0, 15, 6, 2, 2, 8, 3, 5, 24, 22, 12, 3, 16, 5, 11, 1, 0, 5, 0, 0, 1, 2, 17, 1, 1, 1, 1, 4, 5, 2, 0, 0, 8, 3, 1, 10, 2, 0, 5, 1, 4, 1, 0, 5, 10, 4, 4, 5, 10, 6, 0, 5, 7, 3, 7, 6, 8, 3, 0, 5, 1, 0, 4, 0, 0, 1, 0, 0, 1, 4, 0, 3, 4, 1, 3, 8, 2, 0, 7, 7, 2, 1, 0, 2, 6, 1, 5, 6, 5, 0, 0, 2, 6, 2, 4, 0, 1, 1, 0, 10, 9, 6, 0, 3, 2, 2, 0, 1, 1, 0, 0, 0, 0, 1, 1, 0, 1, 0, 16, 10, 2, 1, 0, 4, 0, 9, 16, 9, 4, 14, 4, 5, 14, 19, 10, 1, 4, 7, 0, 0, 6, 1, 214, 2, 3, 3, 0, 1, 0, 0, 3, 4, 18, 4, 7, 5, 2, 8, 9, 3, 2, 5, 0, 13, 5, 0, 0, 10, 28, 4, 1, 0, 4, 0, 15, 0, 23, 1, 6, 9, 7, 11, 6, 2, 4, 1, 19, 3, 17, 4, 0, 0, 13, 9, 3, 16, 0, 4, 12, 7, 6, 1, 5, 7, 7, 4, 14, 2, 14, 0, 0, 1, 0, 2, 1, 1, 3, 3, 1, 8, 12, 2, 8, 10, 0, 14, 2, 11, 4, 2, 2, 0, 1, 2, 0, 0, 10, 2, 0, 9, 1, 0, 0, 6, 11, 0, 0, 0, 6, 1, 0, 0, 0, 0, 11, 4, 1, 4, 5, 9, 3, 10, 7, 3, 0, 0, 9, 4, 2, 3, 15, 3, 11, 18, 2, 2, 3, 6, 2, 4, 10, 2, 4, 23, 0, 5, 2, 0, 11, 0, 1, 4, 3, 1, 5, 3, 6, 13, 0, 0, 18, 0, 2, 1, 0, 1, 15, 28, 0, 0, 17, 19, 4, 0, 2, 5, 4, 5, 4, 0, 3, 10, 6, 0, 0, 5, 1, 23, 3, 0, 1, 0, 1, 0, 6, 10, 0, 0, 1, 4, 2, 0, 4, 2, 1, 8, 4, 8, 6, 6, 7, 4, 7, 8, 2, 8, 5, 25, 4, 4, 3, 4, 0, 10, 19, 1, 0, 1, 0, 0, 4, 23, 2, 21, 0, 11, 6, 5, 4, 17, 5, 22, 1, 4, 2, 7, 1, 6, 3, 13, 18, 5, 1, 25, 15, 11, 4, 5, 0, 3, 15, 5, 24, 30, 11, 11, 36, 0, 0, 7, 1, 16, 11, 14, 6, 8, 10, 5, 0, 8, 0, 13, 9, 7, 9, 5, 7, 9, 13, 11, 8, 4, 2, 12, 1, 20, 2, 4, 0, 0, 0, 1, 0, 1, 8, 0, 0, 0, 2, 7, 12, 5, 25, 11, 7, 28, 31, 11, 0, 17, 5, 9, 11, 0, 10, 0, 0, 1, 6, 0, 22, 24, 30, 25, 0, 7, 4, 2, 6, 18, 4, 0, 4, 1, 11, 1, 6, 8, 0, 3, 3, 44, 3, 2, 3, 1, 0, 8, 3, 2, 0, 16, 3, 2, 10, 0, 1, 6, 6, 0, 2, 0, 2, 3, 0, 1, 1, 0, 2, 0, 3, 7, 1, 6, 1, 0, 1, 12, 25, 0, 12, 6, 15, 3, 6, 6, 6, 23, 5, 4, 9, 11, 2, 7, 1, 2, 17, 7, 2, 16, 13, 18, 9, 18, 28, 7, 4, 0, 5, 8, 1, 0, 3, 5, 0, 12, 0, 4, 11, 2, 1, 7, 4, 12, 13, 5, 6, 1, 3, 1, 8, 0, 12, 3, 0, 3, 10, 8, 10, 4, 7, 10, 14, 6, 6, 0, 0, 1, 5, 2, 3, 0, 12, 0, 10, 28, 6, 3, 7, 5, 5, 2, 12, 0, 11, 3, 3, 8, 6, 6, 10, 5, 1, 7, 1, 5, 3, 11, 2, 0, 2, 10, 17, 13, 4, 0, 5, 0, 2, 2, 3, 4, 7, 2, 6, 4, 12, 2, 14, 0, 5, 1, 0, 10, 8, 10, 1, 5, 4, 4, 4, 0, 0, 1, 3, 3, 4, 2, 5, 9, 4, 1, 1, 10, 5, 11, 13, 13, 8, 15, 4, 3, 6, 12, 2, 3, 12, 7, 10, 6, 6, 3, 11, 3, 12, 2, 10, 18, 0, 0, 3, 22, 0, 1, 9, 13, 15, 5, 21, 17, 0, 9, 3, 27, 8, 12, 14, 5, 0, 2, 0, 2, 1, 16, 0, 18, 3, 0, 4, 0, 12, 11, 32, 7, 2, 12, 6, 3, 13, 0, 11, 4, 2, 5, 3, 0, 12, 1, 5, 6, 11, 9, 11, 22, 9, 25, 5, 4, 7, 17, 21, 5, 21, 11, 2, 4, 1, 5, 15, 2, 18, 6, 8, 8, 3, 5, 1, 10, 4, 5, 9, 3, 6, 17, 5, 0, 18, 18, 5, 0, 5, 3, 7, 13, 11, 16, 4, 4, 12, 19, 9, 3, 2, 4, 8, 5, 7, 37, 12, 0, 7, 16, 9, 7, 13, 11, 13, 9, 1, 47, 13, 6, 0, 0, 1, 2, 7, 1, 10, 4, 15, 0, 4, 0, 1, 2, 3, 0, 3, 5, 0, 0, 1, 9, 1, 2, 0, 3, 8, 6, 7, 7, 7, 5, 2, 30, 12, 3, 7, 4, 7, 5, 2, 18, 4, 2, 14, 3, 5, 1, 32, 2, 4, 33, 1, 4, 24, 6, 2, 19, 20, 2, 0, 5, 0, 7, 8, 7, 2, 13, 9, 2, 3, 2, 10, 3, 0, 0, 17, 0, 1, 14, 17, 3, 39, 5, 3, 0, 1, 11, 4, 4, 2, 17, 3, 1, 7, 3, 0, 1, 1222, 1, 0, 1, 1, 0, 553, 0, 25, 0, 0, 1, 0, 0, 0, 0, 816, 8, 0, 1, 0, 1, 612, 457, 0, 0, 0, 18, 2, 0, 4, 0, 540, 10, 1, 2, 2, 0, 0, 785, 51, 0, 0, 0, 4, 0, 0, 2, 0, 11, 0, 21, 1, 0, 4, 13, 0, 3, 0, 0, 10, 0, 3, 11, 5, 1, 3, 1, 0, 0, 0, 1, 3, 0, 1, 0, 0, 0, 0, 694, 3221, 0, 0, 0, 0, 0, 1060, 0, 0, 0, 7, 3, 0, 904, 0, 66, 0, 56, 4, 1, 1, 2, 1, 2, 0, 9, 1, 1094, 0, 2428, 0, 0, 2, 0, 1, 0, 0, 0, 0, 0, 0, 1, 0, 3, 996, 1, 1, 0, 2, 2, 0, 0, 0, 2, 1, 1, 9, 0, 0, 1, 0, 0, 4, 2, 0, 715, 3, 6, 0, 19, 0, 5, 0, 3, 0, 0, 2, 0, 0, 1019, 0, 1, 0, 891, 0, 6, 5, 0, 0, 1, 0, 0, 15, 4, 0, 0, 0, 2, 0, 2, 26, 6, 2, 1, 59, 0, 3, 3, 859, 0, 828, 98, 0, 1, 1, 0, 2, 0, 461, 1, 81, 4, 0, 0, 37, 6, 0, 1268, 3, 1, 4, 0, 3, 3, 1, 9, 11, 3, 0, 20, 8, 1, 1129, 1, 3, 1377, 0, 4, 0, 6, 0, 2, 1, 4, 16, 2, 0, 13, 0, 14, 0, 7, 3, 11, 3, 0, 0, 0, 0, 0, 0, 0, 0, 25, 2, 32, 1, 0, 9, 0, 1, 39, 2, 0, 2626, 0, 0, 33, 3, 626, 0, 31, 0, 0, 4, 1490, 65, 1, 0, 0, 3, 5, 4143, 12, 1, 0, 1214, 0, 0, 2, 11, 4, 0, 2, 0, 974, 86, 0, 0, 0, 2, 0, 0, 0, 0, 0, 4, 34, 4, 3, 0, 45, 2, 0, 4, 0, 1, 1, 4, 1, 3, 1, 5, 2360, 0, 6, 0, 2, 1, 1233, 2, 2, 15, 9, 22, 0, 25, 0, 3416, 55, 0, 1, 0, 7, 1, 927, 0, 10, 0, 1, 784, 0, 0, 13, 0, 0, 1066, 0, 3, 13, 1, 0, 0, 892, 25, 0, 9, 43, 10, 8, 10, 31, 7, 5, 40, 0, 0, 0, 12, 794, 0, 5, 8, 2, 7, 0, 2, 2, 7, 6, 15, 5, 3, 25, 61, 3, 1, 998, 0, 0, 0, 16, 4, 14, 14, 5, 31, 1328, 60, 6, 51, 1, 1, 2, 0, 7, 0, 0, 0, 3, 7, 0, 0, 8, 44, 0, 1, 1, 2, 1, 1, 21, 0, 13, 2, 2, 7, 0, 8, 0, 28, 13, 0, 1, 3, 63, 0, 1092, 0, 89, 0, 0, 0, 5, 30, 7, 1043, 16, 0, 14, 0, 18, 0, 60, 2, 3, 2, 0, 15, 18, 4, 10, 0, 679, 25, 0, 1, 13, 1, 926, 0, 1121, 0, 0, 0, 32, 1, 1, 20, 1, 0, 19, 1, 66, 3, 1, 5, 20, 1, 2, 5, 16, 1, 7, 2, 13, 3, 1, 11, 54, 0, 5, 1, 87, 0, 1000, 14, 3014, 4, 119, 3, 13, 0, 1, 18, 1, 0, 505, 6, 45, 330, 540, 495, 23, 0, 1, 0, 3, 944, 649, 2, 0, 1566, 1, 4, 35, 3, 2, 0, 4, 2, 1828, 0, 0, 0, 1, 2, 3, 1491, 0, 5, 1086, 1, 1, 0, 1, 508, 1, 0, 2099, 4, 8, 3, 677, 0, 4, 1, 657, 0, 0, 1, 517, 0, 1354, 60, 1, 0, 15, 1, 1489, 6, 2297, 0, 6, 0, 504, 1, 0, 583, 4, 0, 0, 5, 1, 516, 7, 0, 1158, 1, 12003, 3, 2, 3, 7130, 35, 9, 614, 7, 6, 869, 2, 2, 3, 1215, 0, 0, 5, 869, 2, 0, 0, 5, 0, 1, 0, 2, 0, 2, 1, 0, 0, 2, 0, 0, 0, 0, 4, 6, 1, 7, 8, 3, 6, 3, 551, 10, 50, 8, 810, 6, 5006, 8, 0, 579, 1, 7, 1, 4741, 50, 3, 5, 1, 0, 1, 0, 0, 44, 2, 2, 8, 3, 2, 0, 3, 0, 11, 1543, 6, 2, 4162, 0, 17, 7, 7, 3175, 14, 12, 7783, 0, 1, 3, 3882, 0, 4, 5, 0, 3, 1, 0, 0, 3, 4761, 0, 4031, 3420, 43, 11, 1, 6151, 205, 0, 714, 12, 34, 3, 0, 0, 3, 0, 17, 3, 1, 97, 0, 1, 13, 63, 2, 0, 0, 3, 0, 15, 0, 0, 351, 7, 0, 708, 0, 26, 24, 970, 0, 9, 605, 19, 2, 3, 2, 5, 6, 955, 12, 3, 438, 2, 0, 0, 0, 799, 0, 965, 37, 3, 1, 3, 3, 0, 0, 2, 0, 0, 0, 0, 0, 0, 1, 4, 622, 1, 939, 23, 2, 4, 0, 744, 1, 0, 2, 1154, 0, 63, 0, 0, 290, 0, 13, 1034, 27, 1, 0, 1, 4, 1, 2025, 0, 45, 2, 0, 0, 11, 0, 7, 4, 637, 233, 5, 2, 1, 5, 5, 1, 1044, 1, 6, 3, 593, 6, 0, 2, 40, 0, 4, 0, 3, 7, 3, 1372, 16, 6, 959, 1, 0, 0, 0, 8, 5, 20, 3, 5, 1278, 5, 4, 1156, 0, 1418, 0, 0, 15, 2, 11, 0, 0, 3, 481, 994, 4, 8, 0, 0, 1346, 0, 764, 2, 593, 0, 1789, 0, 16, 14, 0, 1053, 5839, 0, 982, 182, 0, 1250, 0, 0, 633, 799, 0, 2, 1, 866, 5, 3, 0, 0, 3, 0, 662, 27, 0, 507, 10, 315, 1, 0, 769, 2, 2, 645, 0, 0, 12, 1, 677, 841, 803, 12, 1, 3, 5, 3, 0, 3, 3, 0, 778, 58, 1, 3, 4, 0, 1, 0, 9, 2, 606, 860, 2, 3, 9, 2, 1, 464, 4, 1, 570, 0, 3, 0, 1037, 9, 2, 3, 784, 1, 969, 30, 6, 11, 5, 931, 562, 1776, 3, 9, 5, 10, 8, 0, 0, 0, 217, 0, 0, 566, 1, 7, 280, 0, 0, 4, 7, 683, 559, 0, 627, 2, 0, 1, 0, 382, 240, 257, 0, 1, 0, 175, 81, 3, 183, 82, 290, 0, 126, 3, 4, 35, 1, 68, 2, 0, 0, 0, 0, 130, 0, 132, 7, 2, 1, 0, 278, 3, 0, 0, 0, 0, 0, 0, 0, 0, 0, 1, 104, 4, 0, 3, 2, 0, 0, 0, 236, 14, 0, 182, 4, 2, 0, 3, 0, 0, 237, 8, 2, 0, 197, 0, 11, 32, 0, 0, 0, 252, 4, 0, 4, 0, 0, 0, 0, 0, 3, 0, 0, 0, 0, 0, 0, 0, 0, 0, 0, 0, 0, 0, 0, 0, 0, 0, 0, 0, 0, 0, 0, 3, 0, 0, 0, 0, 0, 0, 0, 0, 0, 0, 0, 0, 0, 0, 0, 0, 0, 0, 0, 0, 0, 1, 0, 3, 0, 0, 0, 0, 0, 0, 0, 0, 0, 0, 0, 0, 0, 0, 0, 0, 0, 0, 0, 0, 0, 0, 0, 0, 0, 0, 0, 0, 0, 1, 0, 0, 0, 1, 0, 0, 0, 0, 0, 0, 0, 0, 0, 0, 5, 1, 0, 0, 0, 0, 0, 0, 0, 0, 0, 0, 0, 0, 0, 0, 3, 0, 0, 0, 0, 0, 0, 0, 0, 0, 0, 0, 0, 0, 0, 226, 5166, 54, 535, 7895, 34, 733, 6523, 11, 324, 477, 7208, 33, 133, 31, 4083, 1715, 5963, 29, 25, 5204, 17, 28, 6535, 3919, 4829, 895, 7061, 47, 3692, 40, 97, 37, 1909, 5516, 6622, 22, 7013, 3740, 28, 4007, 63, 5, 1061, 6940, 9452, 65, 1724, 2041, 297, 7145, 4018, 69, 158, 0, 20, 35, 83, 51, 58, 8, 29, 70, 31, 19, 12, 5, 88, 18, 4, 18, 9, 16, 38, 7, 18, 51, 37, 30, 64, 15, 43, 59, 27, 51, 89, 24, 46, 29, 19, 15, 3, 48, 87, 76, 49, 8, 5, 5, 32, 12, 9, 5, 66, 11, 9, 15, 34, 13, 11, 17, 3, 17, 31, 27, 15, 18, 20, 16, 18, 6, 65, 5, 9, 12, 821, 981, 0, 0, 0, 524, 591, 0, 0, 723, 0, 2, 1120, 817, 0, 1734, 272, 333, 994, 0, 574, 408, 1002, 10, 518, 0, 1229, 450, 360, 746, 4, 4, 1020, 432, 332, 2, 568, 2, 775, 134, 3, 440, 4, 758, 416, 1, 1, 0, 938, 9, 0, 0, 0, 0, 0, 1, 0, 0, 0, 0, 0, 0, 0, 0, 0, 0, 0, 0, 0, 0, 0, 0, 0, 0, 0, 0, 0, 0, 0, 0, 0, 0, 0, 0, 0, 0, 0, 0, 0, 0, 0, 0, 0, 0, 0, 0, 0, 0, 0, 0, 0, 0, 0, 0, 0, 0, 0, 0, 0, 0, 0, 0, 0, 0, 0, 0, 0, 0, 0, 0, 0, 0, 0, 0, 0, 0, 0, 0, 0, 0, 0, 0, 0, 1, 0, 0, 0, 0, 0, 0, 0, 0, 0, 0, 0, 0, 0, 0, 0, 0, 0, 0, 0, 0, 0, 0, 0, 0, 0, 0, 0, 0, 0, 0, 0, 0, 0, 0, 0, 0, 0, 0, 0, 0, 0, 0, 0, 0, 0, 0, 91, 0, 73, 0, 0, 0, 0, 0, 0, 0, 0, 0, 0, 0, 1, 0, 0, 0, 0, 0, 0, 0, 0, 0, 0, 0, 0, 0, 0, 0, 0, 0, 0, 0, 0, 0, 0, 0, 0, 0, 0, 0, 0, 0, 0, 0, 0, 1, 0, 0, 0, 0, 0, 0, 0, 0, 0, 0, 0, 0, 0, 0, 0, 1, 0, 0, 0, 0, 0, 0, 0, 0, 0, 0, 0, 0, 0, 0, 0, 0, 0, 0, 0, 0, 0, 0, 0, 0, 0, 0, 0, 0, 0, 0, 0, 0, 0, 0, 0, 0, 0, 0, 0, 0, 0, 0, 0, 0, 91, 0, 0, 0, 0, 0, 0, 0, 0, 0, 0, 0, 0, 0, 0, 1, 0, 0, 0, 39, 39, 0, 0, 0, 136, 0, 235, 0, 0, 0, 0, 0, 0, 0, 0, 200, 0, 0, 89, 0, 0, 157, 0, 1, 164, 0, 0, 0, 90, 0, 0, 0, 123, 0, 0, 247, 0, 0, 0, 0, 0, 0, 129, 1, 0, 1, 96, 1, 116, 1, 338, 1, 1, 2, 1, 1, 0, 1, 265, 0, 5, 0, 1, 0, 0, 0, 0, 0, 0, 0, 0, 0, 0, 0, 0, 0, 0, 0, 0, 0, 0, 0, 0, 0, 0, 0, 0, 0, 0, 0, 0, 0, 0, 0, 0, 0, 0, 0, 0, 0, 0, 0, 0, 0, 0, 0, 0, 0, 0, 0, 0, 1, 1, 0, 0, 0, 0, 0, 0, 0, 0, 0, 0, 0, 0, 0, 0, 0, 0, 0, 0, 0, 0, 0, 0, 0, 0, 0, 0, 0, 0, 0, 0, 0, 0, 0, 0, 0, 0, 0, 0, 0, 0, 168, 0, 0, 330, 0, 0, 525, 0, 0, 0, 336, 0, 0, 0, 0, 860, 1, 1, 437, 131, 204, 0, 0, 0, 0, 1, 401, 0, 0, 0, 0, 0, 0, 0, 283, 1, 0, 0, 442, 0, 1, 331, 0, 0, 119, 112, 525, 50, 1131, 902, 1242, 0, 799, 1177, 909, 1561, 1358, 2117, 1156, 1249, 4, 1099, 1473, 1585, 144, 1325, 923, 75, 1230, 1609, 1131, 1330, 1293, 2279, 176, 1153, 1484, 1765, 1913, 588, 1220, 6174, 1727, 3, 1794, 2257, 1671, 11, 1469, 5, 1846, 1920, 1568, 1499, 1530, 1267, 1478, 2092, 24, 1250, 1489, 2185, 1890, 0, 1778, 1936, 39, 5, 1440, 2314, 2903, 121, 2, 2153, 33, 1360, 771, 542, 1076, 3, 1497, 16, 1151, 3, 887, 647, 1389, 19, 27, 2925, 13, 1132, 2571, 57, 3, 878, 0, 1247, 1309, 0, 2059, 0, 916, 0, 1276, 58, 93, 436, 1, 2, 1403, 0, 1624, 2, 636, 1626, 6, 851, 40, 5, 0, 19, 5, 19, 11, 933, 3, 1950, 996, 1, 1, 1726, 1384, 46, 2, 1650, 239, 5, 2458, 311, 783, 1, 0, 1, 1, 1, 1282, 3, 2, 2478, 0, 771, 14, 10, 133, 151, 130, 48, 34, 117, 158, 1, 0, 1586, 1, 3, 2, 1961, 34, 1, 1438, 116, 1566, 0, 1245, 0, 1827, 22, 19, 24, 6, 1, 7, 0, 0, 1, 0, 1625, 25, 66, 1, 28, 80, 34, 54, 1186, 97, 51, 327, 14, 64, 67, 507, 31, 67, 193, 51, 91, 35, 23, 146, 240, 36, 60, 25, 73, 73, 29, 12, 20, 13, 67, 61, 28, 56, 35, 42, 100, 11, 105, 28, 75, 82, 46, 59, 57, 26, 24, 54, 26, 28, 55, 26, 32, 20, 10, 17, 30, 17, 6, 4, 0, 18, 2, 2, 20, 14, 0, 0, 177, 4, 0, 1, 0, 0, 0, 0, 0, 0, 593, 0, 1, 1, 0, 361, 3, 0, 0, 0, 356, 0, 0, 0, 0, 0, 2, 0, 1, 0, 0, 1, 0, 0, 455, 1, 0, 0, 0, 2, 0, 0, 2, 0, 695, 0, 0, 0, 1, 0, 0, 0, 0, 0, 84, 0, 0, 1, 0, 0, 0, 303, 1, 0, 0, 0, 0, 0, 0, 0, 0, 418, 0, 0, 0, 0, 1, 2, 0, 0, 530, 0, 0, 0, 0, 0, 0, 0, 1, 0, 0, 0, 637, 0, 1, 3, 0, 0, 0, 401, 0, 1, 1, 0, 0, 0, 1, 0, 3, 0, 506, 0, 40, 2, 2, 0, 2, 1, 0, 0, 0, 512, 2, 0, 1, 0, 1, 0, 209, 0, 0, 1, 0, 0, 0, 0, 259, 1, 0, 2, 0, 0, 1, 0, 0, 0, 0, 555, 0, 1, 0, 0, 482, 1, 0, 1, 0, 2, 1, 0, 0, 0, 458, 1, 1, 0, 0, 1, 0, 0, 0, 0, 1, 0, 0, 0, 0, 0, 0, 0, 627, 0, 1, 1, 0, 0, 0, 0, 1, 0, 0, 597, 0, 0, 0, 0, 0, 0, 0, 0, 0, 0, 0, 1, 0, 619, 0, 1, 0, 0, 0, 0, 0, 0, 0, 395, 0, 0, 2, 0, 0, 0, 0, 0, 1, 0, 1, 3, 1, 0, 1, 0, 579, 0, 1, 0, 0, 0, 0, 1, 1, 595, 0, 1, 0, 0, 2, 0, 366, 0, 0, 0, 0, 2, 0, 0, 0, 0, 0, 0, 0, 0, 0, 0, 0, 0, 0, 0, 2, 392, 0, 0, 1, 0, 0, 0, 0, 0, 1, 0, 0, 1, 0, 367, 0, 0, 1, 1, 0, 401, 1, 0, 0, 2, 1, 0, 2, 0, 0, 0, 0, 0, 1, 1, 2, 0, 0, 0, 0, 2, 0, 2, 0, 0, 0, 0, 2, 0, 0, 0, 573, 0, 0, 0, 0, 0, 0, 0, 0, 0, 2, 1, 0, 0, 760, 0, 0, 0, 0, 0, 0, 1, 0, 0, 0, 779, 0, 0, 0, 0, 0, 6, 1, 0, 0, 0, 0, 541, 0, 1, 1, 0, 1, 243, 0, 0, 0, 0, 0, 0, 0, 0, 1, 5, 0, 0, 0, 0, 0, 0, 0, 0, 274, 0, 323, 277, 120, 0, 0, 400, 42, 255, 0, 0, 461, 3, 0, 764, 0, 76, 0, 338, 0, 0, 1, 395, 102, 1, 0, 537, 0, 354, 313, 0, 0, 543, 362, 495, 0, 0, 379, 276, 0, 0, 1, 442, 1, 0, 0, 472, 369, 1, 1, 1, 348, 0, 1, 477, 326, 287, 420, 413, 0, 194, 107, 250, 0, 373, 0, 306, 0, 0, 528, 525, 385, 0, 183, 2, 358, 0, 1, 321, 0, 324, 353, 0, 342, 402, 0, 354, 388, 182, 0, 305, 2, 0, 437, 305, 0, 635, 604, 462, 390, 373, 1, 328, 0, 0, 254, 275, 0, 218, 269, 360, 3360, 0, 0, 346, 338, 0, 247, 396, 391, 0, 1, 1, 404, 0, 419, 0, 1, 304, 358, 1, 333, 0, 319, 0, 299, 0, 305, 0, 413, 0, 2, 220, 0, 0, 257, 0, 386, 384, 0, 432, 398, 0, 332, 0, 464, 0, 307, 335, 626, 0, 347, 0, 324, 0, 0, 0, 295, 526, 1, 864, 341, 398, 281, 375, 703, 623, 1138, 0, 353, 0, 447, 0, 0, 250, 0, 417, 0, 0, 383, 324, 0, 0, 442, 0, 339, 0, 0, 323, 0, 328, 263, 142, 388, 1, 631, 530, 1, 0, 544, 429, 4, 511, 0, 556, 0, 467, 346, 0, 499, 262, 323, 472, 0, 1, 0, 347, 379, 0, 0, 354, 347, 1, 1, 333, 1, 326, 1, 329, 507, 442, 1, 419, 847, 567, 1, 487, 436, 0, 995, 0, 502, 0, 469, 0, 1, 501, 0, 1122, 590, 0, 1, 853, 524, 857, 544, 0, 722, 0, 767, 630, 0, 324, 423, 333, 1366, 0, 83, 0, 0, 0, 1800, 1, 429, 0, 1, 48, 354, 0, 0, 584, 0, 417, 0, 498, 439, 5, 0, 0, 1320, 473, 489, 1, 0, 881, 1, 0, 906, 703, 3, 0, 466, 0, 2, 672, 0, 1, 0, 457, 0, 0, 536, 0, 0, 346, 0, 0, 0, 2, 546, 0, 0, 352, 0, 3, 0, 592, 408, 1, 415, 0, 0, 3, 941, 0, 515, 79, 454, 0, 356, 39, 325, 726, 4, 1, 0, 378, 0, 0, 0, 571, 100, 0, 168, 307, 1, 1030, 358, 793, 1630, 0, 994, 9, 473, 0, 328, 0, 3, 1688, 0, 1, 1196, 215, 1311, 476, 270, 0, 1819, 1214, 706, 7, 744, 1, 559, 0, 0, 815, 1278, 0, 4, 0, 0, 745, 0, 1, 915, 0, 1221, 0, 0, 1085, 0, 1430, 0, 1019, 0, 885, 718, 1, 1096, 1080, 0, 809, 778, 1176, 0, 1270, 898, 1, 1275, 0, 0, 0, 938, 1008, 2, 2021, 1, 4, 8, 1820, 0, 2, 938, 2, 0, 914, 1005, 0, 1, 551, 1689, 1, 548, 0, 656, 1270, 0, 1425, 0, 1, 1, 1003, 913, 3, 1050, 0, 0, 1145, 1, 0, 916, 1112, 0, 967, 0, 0, 1119, 0, 1908, 0, 0, 1942, 0, 1, 1138, 0, 1410, 1487, 0, 0, 0, 1972, 736, 0, 0, 1092, 1017, 0, 0, 0, 3800, 1, 0, 2, 0, 1, 2, 0, 1169, 0, 3, 0, 2, 0, 1059, 0, 0, 0, 0, 0, 603, 0, 0, 0, 2, 1247, 2, 0, 2, 1069, 0, 0, 0, 0, 0, 3, 1212, 1, 0, 1, 0, 0, 0, 0, 1, 0, 0, 695, 0, 0, 0, 1, 0, 0, 449, 0, 0, 0, 0, 0, 0, 0, 722, 0, 0, 2, 0, 709, 162, 0, 0, 2, 0, 0, 2, 752, 3, 0, 415, 0, 2, 4, 0, 1762, 0, 0, 0, 3, 2, 470, 0, 0, 0, 459, 0, 0, 0, 466, 0, 2, 202, 1, 0, 1, 0, 0, 898, 0, 0, 0, 0, 519, 6, 0, 664, 0, 1, 1912, 0, 0, 3, 0, 2, 0, 924, 0, 0, 0, 0, 1140, 0, 0, 0, 0, 0, 1, 0, 3450, 0, 0, 0, 1, 2409, 0, 0, 0, 0, 1249, 4, 0, 13, 0, 0, 0, 1814, 0, 0, 0, 0, 0, 1594, 1, 0, 0, 4, 2, 0, 0, 2638, 3, 1039, 0, 306, 234, 0, 0, 5, 0, 1356, 1, 0, 0, 2979, 0, 0, 0, 359, 0, 3, 10, 0, 2112, 1, 0, 1950, 0, 0, 0, 326, 0, 2, 3, 0, 0, 783, 3, 0, 245, 0, 0, 1562, 0, 0, 0, 1, 0, 443, 0, 0, 0, 1244, 0, 0, 0, 1503, 0, 2, 1651, 3, 0, 1199, 1, 0, 0, 293, 4, 1, 0, 3, 0, 1172, 0, 4, 0, 519, 0, 800, 1, 1, 525, 0, 667, 3, 1, 505, 271, 0, 0, 100, 0, 0, 0, 0, 1051, 2, 1, 1382, 0, 307, 0, 6, 2798, 0, 1, 2, 2546, 337, 0, 1082, 0, 286, 0, 0, 1, 1415, 0, 0, 0, 236, 0, 0, 1661, 2, 250, 0, 0, 1293, 200, 1, 0, 798, 4, 0, 1200, 0, 325, 0, 0, 299, 0, 1133, 0, 0, 0, 1493, 0, 0, 390, 0, 0, 885, 0, 2, 349, 0, 0, 0, 0, 1113, 0, 0, 0, 1532, 0, 306, 2, 0, 1, 0, 1259, 2, 0, 2, 1, 1488, 0, 0, 0, 0, 2, 0, 1934, 1, 0, 1, 1082, 8, 2, 1, 2, 847, 0, 229, 0, 0, 0, 1194, 3, 592, 1056, 1, 1, 0, 625, 0, 1, 1, 2, 1, 1680, 0, 0, 0, 339, 816, 0, 1209, 1, 0, 2, 1307, 391, 2, 4, 0, 1374, 0, 1, 0, 383, 0, 3, 859, 1, 0, 0, 779, 1, 0, 433, 0, 0, 1006, 0, 0, 1591, 1, 0, 0, 545, 0, 0, 1, 294, 0, 0, 1, 1183, 0, 0, 1142, 0, 1550, 1, 175, 1, 0, 1, 0, 214, 0, 1168, 0, 1, 1532, 0, 405, 1, 0, 908, 2, 2, 4, 1357, 1, 1, 0, 1315, 0, 336, 0, 2, 3, 3, 287, 1, 2, 2314, 1, 1756, 221, 0, 1516, 2, 1711, 1, 0, 171, 0, 0, 2379, 0, 948, 4, 0, 1858, 0, 2, 0, 306, 1, 0, 238, 126, 0, 2, 0, 578, 0, 0, 1045, 6, 0, 0, 0, 0, 938, 0, 226, 505, 1, 3, 1153, 1, 1, 0, 377, 0, 0, 0, 0, 1035, 266, 0, 0, 0, 0, 953, 0, 0, 410, 0, 0, 0, 3053, 1, 0, 1485, 916, 0, 238, 0, 0, 5, 0, 2195, 2, 1, 0, 179, 0, 1049, 296, 1, 20, 7, 21, 39, 42, 2, 18, 7, 7, 32, 16, 38, 30, 34, 39, 106, 18, 124, 161, 47, 67, 22, 308, 45, 94, 100, 36, 24, 104, 3, 9, 143, 12, 287, 29, 218, 2, 90, 5, 78, 75, 5, 20, 16, 71, 104, 165, 6, 15, 39, 71, 20, 7, 21, 39, 42, 2, 18, 7, 7, 32, 16, 38, 30, 34, 39, 106, 18, 124, 161, 47, 67, 22, 308, 45, 94, 100, 36, 24, 104, 3, 9, 143, 12, 287, 29, 218, 2, 90, 5, 78, 75, 5, 20, 16, 71, 104, 165, 6, 15, 39, 71, 1, 2365, 0, 0, 1476, 110, 8, 1051, 0, 1641, 844, 4, 0, 0, 1949, 1529, 2904, 6, 0, 5491, 1, 1, 7, 3035, 4066, 6, 0, 1835, 3456, 5, 1, 1446, 2842, 545, 0, 3779, 5352, 1, 29, 6316, 4068, 11, 7, 0, 2606, 3994, 36, 0, 7, 2176, 2099, 0, 1, 0, 1569, 2609, 3000, 2, 28, 56, 0, 0, 0, 5237, 104, 1875, 8, 7, 21, 105, 2373, 5, 80, 71, 4, 0, 20, 166, 1435, 54, 25, 5, 1, 2, 16, 3, 11, 0, 6, 2, 0, 0, 28, 25, 83, 1970, 0, 2113, 566, 2574, 96, 0, 18, 6, 4, 276, 2, 851, 2068, 1, 32, 23, 0, 1660, 1138, 3, 2719, 102, 28, 0, 1084, 54, 1, 8, 2, 3958, 2685, 27, 4, 0, 4845, 54, 1957, 34, 195, 2, 0, 1, 524, 2744, 116, 65, 2555, 21, 4, 2948, 78, 126, 47, 0, 1, 2, 3, 0, 3789, 13, 0, 2339, 118, 2, 0, 3584, 0, 65, 29, 212, 0, 8, 3, 80, 0, 0, 38, 3, 18, 11, 10186, 58, 0, 0, 98, 0, 0, 44, 54, 41, 177, 0, 66, 2, 11, 841, 100, 33, 5, 0, 51, 2, 54, 1, 0, 13, 357, 4, 0, 18, 282, 0, 1, 15, 338, 8, 0, 57, 96, 2, 14, 0, 5, 80, 0, 92, 8, 24, 0, 25, 31, 27, 3, 1, 0, 166, 3, 4097, 10, 7, 0, 7, 1, 6, 10, 0, 4, 7, 1, 7, 71, 113, 0, 2, 151, 16, 0, 0, 0, 3, 0, 1, 0, 15, 3, 785, 0, 0, 0, 0, 0, 0, 0, 0, 2, 0, 4, 0, 6, 5, 0, 1, 1, 660, 7, 157, 130, 8, 0, 0, 17, 1753, 0, 4255, 24, 0, 0, 0, 952, 0, 0, 4, 1191, 2, 1, 1738, 0, 14, 4, 263, 79, 365, 659, 0, 4, 0, 5, 0, 0, 706, 61, 0, 0, 96, 558, 40, 831, 967, 0, 0, 4, 3, 0, 511, 801, 6, 178, 7, 5, 5, 9, 4, 687, 5, 7, 351, 3, 933, 1343, 42, 1, 22, 3, 0, 3, 6, 1150, 1489, 25, 279, 14, 14, 3, 0, 440, 15, 0, 4267, 0, 1226, 1834, 29, 79, 7543, 0, 5, 49, 16, 239, 2, 2609, 10, 1335, 2, 9, 567, 4, 193, 2, 1, 59, 10194, 1, 28, 2, 23, 17, 192, 0, 16, 169, 2, 131, 56, 64, 448, 3, 199, 383, 311, 316, 21, 1, 498, 292, 68, 5, 4, 34, 0, 1, 0, 0, 0, 0, 47, 0, 1, 53, 4, 119, 1, 479, 5514, 6, 2, 566, 2497, 4300, 19, 104, 38, 529, 6, 7, 21, 497, 3343, 3, 3022, 206, 4, 139, 247, 5386, 239, 0, 4, 74, 4272, 2, 4340, 319, 36, 0, 5, 351, 3392, 3202, 7208, 261, 1646, 4, 2, 0, 0, 457, 2762, 0, 254, 12, 4444, 256, 64, 4240, 14, 3287, 338, 3, 17404, 424, 662, 6, 8, 10960, 11, 3593, 250, 4, 6942, 358, 5779, 3892, 536, 25, 462, 0, 9831, 383, 31, 8, 12, 838, 441, 9, 0, 2, 1966, 5411, 7751, 150, 46, 613, 35, 40, 3, 58, 0, 7943, 385, 17, 10926, 4391, 196, 8, 12, 9, 11, 469, 20, 8601, 368, 7572, 14, 392, 20, 7524, 18, 3, 472, 265, 3917, 6, 0, 3449, 16, 102, 351, 755, 9039, 3, 112, 3, 0, 0, 701, 2863, 5757, 355, 1839, 1, 4963, 253, 0, 1, 4336, 4963, 181, 2, 10, 5254, 11, 96, 4462, 266, 2792, 1156, 22, 0, 0, 0, 4, 5, 6407, 0, 2, 350, 4637, 51, 1686, 824, 1805, 92, 1, 8, 5995, 4, 2, 0, 3, 0, 0, 1732, 2, 4, 444, 1540, 1829, 2, 366, 1431, 0, 8, 0, 2167, 3, 3529, 4, 1, 9, 7, 6, 12, 36, 1, 4, 14, 3, 4225, 4214, 2, 0, 4642, 0, 4615, 13, 0, 2635, 3, 6, 1078, 3625, 9, 0, 2773, 1681, 1577, 1, 0, 1729, 4, 13, 2, 0, 3146, 10, 870, 3367, 0, 1773, 1, 3966, 6, 0, 7, 0, 3683, 2, 1, 1348, 0, 3863, 0, 0, 1, 0, 0, 5000, 5, 0, 880, 2641, 6, 10, 2303, 8, 4487, 8, 2, 0, 1, 0, 0, 0, 0, 1, 5404, 4, 2, 4432, 4472, 0, 9, 0, 0, 0, 0, 60, 0, 2, 0, 0, 43, 0, 240, 0, 4, 1, 10, 4, 0, 0, 7, 45, 0, 6, 6, 1, 0, 4, 3, 5, 4, 27, 0, 1, 35, 0, 0, 9, 0, 9, 24, 1, 0, 23, 0, 1, 0, 0, 0, 0, 2, 0, 1, 0, 0, 0, 0, 0, 0, 0, 26, 0, 0, 2, 0, 0, 0, 0, 12, 0], \"y\": [262, 0, 57, 0, 0, 0, 72, 53, 0, 1, 3, 0, 2, 0, 0, 30, 79, 47, 36, 0, 1, 1, 0, 0, 0, 1, 14, 9, 0, 31, 0, 0, 0, 0, 0, 0, 26, 13, 6, 28, 23, 9, 21, 34, 0, 37, 0, 11, 46, 36, 3, 28, 13, 111, 48, 42, 46, 16, 16, 34, 0, 34, 1, 33, 0, 0, 48, 86, 51, 34, 0, 43, 34, 40, 41, 0, 36, 1, 50, 0, 21, 15, 41, 47, 41, 0, 1, 0, 0, 0, 0, 0, 0, 0, 0, 0, 0, 30, 30, 753, 0, 0, 0, 0, 53, 0, 13, 31, 0, 0, 0, 11, 1, 23, 0, 0, 11, 17, 5, 16, 39, 32, 1, 0, 25, 21, 0, 47, 0, 46, 0, 0, 0, 0, 0, 0, 0, 0, 0, 0, 37, 13, 0, 48, 41, 4, 0, 3, 16, 27, 0, 14, 36, 0, 27, 0, 0, 0, 0, 42, 3, 2, 0, 8, 46, 1, 257, 46, 0, 1, 0, 5, 0, 0, 1, 1, 0, 40, 6, 7, 0, 34, 0, 0, 0, 7, 0, 42, 1, 0, 17, 0, 0, 0, 30, 0, 4, 32, 107, 0, 0, 0, 3, 50, 0, 0, 0, 2, 73, 9, 3, 1, 0, 0, 48, 2, 6, 3, 1, 0, 0, 0, 2, 0, 2, 67, 2, 0, 38, 1, 6, 1, 0, 0, 4, 1, 1, 0, 26, 1, 1, 0, 1, 1, 0, 0, 0, 0, 0, 0, 0, 0, 0, 0, 0, 0, 0, 1, 2, 0, 0, 0, 1, 2, 0, 3, 0, 0, 0, 0, 2, 2, 0, 1, 0, 0, 5, 0, 0, 0, 1, 17, 2, 20, 1, 0, 1, 0, 0, 3, 1, 0, 7, 21, 0, 23, 0, 0, 0, 0, 0, 0, 0, 2, 0, 0, 4, 0, 0, 0, 0, 0, 0, 0, 0, 3, 0, 0, 0, 0, 0, 6, 0, 1, 5, 2, 0, 3, 0, 0, 0, 1, 3, 1, 0, 0, 0, 5, 0, 0, 1, 4, 0, 69, 1, 3, 0, 2, 0, 2, 0, 0, 0, 0, 0, 1, 49, 1, 0, 0, 3, 24, 0, 1, 0, 0, 1, 0, 6, 2, 0, 1, 0, 4, 0, 0, 30, 0, 1, 0, 0, 0, 0, 0, 2, 0, 0, 0, 0, 0, 0, 0, 0, 0, 0, 5, 2, 8, 0, 0, 6, 0, 0, 0, 0, 0, 0, 0, 0, 0, 10, 0, 0, 120, 0, 0, 0, 0, 0, 0, 1, 16, 0, 0, 1, 2, 3, 4, 0, 0, 0, 5, 0, 0, 0, 6, 0, 2, 0, 2, 1, 5, 2, 0, 4, 47, 0, 2, 0, 0, 1, 0, 2, 0, 1, 0, 0, 3, 8, 0, 0, 0, 7, 1, 0, 0, 0, 6, 0, 0, 0, 0, 1, 15, 0, 94, 1, 1, 1, 0, 161, 0, 178, 0, 27, 8, 52, 0, 0, 1, 0, 37, 29, 2, 2, 0, 0, 0, 154, 1, 0, 7, 2, 0, 5, 2, 0, 0, 3, 2, 21, 4, 0, 0, 0, 0, 1, 37, 1, 30, 6, 0, 1, 1, 57, 0, 3, 2, 0, 1, 0, 0, 0, 0, 37, 1, 0, 5, 4, 3, 1, 1, 0, 0, 0, 0, 0, 0, 0, 0, 0, 13, 0, 0, 0, 17, 0, 0, 50, 0, 0, 1, 227, 0, 212, 41, 1, 38, 5, 1, 0, 0, 5, 10, 1, 2, 5, 2, 1, 0, 0, 0, 5, 0, 0, 0, 0, 0, 0, 1, 0, 0, 4, 1, 0, 1, 4, 1, 4, 1, 58, 1, 1, 6, 7, 12, 3, 4, 6, 14, 3, 0, 0, 0, 20, 1, 0, 0, 1, 0, 1, 0, 0, 2, 1, 2, 1, 0, 2, 2, 3, 2, 0, 1, 1, 1, 0, 1, 3, 0, 1, 0, 0, 0, 0, 0, 1, 3, 0, 0, 1, 1, 0, 0, 0, 1, 0, 0, 0, 0, 20, 0, 1, 0, 0, 17, 0, 0, 0, 0, 1, 3, 0, 0, 0, 0, 0, 0, 60, 111, 4, 0, 0, 0, 0, 0, 0, 0, 2, 0, 0, 0, 1, 1, 0, 0, 1, 1, 0, 1, 1, 0, 0, 1, 0, 0, 0, 1, 0, 0, 3, 0, 0, 0, 0, 1, 0, 0, 27, 0, 1, 32, 0, 0, 0, 8, 1260, 0, 2, 1, 0, 0, 2, 1, 0, 0, 2, 3, 0, 2, 0, 1, 1, 0, 3, 4, 5, 0, 0, 1, 0, 2, 0, 0, 0, 0, 0, 0, 3, 0, 0, 0, 0, 0, 0, 0, 0, 1, 0, 1, 0, 0, 0, 0, 0, 0, 0, 0, 0, 0, 0, 0, 0, 0, 0, 0, 0, 0, 0, 0, 0, 0, 0, 1, 0, 0, 1, 1, 1, 0, 0, 0, 0, 0, 0, 3, 0, 1, 0, 0, 0, 5, 1, 0, 1, 1, 1, 0, 1, 0, 0, 0, 0, 0, 0, 0, 0, 0, 0, 0, 0, 6, 0, 1, 0, 0, 2, 3, 0, 4, 1, 0, 0, 1, 1, 1, 1, 0, 0, 0, 2, 0, 3, 0, 1, 0, 0, 0, 0, 0, 0, 3, 6, 0, 0, 0, 0, 8, 13, 0, 0, 0, 0, 0, 0, 5, 1, 1, 0, 0, 0, 0, 0, 0, 4, 0, 3, 0, 0, 0, 0, 2, 1, 0, 4, 0, 0, 0, 0, 4, 1, 0, 17, 1, 2, 0, 0, 20, 0, 3, 0, 6, 1, 0, 3, 2, 1, 0, 2, 0, 0, 0, 0, 0, 4, 0, 0, 0, 1, 0, 1, 0, 0, 2, 2, 0, 0, 0, 0, 0, 0, 0, 0, 0, 0, 0, 1, 0, 0, 0, 0, 0, 0, 16, 1, 0, 0, 0, 2, 0, 0, 0, 1, 0, 0, 191, 2, 0, 0, 1, 1, 0, 0, 0, 0, 0, 1, 1, 0, 0, 0, 0, 3, 1, 0, 0, 2, 0, 0, 0, 1, 0, 0, 0, 0, 0, 0, 0, 0, 0, 1, 0, 0, 0, 16, 1, 2, 2, 0, 0, 7, 0, 0, 1, 0, 0, 0, 2, 1, 1, 0, 1, 2, 0, 0, 3, 2, 0, 1, 0, 0, 3, 1, 0, 0, 0, 0, 0, 0, 1, 0, 0, 1, 0, 1, 0, 0, 2, 0, 1, 0, 0, 0, 0, 0, 0, 0, 1, 0, 0, 64, 1, 0, 0, 4, 0, 1, 0, 0, 1, 105, 1, 78, 0, 0, 72, 1, 5, 1, 11, 0, 11, 0, 3, 0, 0, 0, 0, 72, 87, 0, 3, 72, 1, 2, 3, 19, 23, 2, 0, 62, 14, 2, 26, 2, 0, 0, 8, 106, 1, 10, 76, 122, 1, 1, 1, 0, 0, 1, 5, 103, 8, 14, 92, 0, 119, 0, 0, 78, 0, 0, 0, 64, 0, 0, 0, 0, 0, 41, 4, 1, 0, 93, 0, 122, 0, 0, 0, 0, 0, 35, 0, 0, 0, 2, 0, 9, 1, 2, 0, 2, 5, 15, 7, 14, 0, 0, 12, 0, 1, 1, 0, 2, 1, 12, 12, 0, 2, 0, 8, 9, 6, 0, 6, 1, 6, 4, 1, 1, 2, 7, 18, 1, 1, 0, 0, 68, 0, 119, 1, 0, 2, 0, 0, 48, 1, 0, 101, 37, 3, 0, 0, 1, 87, 1, 0, 2, 0, 9, 0, 1, 0, 0, 2, 1, 0, 0, 3, 0, 1, 0, 1, 0, 2, 1, 2, 0, 1, 0, 4, 0, 1, 0, 1, 0, 0, 0, 0, 26, 2, 0, 0, 2, 0, 18, 0, 4, 4, 5, 1, 1, 0, 0, 0, 1, 0, 5, 1, 1, 0, 1, 8, 6, 3, 2, 4, 6, 3, 3, 8, 8, 9, 1, 2, 0, 5, 0, 1, 1, 3, 4, 1, 1, 0, 0, 0, 0, 0, 98, 29, 0, 0, 9, 1, 0, 4, 1, 0, 1, 0, 5, 0, 47, 38, 0, 0, 50, 3, 65, 64, 12, 0, 0, 1, 0, 0, 0, 3, 0, 30, 3, 0, 1, 0, 36, 15, 7, 0, 0, 14, 1, 93, 1, 0, 8, 1, 0, 7, 12, 1, 13, 1, 0, 0, 1, 2, 1, 1, 2, 20, 0, 2, 7, 0, 1, 0, 11, 0, 0, 0, 0, 3, 0, 0, 7, 0, 0, 0, 0, 1, 0, 7, 4, 2, 5, 0, 2, 0, 1, 0, 1, 2, 8, 1, 0, 0, 0, 1, 0, 4, 0, 1, 1, 1, 2, 3, 12, 6, 1, 0, 11, 0, 2, 5, 2, 2, 0, 2, 5, 1, 5, 0, 0, 2, 33, 0, 3, 3, 1, 12, 6, 7, 1, 2, 1, 0, 1, 1, 0, 2, 2, 0, 3, 0, 2, 1, 1, 2, 0, 0, 1, 1, 1, 0, 0, 0, 0, 2, 1, 0, 1, 0, 1, 0, 0, 0, 0, 0, 0, 1, 3, 2, 0, 0, 0, 0, 4, 5, 3, 0, 0, 0, 0, 0, 0, 8, 1, 0, 0, 6, 11, 0, 2, 0, 0, 0, 3, 2, 0, 6, 4, 11, 3, 0, 0, 0, 2, 0, 0, 1, 0, 0, 0, 0, 0, 0, 6, 0, 1, 0, 0, 0, 0, 0, 0, 1, 0, 0, 1, 0, 2, 0, 1, 0, 2, 0, 4, 3, 1, 0, 0, 5, 0, 1, 1, 1, 0, 1, 0, 0, 0, 0, 0, 1, 2, 0, 1, 0, 0, 1, 0, 0, 0, 1, 0, 0, 0, 0, 1, 0, 0, 0, 0, 0, 0, 0, 0, 0, 0, 0, 0, 0, 0, 0, 0, 0, 0, 2, 0, 0, 0, 0, 0, 0, 0, 0, 0, 0, 0, 0, 0, 0, 0, 0, 0, 0, 0, 0, 9, 0, 3, 0, 1, 0, 7, 0, 0, 0, 0, 0, 1, 2, 0, 0, 0, 1, 0, 0, 6, 0, 3, 2, 0, 3, 2, 1, 6, 1, 12, 16, 7, 5, 9, 4, 9, 21, 4, 3, 9, 19, 24, 10, 2, 0, 0, 0, 4, 0, 0, 0, 0, 0, 5, 6, 0, 0, 0, 0, 5, 1, 5, 4, 0, 0, 1, 4, 0, 0, 2, 0, 1, 3, 3, 0, 0, 0, 3, 4, 5, 0, 0, 3, 2, 0, 1, 0, 0, 7, 0, 0, 1, 0, 0, 14, 0, 2, 4, 2, 0, 16, 0, 0, 0, 0, 0, 0, 0, 1, 1, 0, 10, 0, 0, 0, 0, 0, 0, 0, 1, 1, 1, 0, 0, 0, 0, 0, 0, 0, 2, 0, 0, 0, 0, 0, 1, 0, 0, 0, 0, 0, 0, 1, 4, 0, 0, 1, 0, 0, 1, 0, 0, 1, 0, 0, 1, 1, 2, 0, 1, 1, 1, 0, 0, 0, 0, 5, 0, 2, 2, 0, 1, 0, 0, 0, 0, 0, 0, 0, 0, 1, 0, 0, 0, 0, 0, 0, 0, 0, 0, 0, 2, 0, 0, 0, 1, 0, 0, 2, 1, 0, 0, 0, 1, 1, 0, 0, 0, 0, 0, 0, 0, 0, 0, 0, 0, 0, 0, 2, 2, 0, 1, 0, 7, 0, 0, 0, 0, 0, 2, 5, 35, 0, 0, 0, 1, 0, 0, 1, 0, 0, 11, 0, 0, 0, 0, 0, 0, 0, 2, 0, 0, 0, 0, 1, 0, 0, 0, 0, 0, 0, 0, 0, 0, 7, 5, 0, 1, 2, 0, 0, 0, 0, 0, 0, 0, 1, 0, 0, 0, 0, 0, 0, 1, 0, 0, 0, 0, 0, 0, 0, 2, 0, 0, 0, 0, 0, 0, 1, 1, 0, 0, 0, 11, 0, 0, 0, 0, 0, 0, 0, 0, 0, 0, 0, 0, 0, 0, 0, 0, 0, 0, 0, 0, 0, 0, 0, 0, 0, 0, 0, 0, 0, 0, 0, 0, 0, 0, 0, 0, 0, 2, 0, 0, 0, 1, 0, 2, 0, 0, 0, 0, 0, 0, 0, 5, 7, 0, 0, 0, 0, 0, 0, 0, 1, 0, 0, 0, 0, 0, 0, 0, 0, 0, 0, 1, 0, 0, 0, 0, 0, 0, 0, 0, 1, 0, 0, 0, 0, 0, 0, 0, 0, 0, 2, 0, 1, 0, 0, 0, 0, 0, 0, 1, 0, 0, 2, 0, 0, 0, 0, 0, 0, 0, 0, 1, 0, 0, 0, 0, 0, 0, 0, 0, 5, 0, 0, 0, 0, 0, 0, 0, 0, 2, 0, 4, 1, 0, 0, 0, 1, 0, 0, 0, 0, 0, 0, 0, 0, 0, 0, 0, 0, 0, 0, 0, 0, 0, 0, 0, 0, 0, 0, 0, 0, 0, 0, 0, 0, 0, 0, 0, 0, 0, 0, 0, 0, 0, 0, 0, 0, 0, 0, 0, 0, 0, 0, 1, 0, 0, 0, 0, 0, 0, 0, 0, 0, 0, 0, 0, 0, 0, 0, 0, 0, 0, 2, 0, 0, 0, 0, 0, 0, 0, 0, 0, 0, 0, 1, 0, 0, 0, 0, 0, 0, 1, 0, 0, 0, 0, 0, 0, 0, 0, 0, 1, 1, 0, 0, 0, 0, 3, 0, 0, 0, 0, 0, 0, 0, 0, 1, 0, 0, 0, 0, 1, 0, 5, 0, 0, 1, 0, 0, 0, 0, 0, 0, 0, 0, 1, 1, 0, 2, 1, 0, 0, 0, 0, 0, 0, 0, 0, 0, 0, 0, 0, 0, 0, 0, 0, 0, 0, 0, 0, 0, 0, 1, 0, 0, 0, 9, 0, 0, 0, 1, 0, 0, 0, 0, 0, 0, 0, 0, 0, 0, 0, 0, 0, 0, 0, 2, 0, 0, 0, 0, 0, 0, 0, 0, 0, 0, 0, 0, 1, 0, 0, 0, 0, 0, 0, 0, 0, 0, 0, 0, 0, 0, 0, 1, 0, 0, 0, 1, 1, 0, 0, 0, 0, 0, 0, 0, 1, 0, 0, 0, 0, 0, 0, 1, 0, 0, 0, 0, 0, 0, 0, 0, 0, 2, 0, 0, 0, 0, 0, 0, 0, 0, 0, 0, 0, 0, 0, 0, 0, 0, 0, 0, 0, 0, 13, 0, 0, 0, 0, 0, 0, 1, 0, 0, 0, 0, 0, 0, 0, 0, 0, 0, 0, 0, 0, 0, 0, 0, 0, 0, 0, 0, 0, 0, 0, 0, 0, 3, 0, 0, 0, 0, 0, 2, 0, 1, 0, 0, 0, 0, 0, 2, 2, 0, 0, 0, 0, 0, 0, 0, 0, 0, 0, 0, 0, 0, 0, 0, 0, 0, 0, 0, 0, 0, 0, 0, 0, 0, 0, 0, 0, 0, 1, 0, 0, 0, 0, 0, 0, 0, 0, 0, 0, 0, 0, 0, 0, 0, 0, 0, 0, 0, 0, 0, 0, 0, 0, 0, 0, 0, 0, 0, 0, 0, 0, 0, 0, 0, 0, 0, 1, 0, 0, 0, 0, 0, 0, 2, 1, 0, 0, 1, 0, 1, 0, 0, 0, 0, 0, 0, 0, 0, 0, 2, 0, 0, 0, 0, 0, 0, 0, 0, 0, 0, 0, 0, 0, 0, 0, 0, 0, 0, 0, 0, 6, 0, 1, 0, 2, 0, 0, 0, 0, 0, 0, 0, 0, 0, 0, 0, 0, 0, 0, 0, 1, 0, 0, 0, 0, 0, 0, 0, 0, 0, 0, 0, 0, 3, 0, 0, 0, 0, 0, 0, 0, 0, 1, 0, 0, 1, 0, 0, 0, 0, 0, 0, 0, 0, 0, 0, 0, 0, 0, 1, 0, 0, 0, 0, 0, 0, 0, 1, 0, 0, 0, 0, 0, 0, 0, 1, 0, 0, 0, 0, 0, 0, 0, 0, 0, 0, 0, 0, 0, 0, 0, 0, 0, 0, 0, 1, 0, 0, 1, 0, 2, 0, 1, 0, 0, 0, 0, 0, 0, 0, 0, 0, 1, 1, 0, 0, 0, 0, 0, 0, 0, 0, 0, 0, 0, 0, 0, 0, 0, 0, 0, 0, 0, 0, 0, 0, 0, 0, 0, 0, 0, 0, 0, 2, 0, 0, 0, 2, 0, 0, 0, 0, 0, 0, 0, 0, 0, 0, 0, 0, 0, 0, 3, 0, 0, 0, 0, 0, 0, 226, 0, 0, 1, 1, 0, 152, 0, 7, 1, 1, 0, 1, 0, 0, 6, 246, 0, 0, 1, 10, 0, 201, 155, 0, 2, 0, 2, 0, 1, 0, 0, 261, 2, 1, 0, 0, 1, 0, 145, 4, 1, 0, 0, 3, 1, 5, 2, 0, 1, 0, 6, 0, 0, 2, 1, 0, 12, 3, 2, 49, 2, 15, 69, 70, 1, 54, 0, 0, 0, 0, 0, 1, 0, 0, 0, 1, 0, 0, 173, 242, 0, 1, 1, 1, 0, 223, 0, 1, 0, 3, 2, 0, 177, 3, 1, 0, 0, 2, 0, 1, 4, 2, 1, 0, 2, 0, 235, 0, 273, 1, 2, 1, 0, 0, 1, 1, 0, 0, 0, 0, 0, 0, 0, 232, 0, 0, 0, 0, 0, 0, 0, 0, 1, 0, 0, 1, 0, 1, 0, 0, 3, 1, 0, 0, 242, 0, 2, 0, 36, 0, 0, 0, 7, 0, 0, 0, 0, 1, 168, 0, 0, 0, 168, 0, 1, 1, 0, 0, 0, 0, 0, 1, 0, 0, 0, 0, 0, 0, 0, 1, 0, 0, 0, 2, 0, 0, 1, 109, 0, 174, 1, 0, 9, 1, 0, 0, 0, 74, 0, 0, 0, 0, 0, 10, 1, 0, 186, 0, 0, 0, 0, 0, 0, 0, 0, 34, 0, 0, 2, 0, 0, 150, 0, 0, 186, 0, 0, 1, 0, 0, 0, 2, 1, 1, 0, 0, 23, 1, 2, 1, 2, 1, 0, 6, 0, 2, 0, 0, 1, 1, 0, 0, 1, 0, 10, 0, 0, 0, 0, 0, 0, 0, 0, 151, 0, 0, 21, 0, 244, 0, 0, 0, 0, 0, 154, 4, 0, 0, 0, 0, 0, 719, 0, 0, 0, 180, 0, 0, 0, 0, 0, 0, 4, 0, 140, 1, 0, 0, 0, 1, 1, 0, 0, 0, 0, 0, 1, 1, 0, 0, 0, 0, 0, 0, 0, 0, 0, 0, 0, 0, 0, 0, 200, 0, 0, 0, 0, 1, 158, 1, 0, 2, 2, 6, 0, 2, 0, 836, 7, 0, 2, 0, 2, 1, 136, 0, 3, 0, 0, 161, 0, 1, 0, 1, 2, 254, 0, 2, 2, 3, 0, 0, 187, 0, 0, 0, 3, 0, 0, 0, 0, 0, 1, 0, 0, 0, 0, 1, 243, 0, 0, 3, 3, 3, 1, 1, 0, 0, 2, 2, 1, 0, 2, 2, 2, 1, 274, 0, 0, 0, 21, 0, 0, 0, 0, 0, 231, 1, 0, 28, 26, 2, 28, 0, 2, 2, 0, 0, 0, 3, 0, 1, 1, 5, 0, 0, 0, 0, 2, 0, 1, 2, 3, 0, 1, 16, 7, 0, 0, 0, 3, 10, 0, 0, 5, 1, 159, 0, 4, 0, 0, 52, 13, 1, 0, 149, 2, 0, 1, 1, 2, 0, 4, 0, 1, 0, 0, 0, 14, 32, 2, 0, 191, 1, 0, 0, 2, 1, 181, 0, 334, 6, 1, 1, 7, 1, 1, 3, 1, 1, 2, 1, 5, 1, 1, 1, 2, 6, 26, 1, 1, 0, 1, 0, 2, 1, 0, 2, 5, 1, 0, 1, 5, 0, 114, 1, 268, 4, 6, 0, 2, 0, 0, 0, 0, 0, 73, 0, 4, 46, 54, 144, 5, 4, 0, 1, 0, 93, 133, 0, 0, 276, 0, 0, 0, 38, 1, 0, 1, 0, 93, 0, 0, 0, 0, 0, 0, 231, 0, 0, 157, 0, 0, 0, 1, 89, 0, 0, 208, 4, 0, 0, 108, 1, 0, 1, 56, 0, 0, 0, 86, 0, 169, 6, 0, 0, 5, 0, 281, 0, 607, 0, 1, 0, 89, 0, 0, 72, 2, 2, 6, 2, 1, 73, 1, 1, 120, 0, 856, 15, 0, 0, 734, 11, 1, 118, 30, 0, 71, 5, 1, 0, 74, 0, 0, 46, 58, 0, 1, 59, 1, 0, 36, 0, 59, 1, 2, 2, 1, 1, 1, 0, 6, 0, 18, 19, 1, 0, 2, 0, 0, 1, 0, 92, 0, 3, 0, 224, 0, 698, 2, 6, 176, 0, 0, 0, 482, 3, 1, 0, 0, 0, 1, 0, 0, 0, 0, 0, 2, 1, 0, 0, 0, 0, 4, 128, 0, 0, 293, 1, 3, 1, 0, 458, 1, 6, 498, 8, 0, 0, 287, 1, 1, 1, 0, 16, 0, 0, 9, 0, 297, 1, 328, 60, 1, 8, 1, 118, 2, 0, 52, 2, 2, 2, 0, 0, 1, 0, 2, 1, 1, 5, 1, 1, 3, 8, 2, 1, 1, 2, 1, 2, 0, 3, 41, 3, 1, 33, 1, 1, 1, 63, 7, 23, 45, 2, 1, 6, 1, 1, 1, 88, 1, 1, 96, 0, 20, 1, 10, 85, 0, 72, 2, 1, 0, 2, 2, 2, 1, 2, 1, 0, 1, 1, 1, 0, 0, 8, 81, 0, 117, 0, 0, 0, 0, 75, 0, 2, 0, 121, 0, 2, 0, 0, 66, 0, 4, 95, 4, 67, 0, 0, 3, 0, 200, 2, 2, 3, 1, 1, 0, 3, 0, 0, 63, 6, 1, 0, 0, 1, 0, 0, 51, 0, 0, 0, 45, 0, 0, 1, 2, 1, 1, 0, 0, 1, 1, 69, 1, 0, 140, 0, 2, 3, 0, 0, 0, 0, 0, 0, 176, 2, 0, 139, 10, 131, 0, 0, 2, 0, 0, 0, 0, 0, 24, 106, 3, 0, 0, 0, 192, 1, 70, 0, 72, 0, 210, 0, 3, 0, 0, 142, 477, 0, 93, 12, 0, 85, 0, 0, 55, 64, 0, 1, 1, 53, 1, 1, 0, 0, 0, 0, 62, 2, 0, 42, 0, 39, 0, 0, 37, 0, 1, 28, 0, 7, 0, 0, 23, 41, 36, 1, 0, 0, 0, 0, 0, 1, 0, 0, 56, 0, 1, 0, 0, 0, 0, 1, 0, 0, 26, 56, 0, 0, 1, 0, 0, 64, 0, 0, 88, 0, 0, 0, 100, 0, 0, 0, 119, 0, 79, 0, 3, 0, 0, 95, 93, 138, 3, 0, 0, 1, 0, 0, 0, 1, 28, 0, 0, 43, 0, 0, 58, 1, 0, 0, 0, 49, 38, 0, 53, 0, 0, 0, 0, 41, 20, 19, 0, 2, 1, 30, 18, 1, 74, 4, 34, 0, 7, 1, 0, 1, 0, 7, 0, 0, 0, 0, 0, 5, 0, 2, 0, 0, 0, 0, 13, 0, 0, 0, 0, 0, 0, 0, 0, 1, 0, 0, 5, 0, 0, 0, 0, 0, 0, 0, 17, 2, 0, 17, 0, 0, 0, 0, 0, 0, 16, 0, 0, 0, 4, 0, 0, 1, 0, 0, 0, 30, 0, 0, 18, 0, 0, 0, 0, 0, 1, 0, 0, 0, 0, 0, 0, 0, 0, 0, 0, 1, 0, 0, 0, 0, 0, 0, 0, 0, 0, 0, 0, 88, 0, 3, 0, 0, 0, 0, 0, 0, 0, 0, 0, 0, 1, 0, 0, 0, 0, 0, 0, 0, 0, 0, 0, 0, 0, 0, 0, 0, 0, 0, 0, 0, 0, 0, 0, 0, 0, 0, 0, 0, 0, 0, 0, 0, 0, 0, 0, 0, 0, 0, 0, 0, 0, 0, 0, 0, 0, 0, 0, 0, 0, 0, 0, 0, 0, 0, 0, 0, 1, 0, 0, 0, 0, 0, 0, 0, 0, 0, 0, 0, 0, 0, 0, 0, 1, 0, 1, 0, 0, 0, 0, 0, 0, 0, 0, 0, 0, 0, 3, 5, 690, 1, 52, 1101, 1, 77, 879, 104, 31, 61, 997, 5, 4, 1, 784, 89, 874, 3, 2, 793, 131, 0, 915, 684, 739, 167, 1003, 3, 1636, 5, 3, 3, 137, 760, 1026, 2, 1011, 974, 5, 844, 3, 2, 54, 1055, 1379, 3, 223, 476, 60, 1136, 1412, 5, 8, 1, 0, 2, 4, 6, 17, 48, 4, 2, 5, 1, 2, 61, 0, 1, 2, 2, 1, 1, 2, 42, 1, 0, 6, 5, 8, 0, 3, 3, 1, 4, 4, 1, 1, 3, 1, 0, 0, 3, 10, 4, 1, 0, 1, 4, 4, 1, 0, 2, 2, 1, 1, 5, 1, 0, 0, 1, 0, 0, 1, 0, 0, 0, 0, 0, 0, 0, 16, 0, 1, 0, 75, 108, 0, 1, 1, 56, 61, 0, 4, 85, 0, 1, 67, 68, 0, 247, 14, 97, 112, 0, 49, 38, 76, 1, 40, 1, 84, 25, 65, 61, 0, 0, 61, 32, 56, 0, 30, 0, 62, 10, 3, 69, 0, 52, 41, 0, 2, 0, 59, 15, 0, 15, 15, 15, 15, 1, 0, 1, 0, 0, 0, 3, 0, 0, 3, 0, 0, 0, 0, 0, 0, 0, 0, 0, 0, 0, 0, 0, 0, 0, 0, 0, 0, 0, 0, 0, 0, 0, 0, 0, 0, 0, 0, 0, 0, 0, 0, 0, 0, 0, 0, 0, 0, 0, 0, 0, 0, 0, 0, 1, 0, 0, 1, 0, 0, 0, 0, 1, 0, 0, 0, 0, 0, 0, 0, 1, 1, 0, 0, 0, 0, 0, 0, 4, 12, 14, 0, 8, 7, 0, 0, 0, 0, 0, 0, 0, 0, 0, 0, 0, 0, 0, 0, 0, 0, 0, 0, 0, 1, 1, 1, 0, 0, 0, 1, 0, 0, 0, 0, 0, 0, 0, 1, 0, 0, 0, 0, 0, 0, 1, 322, 0, 242, 0, 0, 1, 1, 0, 0, 0, 0, 0, 0, 0, 1, 0, 1, 0, 0, 1, 0, 0, 0, 0, 1, 0, 0, 0, 0, 0, 0, 0, 0, 0, 0, 0, 0, 0, 0, 0, 0, 0, 0, 0, 0, 0, 0, 0, 0, 1, 0, 0, 0, 0, 0, 0, 0, 0, 0, 0, 0, 0, 0, 0, 0, 0, 0, 0, 0, 0, 0, 0, 0, 0, 0, 0, 0, 0, 0, 0, 0, 0, 0, 0, 0, 0, 0, 0, 0, 0, 0, 0, 0, 0, 0, 0, 0, 0, 0, 0, 0, 0, 0, 0, 0, 0, 0, 0, 277, 0, 0, 0, 0, 0, 0, 0, 0, 0, 0, 0, 0, 0, 0, 0, 0, 0, 0, 8, 16, 0, 0, 0, 67, 0, 73, 0, 0, 0, 0, 0, 0, 0, 0, 239, 0, 0, 295, 0, 0, 278, 0, 0, 79, 0, 0, 0, 281, 0, 0, 0, 277, 0, 0, 319, 0, 0, 0, 0, 0, 0, 56, 0, 0, 0, 330, 0, 356, 0, 310, 0, 0, 0, 0, 0, 0, 0, 128, 0, 4, 0, 0, 0, 0, 0, 0, 0, 0, 0, 0, 0, 0, 0, 0, 0, 0, 0, 0, 0, 0, 0, 0, 0, 0, 0, 0, 0, 0, 0, 0, 0, 0, 0, 0, 0, 0, 0, 0, 0, 0, 0, 0, 0, 0, 0, 0, 0, 0, 0, 0, 0, 0, 0, 0, 0, 0, 0, 0, 0, 0, 0, 0, 0, 0, 0, 0, 0, 0, 0, 0, 0, 0, 0, 0, 0, 0, 0, 0, 0, 0, 0, 0, 0, 0, 0, 0, 0, 0, 0, 0, 0, 0, 56, 0, 0, 152, 0, 0, 124, 0, 0, 0, 147, 0, 0, 0, 0, 274, 0, 0, 129, 65, 94, 0, 0, 0, 0, 0, 351, 0, 0, 0, 0, 0, 0, 0, 179, 0, 0, 0, 85, 0, 0, 197, 0, 0, 81, 22, 5, 0, 351, 532, 588, 41, 564, 366, 601, 1100, 597, 503, 607, 335, 29, 541, 404, 544, 5, 352, 529, 0, 341, 726, 364, 506, 377, 677, 11, 415, 517, 570, 628, 5, 375, 1330, 416, 83, 718, 2139, 568, 29, 429, 70, 770, 866, 476, 685, 627, 413, 905, 750, 2, 747, 684, 1122, 718, 24, 1618, 525, 5, 24, 410, 1041, 3424, 22, 67, 796, 25, 536, 334, 165, 295, 27, 550, 0, 340, 20, 408, 241, 526, 1, 0, 818, 2, 318, 815, 0, 35, 254, 12, 739, 396, 11, 544, 51, 396, 19, 454, 1, 4, 113, 9, 41, 508, 11, 528, 0, 193, 489, 2, 510, 3, 6, 10, 24, 8, 24, 27, 236, 43, 747, 254, 16, 6, 560, 549, 14, 37, 635, 7, 26, 1430, 4, 210, 7, 5, 8, 38, 17, 594, 22, 10, 586, 51, 695, 3, 0, 2, 3, 0, 1, 0, 1, 0, 31, 1, 603, 16, 22, 13, 699, 0, 53, 489, 13, 607, 29, 358, 38, 628, 2, 0, 0, 0, 0, 1, 19, 4, 6, 11, 675, 1, 14, 2, 14, 10, 6, 0, 2, 2, 6, 36, 4, 1, 4, 18, 2, 2, 12, 7, 4, 1, 7, 7, 6, 6, 6, 1, 1, 1, 0, 0, 0, 1, 1, 19, 10, 9, 7, 5, 4, 0, 2, 0, 0, 0, 7, 1, 13, 0, 0, 0, 0, 0, 1, 0, 3, 0, 0, 0, 0, 1, 0, 0, 0, 0, 1, 0, 0, 0, 0, 18, 210, 0, 1, 1, 12, 0, 1, 0, 0, 6, 210, 4, 0, 0, 1, 87, 0, 0, 0, 3, 229, 0, 0, 0, 0, 0, 0, 4, 0, 0, 0, 0, 0, 13, 199, 0, 0, 0, 0, 0, 0, 0, 0, 13, 263, 0, 0, 0, 0, 7, 0, 0, 0, 7, 92, 0, 0, 0, 0, 1, 6, 221, 0, 0, 0, 5, 1, 0, 0, 0, 13, 163, 0, 13, 0, 0, 0, 0, 0, 15, 224, 0, 0, 0, 0, 14, 0, 0, 0, 0, 9, 2, 223, 1, 0, 1, 0, 1, 5, 213, 0, 0, 1, 0, 15, 0, 0, 0, 0, 1, 211, 0, 30, 0, 0, 0, 1, 0, 0, 13, 1, 201, 0, 0, 0, 0, 3, 3, 132, 0, 5, 0, 0, 0, 0, 5, 153, 1, 0, 0, 0, 13, 0, 0, 1, 1, 19, 240, 0, 2, 0, 9, 189, 0, 0, 0, 13, 1, 0, 0, 0, 5, 272, 1, 0, 2, 0, 0, 1, 0, 0, 0, 0, 0, 0, 4, 0, 0, 0, 19, 230, 2, 0, 0, 0, 0, 0, 1, 1, 0, 14, 241, 0, 0, 0, 0, 0, 0, 0, 0, 0, 1, 0, 2, 17, 239, 0, 0, 0, 0, 5, 1, 1, 0, 6, 195, 0, 0, 0, 0, 0, 0, 0, 0, 1, 0, 0, 0, 0, 0, 0, 6, 202, 0, 0, 0, 0, 0, 2, 0, 19, 273, 2, 5, 0, 0, 10, 0, 150, 0, 0, 1, 0, 0, 0, 0, 0, 4, 0, 0, 1, 0, 1, 1, 1, 2, 0, 1, 7, 230, 0, 0, 0, 0, 0, 0, 0, 9, 2, 1, 0, 0, 7, 236, 0, 1, 1, 0, 9, 201, 0, 0, 0, 0, 0, 0, 2, 0, 1, 0, 0, 0, 0, 3, 1, 0, 0, 1, 0, 1, 0, 1, 2, 1, 1, 1, 0, 0, 9, 0, 252, 0, 0, 0, 0, 1, 0, 0, 0, 1, 1, 1, 5, 0, 228, 0, 0, 0, 1, 0, 0, 1, 11, 0, 0, 304, 0, 0, 0, 0, 4, 29, 0, 1, 0, 1, 4, 166, 0, 1, 0, 0, 1, 194, 1, 0, 0, 0, 0, 0, 0, 0, 0, 0, 0, 0, 0, 7, 0, 1, 1, 0, 141, 1, 164, 124, 87, 1, 0, 149, 30, 142, 0, 1, 212, 2, 13, 283, 0, 96, 1, 151, 0, 0, 4, 180, 76, 1, 1, 243, 0, 147, 166, 0, 0, 233, 161, 267, 1, 1, 111, 209, 2, 0, 0, 174, 0, 10, 0, 182, 159, 0, 0, 0, 169, 0, 0, 204, 148, 116, 169, 200, 8, 94, 39, 228, 9, 187, 0, 206, 0, 0, 265, 287, 144, 0, 120, 0, 144, 1, 0, 149, 0, 163, 198, 0, 120, 153, 0, 175, 225, 122, 2, 221, 0, 2, 247, 185, 0, 349, 291, 167, 224, 227, 14, 174, 0, 6, 145, 129, 0, 230, 243, 156, 335, 0, 8, 94, 196, 10, 109, 170, 138, 0, 0, 1, 190, 0, 215, 4, 2, 169, 139, 0, 164, 0, 226, 0, 136, 9, 109, 0, 227, 0, 0, 178, 0, 0, 275, 1, 296, 294, 0, 247, 302, 0, 145, 14, 288, 1, 131, 123, 184, 0, 146, 0, 138, 0, 0, 0, 84, 255, 3, 199, 173, 187, 151, 233, 160, 155, 200, 1, 126, 1, 170, 0, 0, 111, 0, 163, 0, 1, 196, 215, 0, 0, 104, 1, 187, 0, 0, 166, 1, 135, 43, 97, 201, 3, 206, 209, 0, 0, 142, 166, 2, 197, 0, 268, 0, 111, 142, 4, 220, 166, 146, 200, 0, 0, 0, 119, 166, 0, 0, 155, 185, 0, 0, 104, 0, 122, 0, 144, 225, 202, 0, 218, 217, 302, 1, 231, 147, 5, 191, 0, 156, 11, 182, 0, 0, 227, 0, 180, 125, 0, 0, 241, 133, 195, 234, 0, 161, 0, 176, 140, 0, 148, 104, 116, 203, 0, 64, 0, 0, 1, 183, 0, 117, 0, 0, 40, 150, 1, 0, 158, 0, 139, 1, 182, 123, 5, 0, 0, 169, 112, 114, 0, 3, 141, 0, 4, 215, 141, 0, 0, 201, 1, 1, 154, 0, 1, 6, 113, 0, 0, 130, 0, 0, 115, 0, 8, 0, 0, 135, 0, 0, 101, 0, 0, 4, 127, 162, 1, 112, 0, 1, 0, 162, 1, 118, 77, 113, 1, 109, 14, 73, 148, 3, 0, 0, 149, 0, 0, 0, 110, 28, 0, 43, 70, 0, 192, 121, 194, 169, 3, 224, 2, 154, 0, 126, 0, 0, 265, 0, 0, 230, 145, 175, 149, 114, 4, 163, 244, 186, 17, 193, 0, 166, 1, 0, 165, 212, 1, 0, 0, 0, 199, 1, 0, 240, 1, 259, 0, 1, 204, 0, 243, 0, 162, 0, 242, 172, 0, 206, 194, 0, 171, 171, 209, 0, 194, 233, 0, 228, 0, 0, 0, 216, 261, 1, 362, 0, 0, 3, 298, 0, 0, 212, 0, 0, 218, 227, 0, 0, 187, 284, 0, 188, 0, 253, 311, 0, 264, 0, 0, 0, 242, 202, 0, 274, 0, 0, 261, 0, 1, 198, 322, 1, 280, 2, 1, 277, 0, 261, 0, 6, 322, 0, 0, 254, 0, 261, 279, 0, 0, 0, 312, 229, 0, 0, 242, 285, 0, 1, 2, 406, 0, 0, 0, 0, 0, 0, 0, 257, 1, 0, 0, 0, 0, 235, 0, 1, 0, 0, 0, 199, 1, 0, 0, 2, 274, 1, 0, 1, 338, 0, 0, 0, 0, 0, 0, 374, 0, 0, 0, 0, 0, 1, 0, 0, 0, 0, 251, 0, 0, 0, 1, 0, 0, 188, 0, 0, 0, 0, 0, 0, 0, 176, 0, 0, 1, 5, 196, 0, 1, 0, 0, 0, 0, 0, 184, 0, 0, 264, 0, 0, 0, 3, 257, 0, 0, 0, 3, 0, 235, 0, 0, 0, 200, 0, 0, 2, 166, 0, 0, 167, 0, 0, 0, 0, 0, 262, 0, 0, 0, 0, 295, 0, 0, 191, 0, 0, 394, 0, 0, 0, 0, 0, 0, 287, 0, 0, 0, 3, 300, 0, 0, 0, 0, 0, 1, 0, 533, 0, 0, 0, 0, 397, 0, 1, 0, 0, 349, 0, 0, 0, 0, 1, 0, 451, 0, 1, 0, 0, 0, 318, 0, 0, 0, 0, 0, 0, 0, 270, 0, 280, 0, 285, 92, 0, 0, 0, 0, 332, 1, 1, 0, 434, 0, 0, 0, 342, 1, 0, 1, 0, 597, 0, 0, 433, 0, 0, 0, 300, 0, 1, 0, 0, 0, 357, 0, 0, 133, 0, 0, 322, 0, 0, 0, 0, 0, 135, 0, 1, 0, 469, 0, 2, 0, 491, 0, 0, 489, 1, 0, 348, 0, 0, 0, 195, 0, 0, 3, 0, 0, 274, 0, 0, 0, 301, 0, 336, 0, 0, 265, 0, 195, 0, 0, 187, 90, 0, 0, 68, 0, 0, 0, 0, 334, 1, 1, 299, 0, 217, 0, 2, 564, 0, 0, 0, 659, 109, 0, 423, 0, 76, 0, 0, 0, 418, 0, 0, 0, 82, 0, 0, 584, 0, 51, 0, 0, 295, 63, 0, 0, 354, 1, 0, 307, 0, 253, 0, 0, 117, 0, 444, 0, 1, 0, 338, 0, 0, 210, 0, 0, 248, 0, 0, 251, 0, 0, 1, 0, 431, 0, 1, 1, 281, 0, 303, 0, 0, 0, 0, 319, 0, 0, 1, 0, 446, 1, 0, 0, 0, 1, 0, 542, 1, 0, 0, 522, 0, 0, 1, 0, 440, 0, 229, 0, 0, 0, 379, 1, 302, 258, 0, 1, 0, 491, 1, 1, 1, 0, 0, 553, 0, 1, 0, 158, 529, 0, 431, 0, 0, 0, 492, 259, 0, 0, 0, 757, 0, 0, 0, 257, 0, 0, 426, 0, 0, 0, 377, 0, 0, 303, 0, 0, 496, 0, 0, 438, 0, 0, 0, 231, 0, 0, 0, 274, 0, 0, 0, 217, 0, 0, 346, 0, 388, 0, 233, 0, 0, 1, 0, 159, 0, 404, 1, 0, 428, 0, 333, 0, 0, 266, 0, 0, 0, 474, 0, 0, 0, 348, 0, 432, 0, 0, 0, 0, 153, 0, 0, 742, 0, 422, 248, 0, 505, 0, 463, 0, 0, 146, 0, 0, 471, 0, 245, 0, 0, 339, 0, 0, 0, 65, 1, 0, 113, 100, 0, 0, 0, 153, 0, 0, 253, 1, 0, 1, 0, 0, 282, 0, 207, 110, 0, 0, 303, 0, 0, 0, 117, 0, 0, 0, 0, 322, 72, 0, 0, 0, 0, 304, 0, 0, 112, 0, 0, 0, 403, 2, 2, 452, 286, 0, 238, 0, 0, 0, 0, 403, 0, 0, 0, 64, 0, 300, 100, 0, 3, 4, 3, 4, 2, 1, 9, 0, 1, 4, 2, 14, 3, 2, 5, 6, 0, 10, 4, 4, 1, 10, 11, 3, 9, 11, 1, 3, 3, 2, 2, 9, 3, 28, 5, 9, 0, 11, 2, 15, 17, 3, 8, 3, 7, 49, 18, 1, 1, 21, 42, 3, 4, 3, 4, 2, 1, 9, 0, 1, 4, 2, 14, 3, 2, 5, 6, 0, 10, 4, 4, 1, 10, 11, 3, 9, 11, 1, 3, 3, 2, 2, 9, 3, 28, 5, 9, 0, 11, 2, 15, 17, 3, 8, 3, 7, 49, 18, 1, 1, 21, 42, 10, 306, 0, 1, 500, 7, 0, 157, 0, 196, 183, 0, 0, 0, 321, 292, 618, 16, 1, 466, 2, 0, 0, 528, 372, 1, 2, 312, 565, 0, 1, 389, 431, 65, 0, 256, 580, 0, 0, 633, 512, 1, 0, 0, 269, 560, 5, 0, 1, 314, 388, 0, 0, 0, 316, 572, 353, 0, 0, 60, 0, 0, 0, 526, 3, 624, 0, 7, 1, 153, 475, 0, 15, 65, 0, 0, 6, 16, 429, 0, 28, 0, 4, 0, 0, 0, 1, 1, 17, 0, 1, 0, 0, 0, 1, 292, 0, 581, 238, 419, 7, 0, 0, 1, 0, 34, 0, 153, 453, 0, 17, 1, 0, 355, 408, 0, 472, 0, 0, 0, 266, 1, 0, 0, 0, 336, 440, 1, 0, 0, 603, 0, 363, 0, 2, 0, 20, 0, 100, 897, 120, 0, 484, 0, 0, 496, 2, 0, 0, 0, 1, 0, 0, 0, 462, 1, 1, 452, 2, 0, 4, 554, 0, 0, 0, 0, 0, 0, 0, 24, 7, 0, 0, 0, 1, 0, 793, 0, 0, 0, 0, 0, 0, 3, 2, 2, 7, 2, 3, 0, 0, 103, 12, 0, 0, 0, 0, 1, 0, 0, 5, 0, 17, 1, 0, 12, 13, 0, 1, 0, 8, 0, 0, 0, 6, 0, 0, 0, 0, 1, 0, 6, 0, 1, 0, 2, 1, 3, 0, 4, 0, 16, 0, 382, 6, 1, 0, 4, 0, 1, 0, 4, 0, 0, 1, 0, 10, 0, 0, 0, 78, 1, 0, 1, 0, 0, 2, 0, 0, 1, 0, 83, 3, 0, 1, 1, 1, 1, 1, 0, 1, 0, 2, 0, 0, 0, 0, 0, 0, 198, 0, 5, 0, 1, 6, 0, 0, 227, 0, 572, 0, 0, 0, 0, 198, 0, 0, 0, 134, 0, 0, 119, 0, 7, 0, 86, 9, 106, 108, 0, 0, 0, 0, 0, 0, 71, 6, 2, 0, 9, 43, 1, 87, 86, 0, 0, 5, 0, 0, 36, 124, 0, 11, 0, 0, 0, 0, 2, 274, 1, 0, 15, 0, 520, 450, 1, 0, 0, 0, 0, 0, 0, 266, 483, 5, 4, 0, 0, 0, 0, 165, 0, 0, 572, 0, 75, 335, 1, 11, 428, 1, 1, 1, 0, 15, 0, 154, 1, 131, 1, 0, 13, 0, 3, 0, 0, 0, 25, 0, 0, 0, 10, 0, 121, 0, 0, 62, 0, 2, 0, 8, 8, 0, 12, 11, 8, 9, 0, 0, 15, 16, 0, 0, 0, 0, 0, 0, 0, 0, 1, 0, 0, 0, 0, 0, 0, 21, 0, 15, 388, 0, 0, 20, 425, 264, 0, 12, 26, 148, 0, 1, 0, 71, 147, 0, 212, 2, 0, 18, 14, 421, 4, 0, 0, 1, 321, 3, 261, 2, 1, 0, 0, 10, 114, 199, 509, 12, 82, 0, 0, 1, 3, 13, 229, 2, 12, 0, 329, 12, 1, 310, 0, 228, 11, 0, 913, 6, 23, 0, 0, 783, 0, 264, 1, 2, 366, 2, 324, 430, 20, 0, 16, 0, 592, 10, 1, 3, 1, 51, 15, 0, 0, 0, 34, 334, 419, 1, 1, 26, 0, 0, 0, 11, 0, 619, 16, 1, 429, 201, 2, 0, 0, 0, 0, 5, 1, 337, 10, 357, 3, 13, 4, 338, 0, 0, 25, 0, 178, 0, 0, 186, 0, 0, 15, 38, 263, 0, 7, 0, 0, 0, 15, 210, 289, 20, 101, 0, 275, 10, 0, 1, 183, 220, 10, 2, 1, 262, 0, 3, 256, 29, 113, 102, 7, 0, 0, 0, 0, 2, 174, 6, 0, 12, 187, 6, 29, 50, 167, 11, 2, 0, 189, 0, 0, 2, 0, 0, 2, 99, 0, 3, 23, 90, 91, 0, 13, 78, 0, 4, 0, 136, 0, 163, 0, 0, 0, 0, 1, 1, 0, 2, 0, 0, 0, 179, 163, 0, 0, 184, 0, 199, 1, 0, 146, 0, 0, 70, 140, 2, 0, 89, 31, 50, 0, 0, 91, 1, 8, 0, 0, 123, 6, 50, 132, 0, 105, 0, 157, 1, 0, 0, 0, 120, 0, 0, 70, 0, 167, 0, 0, 0, 0, 0, 153, 2, 1, 35, 131, 0, 0, 109, 0, 135, 1, 2, 1, 2, 0, 0, 0, 1, 0, 219, 1, 0, 167, 232, 12, 1, 0, 0, 0, 0, 12, 0, 4, 0, 0, 6, 1, 20, 2, 4, 7, 3, 5, 2, 4, 3, 63, 1, 0, 4, 1, 2, 13, 4, 1, 0, 21, 3, 0, 36, 1, 0, 10, 0, 3, 10, 3, 0, 14, 0, 6, 0, 0, 0, 2, 2, 0, 0, 0, 0, 0, 5, 1, 0, 0, 34, 0, 0, 3, 0, 0, 0, 0, 22, 0], \"z\": [432, 150, 204, 111, 204, 211, 418, 260, 198, 167, 202, 213, 305, 200, 335, 303, 117, 132, 192, 149, 221, 217, 96, 18, 100, 37, 70, 85, 138, 229, 81, 40, 85, 116, 116, 281, 110, 78, 61, 150, 79, 121, 201, 193, 260, 334, 419, 114, 163, 254, 75, 103, 95, 193, 146, 171, 186, 136, 84, 254, 245, 151, 484, 256, 65, 104, 181, 305, 161, 199, 56, 226, 208, 110, 196, 35, 170, 94, 234, 62, 114, 134, 116, 360, 284, 12, 275, 226, 291, 24, 15, 32, 645, 697, 554, 20, 250, 348, 373, 1333, 76, 34, 18, 27, 108, 145, 151, 171, 213, 451, 538, 190, 979, 182, 419, 462, 201, 211, 156, 232, 242, 235, 104, 96, 254, 293, 51, 243, 632, 320, 295, 26, 15, 16, 29, 28, 8, 10, 39, 47, 189, 91, 244, 213, 204, 114, 307, 99, 122, 300, 627, 157, 296, 331, 150, 195, 41, 39, 57, 363, 144, 144, 53, 140, 262, 166, 4315, 327, 180, 249, 59, 95, 26, 244, 167, 59, 58, 168, 110, 117, 41, 178, 53, 80, 18, 141, 79, 262, 607, 67, 190, 27, 62, 153, 348, 47, 177, 269, 459, 15, 30, 57, 74, 317, 19, 175, 133, 158, 601, 41, 31, 29, 42, 13, 406, 49, 94, 291, 167, 241, 410, 184, 382, 597, 188, 275, 347, 51, 247, 362, 133, 93, 184, 461, 257, 367, 211, 45, 659, 175, 251, 291, 186, 680, 150, 282, 237, 256, 297, 201, 209, 234, 146, 368, 170, 212, 256, 344, 224, 244, 114, 199, 295, 70, 275, 66, 752, 76, 22, 100, 32, 229, 110, 51, 34, 15, 75, 173, 505, 132, 220, 408, 159, 228, 125, 29, 33, 239, 286, 257, 148, 57, 163, 459, 184, 484, 182, 175, 313, 352, 48, 244, 509, 94, 392, 212, 77, 198, 399, 204, 208, 360, 444, 205, 7, 38, 168, 274, 190, 99, 79, 34, 39, 22, 206, 158, 276, 95, 480, 242, 268, 165, 110, 33, 72, 173, 186, 250, 230, 135, 102, 90, 657, 1131, 610, 58, 268, 207, 220, 450, 276, 512, 406, 505, 365, 1161, 498, 411, 105, 66, 424, 984, 667, 84, 478, 61, 46, 309, 51, 83, 98, 212, 154, 184, 241, 219, 191, 142, 206, 225, 64, 157, 288, 87, 126, 390, 86, 146, 152, 104, 104, 101, 123, 142, 260, 162, 125, 519, 279, 204, 145, 259, 294, 209, 206, 393, 215, 353, 485, 354, 215, 151, 102, 352, 102, 158, 273, 281, 221, 262, 107, 205, 301, 548, 184, 118, 146, 159, 365, 392, 138, 146, 265, 334, 252, 298, 433, 399, 175, 342, 142, 876, 129, 264, 218, 276, 463, 185, 207, 293, 100, 109, 115, 213, 311, 230, 160, 367, 193, 123, 234, 264, 189, 131, 325, 94, 203, 124, 189, 151, 216, 223, 521, 233, 258, 294, 65, 182, 309, 254, 353, 114, 397, 267, 315, 190, 446, 166, 228, 90, 47, 205, 222, 128, 159, 294, 148, 375, 473, 256, 468, 153, 124, 294, 111, 77, 37, 206, 98, 113, 180, 148, 76, 114, 211, 52, 38, 2, 335, 97, 202, 171, 143, 73, 166, 229, 85, 119, 224, 277, 308, 162, 249, 128, 1, 1, 261, 214, 52, 39, 66, 237, 156, 66, 239, 373, 284, 23, 27, 35, 46, 150, 278, 54, 68, 66, 628, 115, 617, 239, 173, 64, 443, 137, 452, 4, 43, 76, 179, 42, 30, 168, 90, 243, 87, 46, 61, 73, 124, 63, 182, 119, 242, 231, 152, 144, 190, 220, 105, 148, 124, 125, 58, 104, 144, 44, 89, 156, 31, 147, 172, 160, 51, 193, 44, 41, 101, 265, 143, 86, 166, 56, 107, 99, 120, 102, 54, 213, 83, 105, 49, 156, 100, 97, 84, 98, 88, 102, 120, 423, 244, 171, 138, 173, 260, 319, 259, 193, 203, 127, 61, 180, 53, 164, 51, 348, 178, 152, 56, 48, 122, 117, 145, 79, 222, 206, 292, 153, 121, 208, 113, 179, 173, 162, 139, 169, 192, 101, 102, 131, 52, 62, 141, 153, 111, 135, 94, 174, 318, 328, 54, 74, 78, 50, 180, 72, 101, 90, 122, 90, 297, 300, 193, 125, 906, 343, 146, 219, 166, 0, 101, 341, 123, 332, 49, 402, 181, 306, 78, 139, 346, 177, 377, 57, 891, 0, 346, 365, 72, 27, 59, 113, 116, 21, 19, 207, 1520, 48, 68, 96, 232, 128, 110, 87, 20, 74, 61, 83, 61, 140, 138, 119, 106, 139, 264, 48, 292, 64, 170, 165, 78, 128, 526, 230, 429, 92, 124, 309, 68, 189, 74, 131, 74, 67, 35, 215, 395, 99, 136, 133, 263, 81, 404, 260, 209, 103, 152, 285, 177, 187, 161, 421, 180, 138, 762, 364, 103, 217, 88, 325, 104, 122, 118, 70, 58, 60, 65, 80, 39, 165, 78, 137, 243, 197, 349, 167, 54, 131, 51, 103, 615, 227, 85, 63, 162, 197, 178, 210, 157, 44, 208, 145, 176, 246, 97, 109, 168, 147, 356, 279, 110, 187, 121, 43, 108, 110, 119, 354, 186, 171, 223, 146, 105, 130, 322, 113, 102, 431, 260, 31, 68, 147, 176, 112, 116, 118, 118, 161, 312, 58, 52, 234, 342, 111, 203, 138, 103, 307, 472, 180, 155, 117, 223, 26, 119, 59, 90, 22, 72, 182, 66, 45, 110, 117, 83, 138, 102, 59, 211, 158, 320, 345, 285, 51, 248, 66, 42, 58, 37, 39, 56, 58, 144, 220, 71, 45, 248, 222, 140, 63, 501, 74, 249, 625, 57, 279, 68, 106, 73, 68, 12, 10, 35, 40, 44, 6, 80, 83, 66, 421, 246, 151, 304, 263, 216, 42, 289, 330, 320, 355, 242, 471, 320, 486, 353, 469, 271, 228, 495, 381, 480, 140, 443, 182, 121, 49, 227, 230, 192, 417, 552, 111, 130, 100, 50, 385, 108, 368, 307, 176, 246, 152, 286, 108, 25, 21, 318, 370, 58, 45, 69, 135, 212, 184, 103, 302, 246, 117, 52, 317, 189, 192, 96, 112, 124, 155, 167, 157, 101, 230, 136, 131, 128, 129, 376, 68, 142, 106, 88, 49, 1052, 948, 1552, 1580, 1241, 1054, 954, 1014, 1768, 951, 1223, 987, 2799, 102, 160, 1575, 945, 1194, 1339, 963, 1145, 950, 2024, 950, 951, 974, 1139, 1061, 1018, 991, 952, 1999, 1251, 968, 1338, 948, 1, 1914, 1377, 1244, 948, 1229, 1363, 956, 1080, 994, 1419, 954, 550, 549, 1143, 1356, 1774, 1230, 1451, 1784, 1983, 2632, 2166, 1218, 1724, 2773, 1259, 1270, 1921, 1164, 1029, 1197, 951, 121, 169, 2186, 1910, 1069, 2177, 1825, 1880, 1265, 2297, 1700, 976, 1077, 1346, 1188, 1081, 1898, 1916, 1092, 1566, 992, 1172, 1646, 1966, 2020, 2055, 1830, 2244, 1128, 1842, 2606, 2153, 2042, 1125, 2098, 1956, 2444, 1803, 1042, 1231, 2045, 1915, 1995, 2183, 1140, 1805, 1962, 1933, 2636, 2264, 2606, 1618, 2947, 2062, 1987, 2265, 1249, 2791, 2214, 2620, 2025, 1968, 2204, 2211, 2399, 2260, 1977, 2348, 2489, 2293, 2221, 2314, 1279, 2404, 2010, 1191, 1392, 2204, 1929, 7, 12, 3, 2303, 1926, 2288, 2419, 2297, 1888, 2033, 2414, 1982, 2223, 2341, 2101, 2201, 2020, 1940, 2071, 2080, 2382, 2259, 55, 2242, 2028, 2300, 6, 2273, 2132, 2074, 2276, 2319, 2217, 2329, 2174, 2252, 2251, 1931, 2095, 2030, 2634, 2026, 2118, 2112, 2675, 2126, 2418, 1892, 2462, 3639, 270, 380, 421, 2253, 2346, 2999, 1904, 2402, 2239, 2332, 2374, 2492, 2072, 2826, 2032, 2154, 1997, 2320, 2190, 2545, 2452, 4710, 2549, 3190, 3510, 2255, 2309, 2051, 2350, 2105, 2291, 2349, 2157, 2151, 2615, 2148, 3115, 1302, 1815, 1379, 1169, 1509, 956, 1220, 1601, 1496, 1103, 1526, 1159, 1010, 1182, 1428, 1473, 1180, 1864, 1032, 1630, 545, 1193, 1477, 1272, 1238, 1500, 1917, 1126, 1246, 1540, 1282, 1253, 1484, 1445, 1132, 1610, 1714, 2785, 1884, 1667, 1204, 1182, 1212, 2674, 2054, 1469, 1668, 2000, 1497, 1342, 1268, 1428, 1492, 2621, 1277, 1833, 2149, 1562, 98, 264, 1253, 1300, 1451, 1444, 1182, 366, 1424, 1294, 1501, 16, 40, 1078, 413, 1077, 860, 748, 0, 103, 9, 7, 10, 15, 16, 616, 1781, 1343, 212, 1053, 1272, 2081, 2713, 1529, 753, 271, 1429, 147, 3730, 357, 358, 1211, 323, 169, 774, 1058, 230, 1204, 375, 300, 228, 435, 572, 532, 471, 640, 376, 330, 591, 519, 437, 287, 482, 543, 463, 272, 432, 1013, 653, 148, 433, 404, 616, 452, 457, 600, 345, 156, 227, 748, 406, 548, 156, 641, 14, 489, 644, 187, 893, 406, 329, 507, 188, 359, 525, 306, 615, 572, 110, 742, 596, 1230, 758, 322, 924, 537, 433, 442, 544, 699, 1442, 332, 972, 330, 1325, 1923, 1467, 1989, 779, 626, 493, 2520, 273, 2613, 2137, 665, 3919, 4094, 2836, 562, 767, 722, 37, 637, 1347, 922, 108, 685, 450, 353, 458, 2669, 371, 973, 778, 551, 501, 493, 306, 405, 497, 782, 367, 500, 426, 880, 716, 461, 244, 589, 321, 396, 350, 164, 718, 196, 849, 109, 413, 395, 425, 688, 313, 399, 714, 576, 462, 41, 469, 17, 6, 344, 621, 603, 530, 211, 327, 505, 424, 514, 412, 150, 233, 906, 800, 279, 715, 969, 489, 294, 437, 219, 267, 321, 190, 318, 246, 327, 417, 317, 340, 385, 543, 981, 308, 425, 542, 254, 325, 287, 247, 273, 396, 241, 204, 199, 6, 421, 240, 479, 282, 107, 258, 799, 157, 358, 45, 155, 328, 271, 202, 249, 460, 100, 101, 258, 152, 87, 46, 63, 271, 126, 175, 47, 42, 53, 100, 41, 34, 238, 223, 75, 101, 51, 77, 1190, 9, 134, 72, 188, 221, 221, 94, 82, 216, 110, 348, 225, 80, 91, 184, 562, 184, 190, 360, 57, 102, 152, 263, 62, 126, 114, 187, 58, 46, 183, 99, 51, 92, 103, 326, 113, 61, 76, 66, 638, 154, 95, 29, 71, 813, 506, 68, 174, 105, 179, 191, 203, 277, 62, 200, 339, 178, 23, 65, 250, 59, 110, 147, 62, 686, 351, 215, 100, 131, 560, 374, 559, 169, 473, 58, 164, 614, 211, 129, 155, 438, 304, 116, 135, 115, 128, 128, 55, 109, 58, 83, 164, 210, 133, 91, 226, 50, 243, 113, 243, 141, 130, 65, 3, 75, 45, 177, 45, 93, 73, 82, 89, 52, 52, 32, 140, 113, 1201, 1145, 107, 27, 101, 160, 197, 70, 88, 22, 265, 73, 211, 165, 190, 83, 51, 386, 135, 273, 87, 240, 47, 23, 84, 18, 59, 44, 28, 30, 39, 17, 74, 68, 65, 52, 78, 28, 63, 19, 21, 77, 137, 537, 57, 144, 13, 10, 108, 49, 1, 29, 24, 156, 56, 34, 16, 25, 38, 45, 74, 8, 2, 131, 32, 14, 90, 122, 5, 97, 31, 80, 51, 38, 102, 92, 54, 44, 78, 66, 54, 25, 74, 79, 104, 38, 17, 75, 52, 38, 58, 12, 4, 28, 4, 51, 18, 45, 14, 54, 65, 73, 43, 28, 22, 39, 62, 20, 17, 49, 62, 43, 30, 28, 49, 67, 20, 81, 58, 13, 47, 7, 62, 84, 23, 19, 13, 8, 35, 37, 73, 114, 69, 43, 106, 69, 65, 52, 79, 49, 31, 7, 6, 7, 5, 18, 32, 33, 97, 102, 38, 16, 3, 27, 78, 29, 66, 78, 57, 19, 82, 5, 52, 45, 41, 55, 40, 48, 53, 5, 0, 74, 7, 96, 43, 13, 28, 34, 83, 7, 34, 97, 24, 106, 131, 132, 79, 71, 55, 51, 46, 5, 52, 18, 207, 105, 30, 32, 44, 100, 58, 22, 26, 45, 21, 75, 21, 72, 50, 26, 46, 80, 41, 69, 3, 21, 64, 60, 25, 48, 45, 2, 7, 61, 16, 27, 42, 65, 44, 55, 59, 51, 41, 12, 57, 55, 76, 103, 46, 74, 25, 34, 50, 47, 64, 40, 58, 67, 50, 53, 67, 90, 60, 30, 52, 5, 56, 26, 71, 53, 35, 31, 45, 20, 3, 48, 18, 56, 64, 63, 40, 92, 53, 33, 84, 87, 26, 22, 78, 67, 26, 14, 18, 24, 27, 30, 34, 26, 38, 55, 80, 33, 44, 41, 30, 34, 30, 38, 24, 37, 18, 55, 54, 67, 94, 41, 36, 65, 90, 42, 48, 45, 47, 31, 105, 48, 37, 5, 11, 27, 2, 43, 46, 53, 10, 22, 12, 50, 47, 14, 1, 25, 16, 46, 76, 16, 40, 83, 89, 30, 12, 52, 58, 22, 6, 30, 58, 32, 48, 43, 30, 41, 42, 59, 17, 47, 14, 12, 30, 25, 0, 4, 3, 5, 2, 11, 38, 13, 19, 15, 21, 42, 12, 19, 24, 32, 15, 22, 33, 11, 47, 41, 29, 48, 13, 32, 42, 26, 67, 23, 33, 25, 22, 26, 38, 50, 29, 26, 25, 15, 18, 28, 14, 20, 17, 34, 17, 40, 21, 14, 43, 27, 35, 24, 30, 21, 41, 15, 27, 22, 36, 10, 24, 19, 63, 47, 57, 14, 35, 12, 15, 31, 45, 35, 38, 26, 35, 53, 26, 16, 28, 16, 26, 26, 27, 33, 27, 37, 23, 13, 17, 30, 18, 30, 26, 16, 47, 16, 13, 32, 21, 24, 22, 14, 24, 24, 18, 14, 17, 14, 16, 15, 11, 15, 15, 16, 14, 17, 0, 32, 29, 19, 49, 62, 9, 33, 40, 46, 31, 15, 40, 20, 32, 34, 14, 16, 5, 21, 18, 14, 23, 20, 24, 24, 19, 4, 35, 15, 16, 20, 15, 23, 18, 16, 17, 15, 27, 25, 24, 14, 22, 15, 34, 14, 18, 13, 14, 30, 30, 18, 24, 21, 8, 23, 27, 9, 12, 22, 18, 17, 18, 16, 16, 13, 19, 2, 17, 14, 2, 13, 1, 18, 23, 17, 17, 14, 1, 10, 13, 35, 4, 15, 11, 8, 11, 22, 10, 11, 14, 21, 26, 25, 10, 11, 22, 11, 14, 33, 19, 27, 20, 27, 19, 10, 27, 87, 24, 16, 12, 16, 21, 28, 20, 15, 36, 23, 31, 19, 16, 30, 22, 14, 11, 21, 30, 37, 10, 21, 15, 19, 14, 14, 12, 14, 16, 16, 20, 30, 14, 35, 21, 20, 22, 32, 12, 11, 12, 12, 16, 21, 14, 16, 14, 22, 18, 25, 22, 9, 16, 16, 25, 12, 18, 19, 25, 23, 14, 24, 36, 22, 28, 15, 22, 21, 32, 19, 12, 12, 22, 17, 13, 24, 16, 19, 31, 11, 21, 17, 23, 17, 23, 16, 22, 14, 25, 19, 11, 21, 12, 12, 12, 36, 12, 11, 38, 37, 49, 11, 10, 9, 13, 18, 15, 14, 21, 14, 16, 12, 12, 23, 35, 18, 12, 25, 19, 13, 14, 36, 37, 16, 25, 28, 26, 32, 35, 26, 21, 34, 10, 20, 25, 39, 17, 26, 17, 38, 18, 24, 45, 15, 12, 20, 37, 12, 26, 18, 10, 12, 16, 25, 9, 13, 13, 15, 12, 14, 21, 21, 28, 14, 19, 13, 15, 23, 31, 14, 5, 21, 15, 23, 16, 22, 15, 23, 27, 20, 18, 30, 16, 14, 18, 26, 19, 14, 20, 20, 15, 15, 13, 21, 31, 26, 27, 21, 21, 24, 17, 18, 13, 14, 25, 10, 12, 26, 24, 16, 25, 18, 17, 24, 13, 20, 21, 21, 13, 16, 14, 16, 19, 18, 20, 19, 19, 9, 21, 29, 14, 20, 27, 21, 12, 23, 22, 29, 26, 23, 16, 22, 18, 39, 25, 15, 20, 24, 30, 18, 22, 18, 22, 17, 19, 15, 36, 18, 9, 25, 22, 17, 10, 13, 33, 14, 10, 14, 15, 18, 14, 32, 14, 13, 12, 15, 14, 23, 18, 21, 15, 13, 13, 18, 18, 12, 12, 19, 29, 12, 13, 12, 19, 22, 38, 17, 37, 28, 22, 28, 19, 33, 18, 16, 32, 30, 20, 16, 36, 30, 22, 34, 19, 15, 12, 23, 13, 17, 30, 32, 12, 32, 23, 34, 62, 18, 10, 16, 23, 14, 20, 25, 19, 17, 15, 25, 18, 13, 19, 29, 13, 25, 21, 48, 22, 20, 14, 31, 12, 24, 10, 21, 18, 14, 15, 13, 12, 13, 19, 12, 14, 14, 15, 5, 19, 182, 56, 8, 91, 72, 12, 177, 5, 560, 42, 30, 32, 27, 3, 14, 54, 152, 89, 4, 75, 119, 12, 149, 169, 9, 40, 19, 213, 8, 89, 5, 17, 170, 342, 44, 21, 54, 10, 13, 193, 453, 77, 15, 2, 90, 55, 15, 44, 19, 113, 5, 319, 12, 10, 55, 69, 10, 54, 44, 35, 68, 49, 74, 65, 57, 27, 47, 7, 68, 19, 32, 28, 16, 6, 12, 9, 78, 5, 5, 179, 299, 8, 64, 52, 21, 15, 232, 7, 23, 16, 240, 83, 15, 237, 113, 173, 10, 87, 79, 18, 61, 316, 41, 79, 19, 130, 24, 274, 8, 392, 49, 6, 19, 12, 58, 20, 89, 7, 20, 9, 72, 8, 2, 17, 111, 7, 71, 68, 66, 17, 11, 8, 8, 70, 2, 61, 142, 6, 139, 40, 8, 51, 86, 7, 7, 193, 7, 150, 19, 501, 3, 89, 138, 138, 2, 9, 74, 3, 18, 262, 6, 9, 10, 281, 5, 82, 69, 29, 10, 5, 3, 9, 140, 19, 4, 14, 55, 44, 3, 14, 52, 8, 62, 27, 70, 62, 5, 8, 169, 20, 182, 117, 8, 206, 112, 45, 61, 12, 180, 10, 114, 5, 3, 7, 586, 85, 25, 280, 11, 5, 9, 13, 11, 11, 7, 65, 503, 7, 14, 159, 7, 23, 328, 11, 7, 360, 8, 18, 59, 35, 9, 10, 110, 41, 402, 10, 10, 464, 11, 1480, 70, 104, 136, 194, 625, 50, 51, 49, 77, 53, 118, 11, 6, 81, 8, 876, 76, 14, 11, 35, 22, 208, 14, 14, 288, 7, 12, 670, 22, 191, 36, 66, 8, 4, 22, 286, 407, 16, 66, 8, 44, 16, 378, 84, 15, 22, 207, 3, 6, 20, 11, 17, 6, 27, 45, 220, 294, 11, 8, 14, 53, 40, 5, 9, 14, 9, 11, 112, 49, 10, 16, 143, 12, 74, 26, 9, 11, 18, 10, 4, 94, 6, 10, 295, 12, 132, 11, 11, 20, 296, 85, 13, 72, 111, 174, 14, 121, 40, 493, 1011, 12, 27, 4, 189, 41, 218, 9, 134, 12, 8, 154, 6, 36, 81, 15, 13, 212, 6, 52, 79, 25, 11, 14, 205, 1220, 11, 41, 99, 36, 37, 19, 60, 26, 44, 83, 6, 5, 7, 43, 225, 4, 16, 85, 45, 44, 23, 29, 14, 59, 90, 309, 168, 14, 93, 98, 14, 16, 295, 11, 10, 19, 830, 21, 17, 78, 12, 252, 345, 186, 10, 1744, 154, 21, 172, 5, 102, 27, 8, 7, 78, 128, 10, 42, 313, 138, 11, 8, 36, 6, 32, 11, 105, 92, 146, 63, 111, 349, 204, 60, 9, 88, 1242, 101, 7, 72, 936, 25, 207, 6, 352, 8, 10, 161, 257, 94, 104, 195, 232, 16, 89, 12, 140, 8, 364, 17, 72, 25, 11, 259, 604, 216, 185, 5, 160, 121, 10, 9, 111, 19, 142, 0, 191, 65, 5, 12, 222, 11, 35, 122, 5, 4, 148, 24, 197, 13, 50, 14, 263, 49, 54, 22, 223, 12, 169, 15, 79, 17, 9, 85, 238, 83, 17, 35, 357, 17, 230, 66, 398, 154, 219, 25, 172, 7, 24, 478, 10, 8, 150, 498, 120, 98, 152, 162, 211, 92, 6, 32, 17, 184, 174, 11, 20, 275, 5, 24, 482, 185, 60, 16, 48, 2, 256, 13, 6, 22, 9, 3, 10, 306, 7, 22, 252, 10, 2, 8, 79, 92, 2, 32, 258, 98, 84, 9, 247, 15, 15, 134, 129, 3, 13, 14, 193, 9, 254, 225, 10, 9, 313, 8, 337, 9, 326, 10, 65, 60, 215, 9, 10, 223, 15, 53, 37, 95, 10, 211, 7, 17, 276, 11, 516, 150, 21, 10, 528, 406, 10, 251, 109, 17, 258, 90, 12, 18, 269, 5, 7, 89, 252, 45, 15, 57, 67, 15, 62, 23, 60, 11, 102, 35, 25, 18, 18, 8, 76, 10, 44, 82, 33, 112, 212, 12, 16, 52, 6, 162, 16, 578, 5, 207, 19, 340, 62, 75, 241, 12, 49, 12, 455, 345, 74, 13, 51, 29, 11, 3, 10, 176, 5, 9, 63, 17, 62, 17, 12, 12, 148, 315, 17, 11, 284, 48, 212, 4, 11, 395, 179, 114, 444, 11, 10, 11, 393, 44, 44, 92, 20, 144, 32, 27, 93, 14, 318, 4, 376, 276, 148, 127, 16, 424, 376, 18, 241, 91, 76, 48, 12, 6, 34, 6, 164, 96, 12, 378, 13, 6, 137, 167, 39, 10, 10, 30, 7, 140, 10, 78, 194, 241, 11, 190, 3, 86, 119, 260, 9, 214, 213, 147, 8, 40, 41, 74, 27, 235, 87, 9, 174, 40, 333, 10, 57, 190, 6, 234, 118, 46, 18, 18, 36, 11, 25, 8, 17, 8, 14, 11, 10, 16, 45, 71, 193, 8, 191, 100, 5, 21, 5, 217, 17, 53, 5, 242, 63, 189, 6, 8, 174, 4, 110, 216, 132, 94, 10, 8, 72, 5, 284, 7, 110, 35, 15, 6, 58, 48, 25, 6, 218, 403, 65, 12, 4, 56, 45, 6, 224, 8, 38, 179, 196, 48, 5, 66, 162, 28, 28, 9, 81, 167, 12, 239, 163, 187, 214, 7, 24, 20, 19, 33, 21, 118, 5, 453, 351, 60, 5, 310, 51, 308, 50, 6, 214, 8, 554, 8, 3, 72, 225, 235, 224, 215, 6, 8, 312, 6, 234, 7, 259, 26, 280, 14, 204, 150, 11, 267, 580, 13, 240, 183, 5, 289, 10, 3, 263, 214, 11, 31, 7, 221, 91, 57, 3, 7, 93, 9, 222, 517, 11, 184, 14, 168, 71, 5, 209, 69, 52, 158, 7, 38, 128, 4, 172, 211, 195, 57, 12, 37, 69, 33, 20, 8, 20, 12, 181, 392, 35, 18, 14, 11, 8, 13, 68, 53, 191, 230, 16, 29, 80, 31, 10, 172, 387, 53, 235, 83, 38, 40, 296, 92, 25, 32, 197, 62, 75, 91, 75, 137, 92, 320, 249, 381, 159, 24, 89, 106, 135, 18, 30, 67, 73, 26, 7, 107, 22, 112, 83, 39, 12, 94, 61, 118, 133, 34, 123, 10, 3, 15, 5, 82, 53, 51, 21, 9, 12, 107, 47, 40, 43, 18, 60, 13, 45, 19, 12, 19, 11, 23, 10, 10, 2, 1, 17, 25, 20, 32, 29, 12, 3, 3, 53, 12, 0, 2, 1, 3, 2, 1, 0, 2, 0, 2, 29, 23, 1, 3, 2, 11, 8, 5, 43, 31, 3, 20, 22, 20, 4, 44, 3, 20, 34, 26, 12, 0, 24, 3, 44, 64, 3, 3, 17, 61, 20, 6, 333, 6, 2, 2, 4, 12, 7, 2, 4, 0, 5, 0, 2, 8, 2, 7, 5, 5, 0, 1, 0, 0, 4, 1, 2, 5, 3, 1, 2, 601, 4, 12, 8, 0, 2, 1, 7, 1, 1, 15, 10, 3, 5, 4, 0, 0, 3, 3, 3, 1, 3, 4, 1, 23, 3, 2, 4, 1, 0, 1, 3, 1, 1, 13, 0, 11, 4, 3, 1, 1, 2, 5, 10, 1, 1, 6, 0, 0, 2, 10, 1, 2, 2, 6, 1, 1, 1, 6, 2, 1, 2, 4, 2, 1, 1, 1, 2, 0, 133, 0, 2, 4, 1, 2, 2, 0, 2, 3, 1, 3, 2, 1, 3, 3, 3, 2, 1, 0, 2, 2, 0, 1, 2, 2, 3, 1, 2, 5, 4, 515, 768, 362, 220, 981, 309, 220, 901, 616, 151, 210, 845, 1775, 865, 182, 597, 234, 695, 323, 549, 647, 386, 248, 827, 606, 523, 243, 746, 350, 680, 420, 2344, 250, 240, 597, 612, 191, 584, 866, 554, 548, 694, 209, 213, 648, 820, 280, 248, 445, 267, 624, 683, 260, 562, 286, 545, 733, 450, 1367, 420, 278, 277, 335, 291, 174, 348, 356, 415, 134, 123, 246, 157, 171, 260, 148, 211, 770, 303, 237, 627, 188, 281, 341, 176, 301, 391, 209, 285, 278, 211, 179, 54, 367, 383, 382, 862, 136, 78, 123, 302, 123, 115, 92, 348, 114, 90, 158, 326, 159, 71, 241, 50, 117, 144, 414, 108, 183, 104, 97, 158, 82, 306, 87, 147, 66, 120, 165, 2, 16, 9, 100, 123, 24, 27, 127, 19, 22, 120, 154, 41, 198, 73, 124, 174, 7, 103, 143, 148, 319, 138, 23, 167, 63, 107, 113, 68, 21, 122, 77, 101, 20, 110, 43, 161, 44, 25, 80, 31, 108, 104, 34, 28, 13, 86, 497, 15, 35, 5, 5, 2, 25, 0, 1, 4, 0, 2, 1, 2, 0, 4, 0, 0, 0, 0, 1, 0, 0, 1, 3, 0, 0, 0, 4, 2, 9, 2, 2, 1, 0, 2, 0, 1, 1, 3, 0, 1, 0, 0, 0, 0, 0, 0, 1, 0, 1, 1, 3, 0, 1, 1, 0, 3, 5, 2, 4, 0, 0, 1, 2, 2, 0, 3, 2, 0, 3, 3, 2, 1, 2, 1, 1, 2, 4, 2, 5, 4, 0, 1, 12, 6, 12, 1, 12, 11, 10, 4, 0, 2, 0, 0, 1, 0, 1, 0, 0, 0, 4, 1, 0, 0, 0, 0, 2, 2, 1, 0, 0, 3, 0, 1, 2, 0, 0, 0, 1, 3, 1, 4, 3, 1, 1, 0, 2, 0, 2, 54, 1, 27, 0, 0, 3, 4, 7, 3, 0, 1, 2, 5, 4, 1, 1, 5, 5, 0, 4, 3, 7, 4, 3, 1, 1, 0, 1, 2, 4, 3, 3, 2, 3, 2, 1, 1, 2, 10, 3, 6, 1, 2, 0, 2, 0, 1, 7, 0, 3, 1, 1, 1, 3, 0, 1, 4, 3, 2, 4, 0, 4, 0, 0, 9, 5, 3, 7, 2, 4, 5, 3, 5, 8, 2, 3, 2, 4, 3, 4, 6, 3, 1, 5, 4, 2, 0, 0, 7, 2, 9, 3, 4, 1, 2, 0, 3, 0, 2, 5, 1, 2, 0, 5, 1, 11, 3, 10, 78, 3, 1, 1, 2, 1, 0, 7, 1, 1, 3, 5, 5, 1, 5, 4, 8, 3, 5, 43, 27, 3, 3, 1, 89, 8, 161, 1, 4, 2, 3, 1, 0, 0, 3, 94, 7, 10, 35, 2, 0, 117, 4, 15, 109, 2, 3, 3, 47, 1, 2, 5, 58, 3, 5, 72, 3, 0, 0, 0, 3, 1, 82, 1, 2, 1, 73, 5, 87, 2, 186, 2, 0, 3, 1, 1, 1, 2, 103, 5, 15, 4, 3, 4, 1, 3, 3, 1, 7, 2, 1, 2, 1, 3, 8, 3, 3, 0, 5, 0, 2, 3, 2, 3, 2, 4, 2, 2, 8, 2, 3, 2, 1, 3, 3, 3, 3, 6, 4, 7, 7, 2, 2, 0, 7, 0, 5, 2, 8, 0, 0, 4, 14, 10, 9, 1, 2, 6, 0, 8, 6, 4, 1, 0, 0, 0, 2, 0, 12, 4, 3, 1, 1, 5, 0, 5, 0, 6, 6, 3, 5, 0, 2, 7, 2, 5, 3, 5, 0, 1, 1, 13, 8, 75, 3, 3, 84, 1, 3, 92, 1, 5, 8, 145, 2, 4, 2, 5, 259, 8, 3, 135, 81, 78, 2, 1, 3, 4, 2, 221, 0, 0, 0, 1, 0, 0, 1, 86, 10, 1, 3, 52, 2, 1, 180, 2, 0, 116, 788, 1265, 16, 894, 975, 909, 335, 658, 764, 960, 1028, 978, 1344, 1041, 855, 355, 657, 931, 1001, 1166, 1026, 1154, 785, 1061, 1097, 1048, 1156, 1063, 1387, 1057, 1009, 1182, 1139, 1306, 1450, 976, 1737, 1035, 561, 980, 1155, 1300, 257, 1019, 422, 998, 1111, 1078, 1227, 1032, 1006, 1071, 834, 346, 1001, 1035, 1206, 1181, 281, 1013, 1460, 815, 249, 1017, 1139, 1330, 854, 391, 969, 807, 1068, 1082, 721, 952, 307, 1309, 513, 880, 238, 865, 1042, 1513, 383, 330, 1739, 450, 1348, 1591, 695, 349, 825, 150, 1117, 1197, 173, 1437, 339, 667, 236, 1043, 369, 840, 651, 96, 253, 816, 183, 1376, 361, 892, 1766, 147, 1075, 570, 379, 363, 947, 342, 947, 253, 625, 362, 1120, 1136, 170, 125, 1224, 1521, 649, 355, 1467, 1365, 200, 1643, 1468, 844, 136, 65, 100, 202, 138, 995, 170, 100, 1380, 250, 765, 658, 231, 391, 415, 230, 137, 144, 236, 401, 222, 81, 1409, 158, 227, 113, 1512, 651, 315, 1262, 2058, 1645, 271, 906, 320, 1464, 281, 300, 478, 327, 119, 275, 209, 68, 50, 98, 1753, 626, 1463, 186, 594, 737, 572, 679, 1876, 1270, 916, 1374, 324, 664, 637, 2293, 755, 806, 2092, 1125, 1106, 553, 588, 996, 1274, 496, 914, 481, 605, 417, 217, 143, 79, 111, 283, 580, 377, 279, 317, 129, 366, 132, 502, 390, 418, 256, 329, 436, 336, 137, 114, 94, 131, 86, 120, 120, 233, 125, 78, 113, 92, 117, 58, 21, 46, 161, 42, 36, 136, 128, 2, 27, 48, 2, 9, 19, 32, 24, 31, 25, 18, 33, 95, 16, 40, 38, 20, 80, 29, 22, 13, 29, 109, 12, 12, 9, 11, 8, 23, 16, 13, 19, 26, 27, 14, 64, 98, 20, 19, 19, 10, 9, 15, 31, 23, 49, 151, 25, 18, 26, 29, 59, 19, 35, 14, 23, 45, 27, 17, 14, 12, 32, 37, 73, 40, 19, 20, 49, 19, 46, 26, 14, 55, 108, 9, 26, 11, 18, 12, 35, 14, 63, 101, 27, 24, 33, 16, 58, 33, 39, 11, 16, 63, 6, 111, 31, 40, 22, 24, 25, 36, 83, 24, 14, 52, 26, 36, 10, 15, 16, 15, 31, 124, 1, 37, 36, 26, 32, 16, 19, 18, 51, 4, 83, 38, 29, 32, 22, 13, 24, 64, 26, 23, 23, 19, 11, 3, 26, 52, 40, 17, 31, 12, 46, 20, 13, 29, 35, 58, 121, 24, 21, 15, 38, 98, 17, 32, 25, 63, 42, 22, 24, 12, 60, 115, 22, 34, 22, 33, 13, 26, 13, 18, 24, 18, 8, 13, 27, 20, 18, 10, 61, 134, 25, 28, 19, 20, 15, 9, 21, 12, 15, 51, 135, 17, 17, 16, 15, 31, 20, 11, 33, 18, 14, 18, 42, 57, 144, 28, 26, 11, 13, 41, 14, 23, 10, 49, 102, 16, 9, 18, 2, 10, 16, 10, 34, 20, 6, 33, 24, 39, 38, 24, 63, 118, 19, 37, 7, 20, 17, 22, 23, 79, 121, 46, 27, 15, 33, 48, 10, 150, 14, 11, 27, 11, 26, 12, 10, 7, 31, 95, 14, 24, 6, 35, 28, 13, 11, 12, 17, 52, 130, 24, 7, 19, 24, 17, 13, 12, 33, 30, 25, 20, 16, 54, 132, 17, 14, 18, 28, 63, 117, 23, 12, 56, 26, 15, 19, 41, 11, 18, 29, 7, 19, 39, 25, 41, 17, 20, 9, 10, 17, 11, 18, 23, 9, 19, 25, 19, 18, 48, 9, 134, 15, 16, 9, 14, 30, 21, 15, 28, 11, 9, 30, 55, 2, 186, 29, 23, 23, 24, 13, 8, 20, 53, 6, 7, 168, 15, 15, 9, 13, 16, 78, 29, 25, 14, 22, 42, 123, 33, 30, 21, 14, 47, 166, 8, 7, 8, 14, 22, 14, 15, 14, 19, 37, 12, 12, 11, 30, 15, 13, 26, 10, 96, 9, 72, 62, 50, 24, 14, 93, 24, 63, 18, 30, 103, 66, 71, 149, 24, 35, 18, 85, 11, 0, 9, 116, 57, 9, 25, 106, 28, 86, 91, 19, 43, 116, 78, 113, 36, 27, 71, 63, 22, 10, 11, 91, 28, 50, 43, 112, 73, 20, 18, 25, 90, 28, 28, 101, 81, 80, 76, 102, 25, 61, 57, 85, 46, 125, 29, 91, 29, 16, 136, 119, 98, 22, 74, 20, 164, 42, 20, 85, 19, 158, 209, 51, 168, 86, 29, 88, 115, 61, 24, 123, 39, 40, 146, 209, 22, 163, 198, 143, 123, 141, 57, 113, 15, 14, 90, 173, 17, 112, 105, 107, 198, 7, 10, 103, 110, 44, 86, 104, 142, 35, 21, 25, 197, 13, 123, 88, 53, 111, 76, 43, 110, 17, 98, 20, 61, 29, 91, 16, 107, 6, 21, 96, 36, 17, 125, 29, 106, 107, 37, 162, 145, 18, 155, 38, 94, 19, 87, 77, 119, 15, 104, 6, 82, 14, 26, 20, 55, 114, 18, 107, 109, 105, 81, 112, 116, 114, 116, 18, 125, 29, 117, 23, 7, 68, 15, 95, 17, 7, 87, 119, 6, 22, 73, 26, 107, 10, 13, 132, 29, 92, 106, 93, 98, 12, 133, 141, 23, 27, 124, 132, 48, 142, 13, 146, 15, 89, 68, 30, 128, 92, 84, 122, 25, 22, 19, 84, 99, 14, 27, 177, 122, 22, 32, 98, 21, 86, 38, 111, 155, 115, 21, 110, 116, 137, 46, 123, 121, 41, 127, 24, 133, 71, 130, 5, 19, 103, 13, 126, 160, 28, 25, 96, 117, 111, 115, 46, 84, 18, 98, 79, 14, 68, 77, 54, 101, 11, 55, 7, 5, 18, 142, 41, 95, 29, 30, 43, 100, 14, 30, 105, 13, 109, 38, 108, 113, 35, 19, 35, 89, 109, 116, 34, 29, 83, 21, 41, 158, 155, 18, 4, 100, 24, 76, 131, 44, 29, 29, 140, 15, 38, 124, 9, 58, 106, 21, 52, 18, 71, 161, 12, 13, 85, 7, 38, 14, 92, 168, 37, 158, 19, 29, 61, 119, 32, 150, 70, 125, 8, 81, 39, 84, 100, 50, 23, 25, 137, 16, 25, 19, 92, 36, 10, 69, 93, 32, 149, 94, 120, 119, 551, 112, 169, 148, 9, 78, 27, 475, 123, 7, 248, 126, 97, 126, 128, 80, 37, 95, 106, 98, 45, 154, 27, 125, 22, 8, 136, 171, 25, 29, 17, 45, 190, 203, 23, 166, 40, 176, 11, 143, 140, 13, 163, 11, 237, 10, 182, 91, 8, 143, 177, 13, 181, 170, 106, 13, 145, 174, 21, 216, 12, 26, 21, 131, 149, 33, 202, 23, 60, 100, 180, 48, 40, 163, 31, 16, 161, 146, 21, 26, 114, 185, 29, 139, 13, 168, 175, 17, 162, 18, 9, 32, 160, 136, 21, 164, 27, 12, 112, 23, 80, 131, 256, 15, 188, 29, 27, 164, 7, 207, 17, 51, 196, 18, 6, 140, 8, 165, 167, 15, 13, 19, 214, 168, 9, 18, 203, 177, 18, 11, 7, 202, 21, 9, 21, 22, 21, 26, 47, 161, 23, 16, 4, 11, 39, 134, 28, 11, 5, 8, 12, 134, 21, 12, 12, 45, 206, 16, 17, 13, 199, 12, 2, 2, 12, 9, 17, 153, 16, 6, 15, 7, 10, 7, 1, 8, 7, 29, 134, 10, 6, 2, 28, 35, 22, 111, 11, 18, 19, 33, 13, 11, 11, 108, 4, 7, 36, 53, 171, 136, 7, 18, 234, 8, 11, 19, 126, 29, 8, 114, 14, 19, 31, 48, 110, 10, 4, 16, 27, 58, 139, 21, 3, 46, 116, 1, 11, 41, 128, 10, 11, 75, 17, 20, 28, 50, 6, 170, 12, 13, 27, 7, 193, 37, 9, 160, 5, 17, 246, 7, 9, 14, 16, 25, 23, 252, 15, 23, 17, 55, 168, 18, 18, 37, 18, 22, 61, 54, 329, 11, 20, 12, 16, 207, 10, 29, 43, 43, 245, 51, 16, 80, 40, 22, 16, 269, 16, 23, 20, 15, 14, 164, 30, 10, 32, 37, 45, 8, 22, 175, 18, 161, 29, 158, 108, 19, 35, 41, 26, 176, 22, 29, 40, 195, 12, 15, 19, 149, 26, 22, 46, 54, 201, 13, 38, 155, 13, 11, 13, 127, 7, 23, 23, 35, 8, 146, 35, 11, 66, 22, 34, 140, 44, 18, 14, 12, 0, 91, 22, 32, 41, 143, 17, 19, 33, 201, 9, 43, 230, 38, 40, 131, 17, 23, 7, 99, 23, 17, 28, 50, 79, 114, 24, 29, 84, 134, 14, 126, 13, 49, 147, 46, 106, 30, 32, 168, 120, 11, 9, 57, 9, 11, 27, 8, 155, 35, 25, 182, 36, 153, 28, 43, 233, 34, 22, 42, 353, 78, 19, 213, 27, 108, 40, 14, 37, 186, 14, 2, 4, 70, 7, 9, 266, 22, 102, 26, 15, 167, 59, 18, 5, 200, 17, 15, 162, 17, 109, 18, 10, 100, 34, 216, 19, 18, 25, 142, 24, 17, 123, 7, 17, 134, 25, 28, 156, 11, 17, 16, 23, 168, 17, 18, 23, 212, 14, 125, 29, 17, 24, 50, 183, 34, 9, 44, 23, 206, 19, 19, 18, 30, 24, 36, 248, 9, 25, 45, 238, 30, 15, 23, 17, 183, 33, 112, 17, 17, 17, 150, 36, 160, 68, 10, 13, 35, 161, 16, 27, 34, 39, 30, 255, 13, 20, 9, 156, 188, 19, 163, 10, 13, 40, 233, 127, 27, 38, 24, 283, 12, 8, 25, 106, 3, 15, 197, 23, 3, 10, 143, 5, 10, 172, 16, 20, 178, 14, 13, 168, 25, 8, 20, 108, 14, 21, 23, 115, 13, 11, 41, 81, 9, 31, 107, 29, 157, 10, 122, 21, 14, 16, 13, 91, 8, 155, 12, 33, 226, 25, 181, 19, 20, 122, 25, 16, 49, 235, 22, 14, 14, 127, 26, 205, 19, 12, 33, 10, 91, 5, 32, 320, 10, 136, 114, 29, 172, 19, 163, 23, 17, 82, 21, 30, 229, 3, 154, 24, 24, 201, 12, 5, 9, 117, 20, 12, 120, 98, 10, 13, 13, 125, 19, 30, 149, 32, 6, 15, 9, 0, 134, 18, 111, 126, 33, 18, 180, 14, 12, 13, 116, 23, 7, 9, 24, 191, 77, 9, 6, 7, 22, 185, 14, 6, 137, 13, 22, 22, 213, 11, 23, 288, 165, 10, 139, 21, 11, 28, 14, 269, 31, 17, 4, 89, 27, 269, 89, 13, 354, 249, 1685, 197, 285, 110, 352, 109, 127, 480, 216, 676, 1607, 770, 1390, 810, 288, 1908, 1710, 1632, 233, 347, 2605, 280, 1249, 834, 1969, 4241, 4054, 90, 107, 791, 499, 2483, 228, 1226, 71, 858, 79, 599, 2392, 80, 484, 145, 535, 1133, 867, 108, 172, 1961, 962, 354, 249, 1685, 197, 285, 110, 352, 109, 127, 480, 216, 676, 1607, 770, 1390, 810, 288, 1908, 1710, 1632, 233, 347, 2605, 280, 1249, 834, 1969, 4241, 4054, 90, 107, 791, 499, 2483, 228, 1226, 71, 858, 79, 599, 2392, 80, 484, 145, 535, 1133, 867, 108, 172, 1961, 962, 1917, 118, 3, 3, 149, 113, 60, 82, 5, 81, 84, 32, 29, 18, 89, 307, 139, 119, 8, 190, 48, 39, 43, 205, 1171, 1225, 6, 116, 127, 34, 51, 106, 114, 114, 39, 165, 204, 22, 70, 182, 157, 61, 48, 45, 227, 336, 75, 35, 40, 142, 152, 37, 72, 12, 89, 207, 152, 19, 127, 125, 29, 22, 31, 138, 95, 146, 33, 12, 62, 212, 108, 33, 45, 117, 35, 24, 47, 114, 217, 91, 123, 87, 47, 55, 46, 15, 20, 16, 366, 57, 40, 34, 58, 88, 52, 103, 15, 197, 103, 140, 101, 17, 41, 14, 48, 57, 30, 76, 198, 29, 221, 63, 4, 189, 128, 34, 184, 165, 31, 26, 80, 89, 62, 40, 11, 166, 188, 43, 39, 8, 239, 84, 147, 71, 193, 66, 42, 9, 101, 197, 187, 116, 230, 57, 9, 295, 96, 136, 90, 42, 22, 24, 31, 6, 267, 78, 32, 159, 150, 49, 25, 256, 35, 104, 67, 248, 57, 77, 39, 98, 37, 8, 60, 26, 94, 101, 336, 102, 7, 1, 169, 46, 16, 91, 131, 255, 128, 21, 107, 92, 71, 88, 221, 81, 14, 71, 98, 33, 144, 68, 33, 62, 341, 110, 18, 87, 216, 19, 70, 32, 251, 27, 44, 100, 119, 62, 37, 59, 58, 122, 27, 119, 6, 5, 18, 19, 20, 13, 56, 24, 30, 242, 30, 133, 49, 48, 78, 82, 27, 60, 76, 37, 44, 30, 57, 72, 103, 108, 24, 30, 231, 865, 28, 38, 37, 47, 66, 45, 26, 18, 41, 42, 38, 10, 19, 6, 10, 18, 14, 3, 10, 32, 40, 36, 29, 22, 19, 42, 28, 113, 56, 161, 147, 59, 5, 45, 41, 83, 22, 204, 131, 49, 45, 14, 122, 50, 82, 45, 59, 16, 31, 64, 14, 70, 51, 54, 109, 50, 61, 40, 35, 29, 28, 19, 3, 39, 25, 28, 10, 12, 55, 35, 86, 67, 24, 20, 22, 35, 18, 45, 104, 59, 55, 63, 37, 49, 70, 137, 117, 41, 52, 361, 62, 245, 224, 106, 66, 102, 115, 61, 181, 48, 69, 177, 107, 298, 85, 59, 51, 23, 50, 42, 45, 175, 14, 50, 137, 116, 106, 161, 26, 31, 74, 187, 268, 47, 108, 53, 129, 47, 39, 509, 90, 237, 41, 84, 83, 256, 23, 80, 28, 49, 76, 280, 27, 66, 162, 79, 182, 97, 205, 376, 92, 232, 348, 264, 325, 63, 79, 339, 251, 109, 46, 72, 133, 28, 61, 21, 27, 15, 62, 191, 46, 49, 152, 116, 345, 79, 356, 243, 67, 71, 399, 228, 296, 206, 194, 115, 102, 79, 99, 143, 76, 160, 59, 254, 268, 125, 109, 320, 392, 301, 49, 119, 120, 260, 63, 280, 382, 181, 107, 111, 48, 122, 186, 365, 253, 122, 68, 42, 52, 27, 93, 215, 60, 197, 130, 265, 324, 92, 213, 102, 241, 291, 59, 525, 452, 330, 61, 79, 540, 96, 253, 231, 66, 316, 290, 307, 361, 316, 118, 94, 50, 362, 142, 63, 95, 78, 64, 101, 118, 85, 46, 209, 365, 440, 227, 173, 370, 180, 167, 86, 70, 64, 540, 269, 152, 468, 369, 314, 56, 13, 14, 15, 296, 95, 415, 228, 457, 100, 235, 98, 432, 116, 84, 282, 155, 278, 41, 61, 293, 51, 103, 238, 86, 333, 50, 127, 73, 52, 17, 79, 241, 514, 247, 131, 26, 384, 225, 20, 57, 186, 354, 113, 66, 80, 278, 36, 61, 345, 238, 191, 170, 77, 10, 11, 10, 54, 60, 340, 51, 20, 55, 356, 118, 76, 99, 168, 183, 24, 32, 219, 50, 23, 29, 25, 36, 48, 92, 36, 43, 48, 100, 69, 22, 49, 94, 22, 82, 33, 170, 22, 217, 40, 17, 28, 27, 73, 79, 73, 42, 33, 71, 30, 318, 216, 49, 17, 211, 18, 217, 79, 7, 171, 70, 49, 113, 179, 94, 16, 106, 81, 98, 35, 12, 95, 68, 184, 30, 4, 139, 63, 78, 157, 23, 153, 4, 200, 50, 19, 32, 13, 150, 24, 58, 125, 17, 156, 12, 7, 18, 28, 15, 234, 31, 24, 85, 154, 87, 37, 106, 27, 186, 43, 21, 16, 22, 13, 12, 14, 7, 10, 245, 61, 39, 209, 278, 174, 132, 4, 0, 6, 8, 160, 2, 238, 5, 8, 147, 6, 33, 6, 126, 678, 202, 39, 7, 200, 265, 953, 11, 181, 277, 63, 110, 288, 105, 117, 9, 404, 42, 6, 304, 62, 5, 211, 23, 235, 256, 69, 9, 222, 12, 11, 9, 10, 2, 11, 91, 50, 10, 8, 6, 10, 235, 14, 1, 7, 90, 7, 4, 195, 86, 89, 14, 1, 349, 17]}],\n",
              "                        {\"coloraxis\": {\"colorbar\": {\"title\": {\"text\": \"prediction\"}}, \"colorscale\": [[0.0, \"#0d0887\"], [0.1111111111111111, \"#46039f\"], [0.2222222222222222, \"#7201a8\"], [0.3333333333333333, \"#9c179e\"], [0.4444444444444444, \"#bd3786\"], [0.5555555555555556, \"#d8576b\"], [0.6666666666666666, \"#ed7953\"], [0.7777777777777778, \"#fb9f3a\"], [0.8888888888888888, \"#fdca26\"], [1.0, \"#f0f921\"]]}, \"legend\": {\"tracegroupgap\": 0}, \"scene\": {\"domain\": {\"x\": [0.0, 1.0], \"y\": [0.0, 1.0]}, \"xaxis\": {\"title\": {\"text\": \"num_comments\"}}, \"yaxis\": {\"title\": {\"text\": \"num_shares\"}}, \"zaxis\": {\"title\": {\"text\": \"num_likes\"}}}, \"template\": {\"data\": {\"bar\": [{\"error_x\": {\"color\": \"#2a3f5f\"}, \"error_y\": {\"color\": \"#2a3f5f\"}, \"marker\": {\"line\": {\"color\": \"#E5ECF6\", \"width\": 0.5}}, \"type\": \"bar\"}], \"barpolar\": [{\"marker\": {\"line\": {\"color\": \"#E5ECF6\", \"width\": 0.5}}, \"type\": \"barpolar\"}], \"carpet\": [{\"aaxis\": {\"endlinecolor\": \"#2a3f5f\", \"gridcolor\": \"white\", \"linecolor\": \"white\", \"minorgridcolor\": \"white\", \"startlinecolor\": \"#2a3f5f\"}, \"baxis\": {\"endlinecolor\": \"#2a3f5f\", \"gridcolor\": \"white\", \"linecolor\": \"white\", \"minorgridcolor\": \"white\", \"startlinecolor\": \"#2a3f5f\"}, \"type\": \"carpet\"}], \"choropleth\": [{\"colorbar\": {\"outlinewidth\": 0, \"ticks\": \"\"}, \"type\": \"choropleth\"}], \"contour\": [{\"colorbar\": {\"outlinewidth\": 0, \"ticks\": \"\"}, \"colorscale\": [[0.0, \"#0d0887\"], [0.1111111111111111, \"#46039f\"], [0.2222222222222222, \"#7201a8\"], [0.3333333333333333, \"#9c179e\"], [0.4444444444444444, \"#bd3786\"], [0.5555555555555556, \"#d8576b\"], [0.6666666666666666, \"#ed7953\"], [0.7777777777777778, \"#fb9f3a\"], [0.8888888888888888, \"#fdca26\"], [1.0, \"#f0f921\"]], \"type\": \"contour\"}], \"contourcarpet\": [{\"colorbar\": {\"outlinewidth\": 0, \"ticks\": \"\"}, \"type\": \"contourcarpet\"}], \"heatmap\": [{\"colorbar\": {\"outlinewidth\": 0, \"ticks\": \"\"}, \"colorscale\": [[0.0, \"#0d0887\"], [0.1111111111111111, \"#46039f\"], [0.2222222222222222, \"#7201a8\"], [0.3333333333333333, \"#9c179e\"], [0.4444444444444444, \"#bd3786\"], [0.5555555555555556, \"#d8576b\"], [0.6666666666666666, \"#ed7953\"], [0.7777777777777778, \"#fb9f3a\"], [0.8888888888888888, \"#fdca26\"], [1.0, \"#f0f921\"]], \"type\": \"heatmap\"}], \"heatmapgl\": [{\"colorbar\": {\"outlinewidth\": 0, \"ticks\": \"\"}, \"colorscale\": [[0.0, \"#0d0887\"], [0.1111111111111111, \"#46039f\"], [0.2222222222222222, \"#7201a8\"], [0.3333333333333333, \"#9c179e\"], [0.4444444444444444, \"#bd3786\"], [0.5555555555555556, \"#d8576b\"], [0.6666666666666666, \"#ed7953\"], [0.7777777777777778, \"#fb9f3a\"], [0.8888888888888888, \"#fdca26\"], [1.0, \"#f0f921\"]], \"type\": \"heatmapgl\"}], \"histogram\": [{\"marker\": {\"colorbar\": {\"outlinewidth\": 0, \"ticks\": \"\"}}, \"type\": \"histogram\"}], \"histogram2d\": [{\"colorbar\": {\"outlinewidth\": 0, \"ticks\": \"\"}, \"colorscale\": [[0.0, \"#0d0887\"], [0.1111111111111111, \"#46039f\"], [0.2222222222222222, \"#7201a8\"], [0.3333333333333333, \"#9c179e\"], [0.4444444444444444, \"#bd3786\"], [0.5555555555555556, \"#d8576b\"], [0.6666666666666666, \"#ed7953\"], [0.7777777777777778, \"#fb9f3a\"], [0.8888888888888888, \"#fdca26\"], [1.0, \"#f0f921\"]], \"type\": \"histogram2d\"}], \"histogram2dcontour\": [{\"colorbar\": {\"outlinewidth\": 0, \"ticks\": \"\"}, \"colorscale\": [[0.0, \"#0d0887\"], [0.1111111111111111, \"#46039f\"], [0.2222222222222222, \"#7201a8\"], [0.3333333333333333, \"#9c179e\"], [0.4444444444444444, \"#bd3786\"], [0.5555555555555556, \"#d8576b\"], [0.6666666666666666, \"#ed7953\"], [0.7777777777777778, \"#fb9f3a\"], [0.8888888888888888, \"#fdca26\"], [1.0, \"#f0f921\"]], \"type\": \"histogram2dcontour\"}], \"mesh3d\": [{\"colorbar\": {\"outlinewidth\": 0, \"ticks\": \"\"}, \"type\": \"mesh3d\"}], \"parcoords\": [{\"line\": {\"colorbar\": {\"outlinewidth\": 0, \"ticks\": \"\"}}, \"type\": \"parcoords\"}], \"pie\": [{\"automargin\": true, \"type\": \"pie\"}], \"scatter\": [{\"marker\": {\"colorbar\": {\"outlinewidth\": 0, \"ticks\": \"\"}}, \"type\": \"scatter\"}], \"scatter3d\": [{\"line\": {\"colorbar\": {\"outlinewidth\": 0, \"ticks\": \"\"}}, \"marker\": {\"colorbar\": {\"outlinewidth\": 0, \"ticks\": \"\"}}, \"type\": \"scatter3d\"}], \"scattercarpet\": [{\"marker\": {\"colorbar\": {\"outlinewidth\": 0, \"ticks\": \"\"}}, \"type\": \"scattercarpet\"}], \"scattergeo\": [{\"marker\": {\"colorbar\": {\"outlinewidth\": 0, \"ticks\": \"\"}}, \"type\": \"scattergeo\"}], \"scattergl\": [{\"marker\": {\"colorbar\": {\"outlinewidth\": 0, \"ticks\": \"\"}}, \"type\": \"scattergl\"}], \"scattermapbox\": [{\"marker\": {\"colorbar\": {\"outlinewidth\": 0, \"ticks\": \"\"}}, \"type\": \"scattermapbox\"}], \"scatterpolar\": [{\"marker\": {\"colorbar\": {\"outlinewidth\": 0, \"ticks\": \"\"}}, \"type\": \"scatterpolar\"}], \"scatterpolargl\": [{\"marker\": {\"colorbar\": {\"outlinewidth\": 0, \"ticks\": \"\"}}, \"type\": \"scatterpolargl\"}], \"scatterternary\": [{\"marker\": {\"colorbar\": {\"outlinewidth\": 0, \"ticks\": \"\"}}, \"type\": \"scatterternary\"}], \"surface\": [{\"colorbar\": {\"outlinewidth\": 0, \"ticks\": \"\"}, \"colorscale\": [[0.0, \"#0d0887\"], [0.1111111111111111, \"#46039f\"], [0.2222222222222222, \"#7201a8\"], [0.3333333333333333, \"#9c179e\"], [0.4444444444444444, \"#bd3786\"], [0.5555555555555556, \"#d8576b\"], [0.6666666666666666, \"#ed7953\"], [0.7777777777777778, \"#fb9f3a\"], [0.8888888888888888, \"#fdca26\"], [1.0, \"#f0f921\"]], \"type\": \"surface\"}], \"table\": [{\"cells\": {\"fill\": {\"color\": \"#EBF0F8\"}, \"line\": {\"color\": \"white\"}}, \"header\": {\"fill\": {\"color\": \"#C8D4E3\"}, \"line\": {\"color\": \"white\"}}, \"type\": \"table\"}]}, \"layout\": {\"annotationdefaults\": {\"arrowcolor\": \"#2a3f5f\", \"arrowhead\": 0, \"arrowwidth\": 1}, \"coloraxis\": {\"colorbar\": {\"outlinewidth\": 0, \"ticks\": \"\"}}, \"colorscale\": {\"diverging\": [[0, \"#8e0152\"], [0.1, \"#c51b7d\"], [0.2, \"#de77ae\"], [0.3, \"#f1b6da\"], [0.4, \"#fde0ef\"], [0.5, \"#f7f7f7\"], [0.6, \"#e6f5d0\"], [0.7, \"#b8e186\"], [0.8, \"#7fbc41\"], [0.9, \"#4d9221\"], [1, \"#276419\"]], \"sequential\": [[0.0, \"#0d0887\"], [0.1111111111111111, \"#46039f\"], [0.2222222222222222, \"#7201a8\"], [0.3333333333333333, \"#9c179e\"], [0.4444444444444444, \"#bd3786\"], [0.5555555555555556, \"#d8576b\"], [0.6666666666666666, \"#ed7953\"], [0.7777777777777778, \"#fb9f3a\"], [0.8888888888888888, \"#fdca26\"], [1.0, \"#f0f921\"]], \"sequentialminus\": [[0.0, \"#0d0887\"], [0.1111111111111111, \"#46039f\"], [0.2222222222222222, \"#7201a8\"], [0.3333333333333333, \"#9c179e\"], [0.4444444444444444, \"#bd3786\"], [0.5555555555555556, \"#d8576b\"], [0.6666666666666666, \"#ed7953\"], [0.7777777777777778, \"#fb9f3a\"], [0.8888888888888888, \"#fdca26\"], [1.0, \"#f0f921\"]]}, \"colorway\": [\"#636efa\", \"#EF553B\", \"#00cc96\", \"#ab63fa\", \"#FFA15A\", \"#19d3f3\", \"#FF6692\", \"#B6E880\", \"#FF97FF\", \"#FECB52\"], \"font\": {\"color\": \"#2a3f5f\"}, \"geo\": {\"bgcolor\": \"white\", \"lakecolor\": \"white\", \"landcolor\": \"#E5ECF6\", \"showlakes\": true, \"showland\": true, \"subunitcolor\": \"white\"}, \"hoverlabel\": {\"align\": \"left\"}, \"hovermode\": \"closest\", \"mapbox\": {\"style\": \"light\"}, \"paper_bgcolor\": \"white\", \"plot_bgcolor\": \"#E5ECF6\", \"polar\": {\"angularaxis\": {\"gridcolor\": \"white\", \"linecolor\": \"white\", \"ticks\": \"\"}, \"bgcolor\": \"#E5ECF6\", \"radialaxis\": {\"gridcolor\": \"white\", \"linecolor\": \"white\", \"ticks\": \"\"}}, \"scene\": {\"xaxis\": {\"backgroundcolor\": \"#E5ECF6\", \"gridcolor\": \"white\", \"gridwidth\": 2, \"linecolor\": \"white\", \"showbackground\": true, \"ticks\": \"\", \"zerolinecolor\": \"white\"}, \"yaxis\": {\"backgroundcolor\": \"#E5ECF6\", \"gridcolor\": \"white\", \"gridwidth\": 2, \"linecolor\": \"white\", \"showbackground\": true, \"ticks\": \"\", \"zerolinecolor\": \"white\"}, \"zaxis\": {\"backgroundcolor\": \"#E5ECF6\", \"gridcolor\": \"white\", \"gridwidth\": 2, \"linecolor\": \"white\", \"showbackground\": true, \"ticks\": \"\", \"zerolinecolor\": \"white\"}}, \"shapedefaults\": {\"line\": {\"color\": \"#2a3f5f\"}}, \"ternary\": {\"aaxis\": {\"gridcolor\": \"white\", \"linecolor\": \"white\", \"ticks\": \"\"}, \"baxis\": {\"gridcolor\": \"white\", \"linecolor\": \"white\", \"ticks\": \"\"}, \"bgcolor\": \"#E5ECF6\", \"caxis\": {\"gridcolor\": \"white\", \"linecolor\": \"white\", \"ticks\": \"\"}}, \"title\": {\"x\": 0.05}, \"xaxis\": {\"automargin\": true, \"gridcolor\": \"white\", \"linecolor\": \"white\", \"ticks\": \"\", \"title\": {\"standoff\": 15}, \"zerolinecolor\": \"white\", \"zerolinewidth\": 2}, \"yaxis\": {\"automargin\": true, \"gridcolor\": \"white\", \"linecolor\": \"white\", \"ticks\": \"\", \"title\": {\"standoff\": 15}, \"zerolinecolor\": \"white\", \"zerolinewidth\": 2}}}, \"title\": {\"text\": \"3D Scatter Plot\"}},\n",
              "                        {\"responsive\": true}\n",
              "                    ).then(function(){\n",
              "                            \n",
              "var gd = document.getElementById('a809238d-0e37-49bb-a9f4-3e103ddc7d84');\n",
              "var x = new MutationObserver(function (mutations, observer) {{\n",
              "        var display = window.getComputedStyle(gd).display;\n",
              "        if (!display || display === 'none') {{\n",
              "            console.log([gd, 'removed!']);\n",
              "            Plotly.purge(gd);\n",
              "            observer.disconnect();\n",
              "        }}\n",
              "}});\n",
              "\n",
              "// Listen for the removal of the full notebook cells\n",
              "var notebookContainer = gd.closest('#notebook-container');\n",
              "if (notebookContainer) {{\n",
              "    x.observe(notebookContainer, {childList: true});\n",
              "}}\n",
              "\n",
              "// Listen for the clearing of the current output cell\n",
              "var outputEl = gd.closest('.output');\n",
              "if (outputEl) {{\n",
              "    x.observe(outputEl, {childList: true});\n",
              "}}\n",
              "\n",
              "                        })\n",
              "                };\n",
              "                \n",
              "            </script>\n",
              "        </div>\n",
              "</body>\n",
              "</html>"
            ]
          },
          "metadata": {}
        }
      ]
    },
    {
      "cell_type": "markdown",
      "metadata": {
        "id": "dJnGmpuLNXaZ"
      },
      "source": [
        "https://towardsdatascience.com/k-means-clustering-using-pyspark-on-big-data-6214beacdc8b <br>\n",
        "**Conclusion** :- K-means can be implemented using scikit learn in python. PySpark uses the concept of Data Parallelism or Result Parallelism when performing the K Means clustering.PySpark gives a lot of compulational power which is extremely less than the number of iterations used in K-means by Scikit Learn.Hence in for data visualization in BDA PySpark has a greater edge."
      ]
    }
  ]
}