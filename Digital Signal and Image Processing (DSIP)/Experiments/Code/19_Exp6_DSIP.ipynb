{
  "nbformat": 4,
  "nbformat_minor": 0,
  "metadata": {
    "colab": {
      "name": " 19_Exp6_DSIP.ipynb",
      "provenance": [],
      "collapsed_sections": [
        "9bqJHxugnU37",
        "UORbGf7gncxb",
        "IIwrel9Lnfzf"
      ]
    },
    "kernelspec": {
      "display_name": "Python 3",
      "language": "python",
      "name": "python3"
    },
    "language_info": {
      "codemirror_mode": {
        "name": "ipython",
        "version": 3
      },
      "file_extension": ".py",
      "mimetype": "text/x-python",
      "name": "python",
      "nbconvert_exporter": "python",
      "pygments_lexer": "ipython3",
      "version": "3.6.6"
    }
  },
  "cells": [
    {
      "cell_type": "markdown",
      "metadata": {
        "id": "s9Gy7Lo7nRxj"
      },
      "source": [
        "###Exp06: Discrete Fourier Transform"
      ]
    },
    {
      "cell_type": "markdown",
      "metadata": {
        "id": "HhZPIkzkTJr2"
      },
      "source": [
        "##### Name: Rebecca Dias\n",
        "##### Roll no: 19\n",
        "##### Class: BE CMPN A "
      ]
    },
    {
      "cell_type": "markdown",
      "metadata": {
        "id": "9bqJHxugnU37"
      },
      "source": [
        "#Sample Program"
      ]
    },
    {
      "cell_type": "code",
      "metadata": {
        "id": "NSU6udULm05B"
      },
      "source": [
        "import numpy as np"
      ],
      "execution_count": null,
      "outputs": []
    },
    {
      "cell_type": "code",
      "metadata": {
        "colab": {
          "base_uri": "https://localhost:8080/"
        },
        "id": "Vzf1AhNKnZKD",
        "outputId": "149b722e-af36-45d8-ed34-1fe2caf7d907"
      },
      "source": [
        "from scipy.linalg import dft\n",
        "np.set_printoptions(precision=2, suppress=True)  # for compact output\n",
        "m = dft(5)\n",
        "print(m)\n",
        "x = np.array([1, 2, 3, 4, 5])\n",
        "dftx=m @ x  # Compute the DFT of x\n",
        "print(dftx)"
      ],
      "execution_count": null,
      "outputs": [
        {
          "output_type": "stream",
          "name": "stdout",
          "text": [
            "[[ 1.  +0.j    1.  +0.j    1.  +0.j    1.  +0.j    1.  +0.j  ]\n",
            " [ 1.  +0.j    0.31-0.95j -0.81-0.59j -0.81+0.59j  0.31+0.95j]\n",
            " [ 1.  +0.j   -0.81-0.59j  0.31+0.95j  0.31-0.95j -0.81+0.59j]\n",
            " [ 1.  +0.j   -0.81+0.59j  0.31-0.95j  0.31+0.95j -0.81-0.59j]\n",
            " [ 1.  +0.j    0.31+0.95j -0.81+0.59j -0.81-0.59j  0.31-0.95j]]\n",
            "[15. +0.j   -2.5+3.44j -2.5+0.81j -2.5-0.81j -2.5-3.44j]\n"
          ]
        }
      ]
    },
    {
      "cell_type": "markdown",
      "metadata": {
        "id": "UORbGf7gncxb"
      },
      "source": [
        "# Programming Exercise 01"
      ]
    },
    {
      "cell_type": "markdown",
      "metadata": {
        "id": "IIwrel9Lnfzf"
      },
      "source": [
        "##Compute DFT of the sequence x(n) = {3,2,3,4}\n"
      ]
    },
    {
      "cell_type": "code",
      "metadata": {
        "colab": {
          "base_uri": "https://localhost:8080/"
        },
        "id": "5sJt3tx3ne1g",
        "outputId": "8cd55173-9373-44d6-ff21-1eada9701994"
      },
      "source": [
        "np.set_printoptions(precision=2, suppress=True)  # for compact output\n",
        "m = dft(4)\n",
        "print(\"DFT is\")\n",
        "print(m)\n",
        "x = np.array([3,2,3,4])\n",
        "print(\"DFT transform is\")\n",
        "dftx=m @ x  # Compute the DFT of x\n",
        "print(dftx)"
      ],
      "execution_count": null,
      "outputs": [
        {
          "output_type": "stream",
          "name": "stdout",
          "text": [
            "DFT is\n",
            "[[ 1.+0.j  1.+0.j  1.+0.j  1.+0.j]\n",
            " [ 1.+0.j  0.-1.j -1.-0.j -0.+1.j]\n",
            " [ 1.+0.j -1.-0.j  1.+0.j -1.-0.j]\n",
            " [ 1.+0.j -0.+1.j -1.-0.j  0.-1.j]]\n",
            "DFT transform is\n",
            "[12.+0.j -0.+2.j  0.-0.j  0.-2.j]\n"
          ]
        }
      ]
    },
    {
      "cell_type": "markdown",
      "metadata": {
        "id": "a-ougu_qngxx"
      },
      "source": [
        "# Programming Exercise 02"
      ]
    },
    {
      "cell_type": "markdown",
      "metadata": {
        "id": "XHWNE48_nhAh"
      },
      "source": [
        "## Compute DFT of the sequence x(n) = {1,2,3,4,5,6,7,8}\n"
      ]
    },
    {
      "cell_type": "code",
      "metadata": {
        "colab": {
          "base_uri": "https://localhost:8080/"
        },
        "id": "_hjc_hidna1y",
        "outputId": "967447ec-b0d7-476f-da98-4aa09d2c9908"
      },
      "source": [
        "np.set_printoptions(precision=2, suppress=True)  # for compact output\n",
        "m = dft(8)\n",
        "print(\"DFT is\")\n",
        "print(m)\n",
        "x = np.array([1, 2, 3, 4, 5,6,7,8])\n",
        "print(\"DFT transform is\")\n",
        "dftx=m @ x  # Compute the DFT of x\n",
        "print(dftx)"
      ],
      "execution_count": null,
      "outputs": [
        {
          "output_type": "stream",
          "name": "stdout",
          "text": [
            "DFT is\n",
            "[[ 1.  +0.j    1.  +0.j    1.  +0.j    1.  +0.j    1.  +0.j    1.  +0.j\n",
            "   1.  +0.j    1.  +0.j  ]\n",
            " [ 1.  +0.j    0.71-0.71j  0.  -1.j   -0.71-0.71j -1.  -0.j   -0.71+0.71j\n",
            "  -0.  +1.j    0.71+0.71j]\n",
            " [ 1.  +0.j    0.  -1.j   -1.  -0.j   -0.  +1.j    1.  +0.j    0.  -1.j\n",
            "  -1.  -0.j   -0.  +1.j  ]\n",
            " [ 1.  +0.j   -0.71-0.71j -0.  +1.j    0.71-0.71j -1.  -0.j    0.71+0.71j\n",
            "   0.  -1.j   -0.71+0.71j]\n",
            " [ 1.  +0.j   -1.  -0.j    1.  +0.j   -1.  -0.j    1.  +0.j   -1.  -0.j\n",
            "   1.  +0.j   -1.  -0.j  ]\n",
            " [ 1.  +0.j   -0.71+0.71j  0.  -1.j    0.71+0.71j -1.  -0.j    0.71-0.71j\n",
            "  -0.  +1.j   -0.71-0.71j]\n",
            " [ 1.  +0.j   -0.  +1.j   -1.  -0.j    0.  -1.j    1.  +0.j   -0.  +1.j\n",
            "  -1.  -0.j    0.  -1.j  ]\n",
            " [ 1.  +0.j    0.71+0.71j -0.  +1.j   -0.71+0.71j -1.  -0.j   -0.71-0.71j\n",
            "   0.  -1.j    0.71-0.71j]]\n",
            "DFT transform is\n",
            "[36.+0.j   -4.+9.66j -4.+4.j   -4.+1.66j -4.-0.j   -4.-1.66j -4.-4.j\n",
            " -4.-9.66j]\n"
          ]
        }
      ]
    },
    {
      "cell_type": "code",
      "metadata": {
        "id": "u2_7OsTk8qpa"
      },
      "source": [
        ""
      ],
      "execution_count": null,
      "outputs": []
    }
  ]
}