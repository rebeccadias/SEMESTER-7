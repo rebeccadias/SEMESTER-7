{
  "nbformat": 4,
  "nbformat_minor": 0,
  "metadata": {
    "colab": {
      "name": "19_Exp4_DSIP.ipynb",
      "provenance": [],
      "collapsed_sections": []
    },
    "kernelspec": {
      "name": "python3",
      "display_name": "Python 3"
    },
    "language_info": {
      "name": "python"
    }
  },
  "cells": [
    {
      "cell_type": "markdown",
      "metadata": {
        "id": "mLuWYOxSTvzB"
      },
      "source": [
        "### Rebecca Dias BE CMPN A \n",
        "### Roll No. 19\n",
        "\n",
        "Experiment 4"
      ]
    },
    {
      "cell_type": "code",
      "metadata": {
        "id": "E2jPYrbDWDjk"
      },
      "source": [
        "\n",
        "import numpy as np\n",
        "\n",
        "print('0:Exit\\n1:Cross Correlation\\n2:Auto Correlation')\n",
        "while True :\n",
        "    choice = int(input('Enter Choice:'))\n",
        "    if choice == 0 :\n",
        "        print(\"Exiting...\")\n",
        "        break\n",
        "    elif choice == 1 :\n",
        "        signal1 = input('Enter values for signal1:').split()\n",
        "        signal2 = input('Enter values for signal2:').split()\n",
        "        signal1 = [int(i) for i in signal1]\n",
        "        print(signal1)\n",
        "        signal2 = [int(i) for i in signal2]\n",
        "        origin1 = int(input(\"Enter the origin for signal1 \"))\n",
        "        origin2 = int(input(\"Enter the origin for signal2 \"))\n",
        "        f_index = 0-origin1\n",
        "        s=signal2[origin2]\n",
        "        signal2_fold = [i for i in reversed(signal2)]\n",
        "        s_ind = max(index for index, item in enumerate(signal2_fold) if item == s)\n",
        "        s_index = 0-s_ind\n",
        "        corr = np.correlate(signal1,signal2, \"full\")\n",
        "        print('Cross Correlation:',corr)\n",
        "        print('Origin:',corr[(f_index+s_index)-1])\n",
        "\n",
        "    elif choice == 2:\n",
        "        signal1 = input('Enter values for signal1:').split() \n",
        "        signal1 = [int(i) for i in signal1]\n",
        "        origin1 = int(input(\"Enter the origin for signal1\"))\n",
        "        f_index = 0-origin1\n",
        "        s=signal1[origin1]\n",
        "        signal1_fold = [i for i in reversed(signal1)]\n",
        "        s_ind = max(index for index, item in enumerate(signal1_fold) if item == s)\n",
        "        s_index = 0-s_ind\n",
        "        corr = np.correlate(signal1,signal1, \"full\")\n",
        "        print('Auto Correlation:',corr)\n",
        "        print('Origin:',corr[(f_index+s_index)-1])"
      ],
      "execution_count": null,
      "outputs": []
    }
  ]
}