{
  "nbformat": 4,
  "nbformat_minor": 0,
  "metadata": {
    "colab": {
      "name": "19_DSIP5.ipynb",
      "provenance": [],
      "collapsed_sections": []
    },
    "kernelspec": {
      "name": "python3",
      "display_name": "Python 3"
    },
    "language_info": {
      "name": "python"
    }
  },
  "cells": [
    {
      "cell_type": "markdown",
      "metadata": {
        "id": "hR5f9mKy7kZQ"
      },
      "source": [
        "**Linear convolution**"
      ]
    },
    {
      "cell_type": "code",
      "metadata": {
        "id": "FhwoUfCgaVWi"
      },
      "source": [
        "def linear(x,h):\n",
        "  p = [[a*b for a in x] for b in h]\n",
        "  y = {}\n",
        "  for i in range(len(p)):\n",
        "    for j in range(len(p)):\n",
        "      if (i+j) in y:\n",
        "        y[i+j] += p[i][j]\n",
        "      else:\n",
        "        y[i+j] = p[i][j]\n",
        "  return [k[1] for k in y.items()]"
      ],
      "execution_count": null,
      "outputs": []
    },
    {
      "cell_type": "code",
      "metadata": {
        "colab": {
          "base_uri": "https://localhost:8080/"
        },
        "id": "oJ383liLnCPV",
        "outputId": "ae6782fa-d8ed-451c-cc96-3d1973081d0a"
      },
      "source": [
        "print(linear([4,2,1,3],[1,2,2,1]))"
      ],
      "execution_count": null,
      "outputs": [
        {
          "output_type": "stream",
          "name": "stdout",
          "text": [
            "[4, 10, 13, 13, 10, 7, 3]\n"
          ]
        }
      ]
    },
    {
      "cell_type": "markdown",
      "metadata": {
        "id": "BGgIyEb37lUj"
      },
      "source": [
        "**Circular convolution**"
      ]
    },
    {
      "cell_type": "code",
      "metadata": {
        "id": "b-v6Ym4ygLdv"
      },
      "source": [
        "def circular(x,h):\n",
        "  y = []\n",
        "  z = x[::-1]\n",
        "  for i in range(len(x)):\n",
        "    z = z[-1:] + z[:-1]\n",
        "    y.append(sum([a*b for a,b in zip(z,h)]))\n",
        "  return y"
      ],
      "execution_count": null,
      "outputs": []
    },
    {
      "cell_type": "code",
      "metadata": {
        "id": "7HZApMWmnFvL",
        "colab": {
          "base_uri": "https://localhost:8080/"
        },
        "outputId": "2d8f5754-be6b-479c-a52d-545c1cd9999a"
      },
      "source": [
        "print(circular([1,2,3,4],[1,-1,1,-1]))"
      ],
      "execution_count": null,
      "outputs": [
        {
          "output_type": "stream",
          "name": "stdout",
          "text": [
            "[-2, 2, -2, 2]\n"
          ]
        }
      ]
    },
    {
      "cell_type": "markdown",
      "metadata": {
        "id": "AygalO6q7l9B"
      },
      "source": [
        "**Linear convolution using circular convolution**"
      ]
    },
    {
      "cell_type": "code",
      "metadata": {
        "id": "MU7N9t0qj-dB"
      },
      "source": [
        "def linear_circular(x,h):\n",
        "  x= [3,-2,1,4]\n",
        "  h = [2,5,3]\n",
        "  m = len(x)\n",
        "  n = len(h)\n",
        "  l = m + n - 1\n",
        "  x = x +  [0]*(l-m)\n",
        "  h = h +  [0]*(l-n)\n",
        "  y = circular(x,h)\n",
        "  return y"
      ],
      "execution_count": null,
      "outputs": []
    },
    {
      "cell_type": "code",
      "metadata": {
        "colab": {
          "base_uri": "https://localhost:8080/"
        },
        "id": "N_jUXBrvjZSn",
        "outputId": "a9999423-94de-4255-fbde-4090a5be3918"
      },
      "source": [
        "print(linear_circular([3,-2,1,4],[2,5,3]))"
      ],
      "execution_count": null,
      "outputs": [
        {
          "output_type": "stream",
          "name": "stdout",
          "text": [
            "[6, 11, 1, 7, 23, 12]\n"
          ]
        }
      ]
    }
  ]
}