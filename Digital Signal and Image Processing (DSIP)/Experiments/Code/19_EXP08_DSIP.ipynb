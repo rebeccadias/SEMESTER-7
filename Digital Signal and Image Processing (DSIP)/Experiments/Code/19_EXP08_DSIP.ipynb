{
  "nbformat": 4,
  "nbformat_minor": 0,
  "metadata": {
    "colab": {
      "name": "19_EXP08_DSIP",
      "provenance": [],
      "collapsed_sections": []
    },
    "kernelspec": {
      "name": "python3",
      "display_name": "Python 3"
    },
    "language_info": {
      "name": "python"
    }
  },
  "cells": [
    {
      "cell_type": "markdown",
      "metadata": {
        "id": "tjcizmBZCZxe"
      },
      "source": [
        "\n",
        "\n",
        "#### Rebecca Dias\n",
        "#### Roll No. 19\n",
        "#### BE CMPN A2"
      ]
    },
    {
      "cell_type": "code",
      "metadata": {
        "id": "XHUSuRD0tptl"
      },
      "source": [
        "import numpy as np\n",
        "import cv2\n",
        "from google.colab.patches import cv2_imshow\n",
        "from skimage import io\n",
        "# from google.colab import files\n",
        "# files.upload()"
      ],
      "execution_count": null,
      "outputs": []
    },
    {
      "cell_type": "code",
      "metadata": {
        "id": "5fF-UnKhGksm",
        "colab": {
          "base_uri": "https://localhost:8080/"
        },
        "outputId": "211866f0-6b15-4996-a985-8f5cbf922480"
      },
      "source": [
        "!wget \"https://images.unsplash.com/photo-1593642531955-b62e17bdaa9c?ixid=MnwxMjA3fDF8MHxwaG90by1wYWdlfHx8fGVufDB8fHx8&ixlib=rb-1.2.1&auto=format&fit=crop&w=869&q=80\""
      ],
      "execution_count": null,
      "outputs": [
        {
          "output_type": "stream",
          "name": "stdout",
          "text": [
            "--2021-09-23 11:38:32--  https://images.unsplash.com/photo-1593642531955-b62e17bdaa9c?ixid=MnwxMjA3fDF8MHxwaG90by1wYWdlfHx8fGVufDB8fHx8&ixlib=rb-1.2.1&auto=format&fit=crop&w=869&q=80\n",
            "Resolving images.unsplash.com (images.unsplash.com)... 199.232.66.208, 2a04:4e42:2f::720\n",
            "Connecting to images.unsplash.com (images.unsplash.com)|199.232.66.208|:443... connected.\n",
            "HTTP request sent, awaiting response... 200 OK\n",
            "Length: 74412 (73K) [image/jpeg]\n",
            "Saving to: ‘photo-1593642531955-b62e17bdaa9c?ixid=MnwxMjA3fDF8MHxwaG90by1wYWdlfHx8fGVufDB8fHx8&ixlib=rb-1.2.1&auto=format&fit=crop&w=869&q=80’\n",
            "\n",
            "\r          photo-159   0%[                    ]       0  --.-KB/s               \rphoto-1593642531955 100%[===================>]  72.67K  --.-KB/s    in 0.01s   \n",
            "\n",
            "2021-09-23 11:38:33 (4.89 MB/s) - ‘photo-1593642531955-b62e17bdaa9c?ixid=MnwxMjA3fDF8MHxwaG90by1wYWdlfHx8fGVufDB8fHx8&ixlib=rb-1.2.1&auto=format&fit=crop&w=869&q=80’ saved [74412/74412]\n",
            "\n"
          ]
        }
      ]
    },
    {
      "cell_type": "code",
      "metadata": {
        "colab": {
          "base_uri": "https://localhost:8080/",
          "height": 253
        },
        "id": "5j5UWYjxGm-2",
        "outputId": "59e68d27-174f-4cc3-a76d-1884e9d46975"
      },
      "source": [
        "import cv2\n",
        "import numpy as np\n",
        "from matplotlib import pyplot as plt\n",
        "\n",
        "img = cv2.imread(\"https://images.unsplash.com/photo-1593642531955-b62e17bdaa9c?ixid=MnwxMjA3fDF8MHxwaG90by1wYWdlfHx8fGVufDB8fHx8&ixlib=rb-1.2.1&auto=format&fit=crop&w=869&q=80\")\n",
        "img_cvt=cv2.cvtColor(img, cv2.COLOR_BGR2RGB)\n",
        "plt.imshow(img_cvt)\n",
        "plt.show()"
      ],
      "execution_count": null,
      "outputs": [
        {
          "output_type": "error",
          "ename": "error",
          "evalue": "ignored",
          "traceback": [
            "\u001b[0;31m---------------------------------------------------------------------------\u001b[0m",
            "\u001b[0;31merror\u001b[0m                                     Traceback (most recent call last)",
            "\u001b[0;32m<ipython-input-21-f64e526090f9>\u001b[0m in \u001b[0;36m<module>\u001b[0;34m()\u001b[0m\n\u001b[1;32m      4\u001b[0m \u001b[0;34m\u001b[0m\u001b[0m\n\u001b[1;32m      5\u001b[0m \u001b[0mimg\u001b[0m \u001b[0;34m=\u001b[0m \u001b[0mcv2\u001b[0m\u001b[0;34m.\u001b[0m\u001b[0mimread\u001b[0m\u001b[0;34m(\u001b[0m\u001b[0;34m\"https://images.unsplash.com/photo-1593642531955-b62e17bdaa9c?ixid=MnwxMjA3fDF8MHxwaG90by1wYWdlfHx8fGVufDB8fHx8&ixlib=rb-1.2.1&auto=format&fit=crop&w=869&q=80\"\u001b[0m\u001b[0;34m)\u001b[0m\u001b[0;34m\u001b[0m\u001b[0;34m\u001b[0m\u001b[0m\n\u001b[0;32m----> 6\u001b[0;31m \u001b[0mimg_cvt\u001b[0m\u001b[0;34m=\u001b[0m\u001b[0mcv2\u001b[0m\u001b[0;34m.\u001b[0m\u001b[0mcvtColor\u001b[0m\u001b[0;34m(\u001b[0m\u001b[0mimg\u001b[0m\u001b[0;34m,\u001b[0m \u001b[0mcv2\u001b[0m\u001b[0;34m.\u001b[0m\u001b[0mCOLOR_BGR2RGB\u001b[0m\u001b[0;34m)\u001b[0m\u001b[0;34m\u001b[0m\u001b[0;34m\u001b[0m\u001b[0m\n\u001b[0m\u001b[1;32m      7\u001b[0m \u001b[0mplt\u001b[0m\u001b[0;34m.\u001b[0m\u001b[0mimshow\u001b[0m\u001b[0;34m(\u001b[0m\u001b[0mimg_cvt\u001b[0m\u001b[0;34m)\u001b[0m\u001b[0;34m\u001b[0m\u001b[0;34m\u001b[0m\u001b[0m\n\u001b[1;32m      8\u001b[0m \u001b[0mplt\u001b[0m\u001b[0;34m.\u001b[0m\u001b[0mshow\u001b[0m\u001b[0;34m(\u001b[0m\u001b[0;34m)\u001b[0m\u001b[0;34m\u001b[0m\u001b[0;34m\u001b[0m\u001b[0m\n",
            "\u001b[0;31merror\u001b[0m: OpenCV(4.1.2) /io/opencv/modules/imgproc/src/color.cpp:182: error: (-215:Assertion failed) !_src.empty() in function 'cvtColor'\n"
          ]
        }
      ]
    },
    {
      "cell_type": "code",
      "metadata": {
        "id": "2TEa8QvvuOHd"
      },
      "source": [
        "url = \"https://images.unsplash.com/photo-1593642531955-b62e17bdaa9c?ixid=MnwxMjA3fDF8MHxwaG90by1wYWdlfHx8fGVufDB8fHx8&ixlib=rb-1.2.1&auto=format&fit=crop&w=869&q=80\"\n",
        "image = io.imread(url)\n",
        "image=cv2.resize(image,(400,300))\n",
        "cv2_imshow(image)"
      ],
      "execution_count": null,
      "outputs": []
    },
    {
      "cell_type": "code",
      "metadata": {
        "id": "tlixyjSnvGxn"
      },
      "source": [
        "gray_image = cv2.cvtColor(image, cv2.COLOR_BGR2GRAY)\n",
        "cv2_imshow(gray_image)"
      ],
      "execution_count": null,
      "outputs": []
    },
    {
      "cell_type": "code",
      "metadata": {
        "id": "vdYh8SS-vcOv"
      },
      "source": [
        "digital_negative_image = 255-gray_image\n",
        "cv2_imshow(digital_negative_image)"
      ],
      "execution_count": null,
      "outputs": []
    },
    {
      "cell_type": "code",
      "metadata": {
        "id": "wMrPA2twvxgv"
      },
      "source": [
        "_,threshold_image = cv2.threshold(gray_image,100,255,cv2.THRESH_BINARY)\n",
        "cv2_imshow(threshold_image)"
      ],
      "execution_count": null,
      "outputs": []
    },
    {
      "cell_type": "code",
      "metadata": {
        "id": "xVl_jNRWwPeQ"
      },
      "source": [
        "# lower threshold \n",
        "A = 75\n",
        "  \n",
        "# upper threshold \n",
        "B = 200 \n",
        "\n",
        "# Initialize m and n\n",
        "m,n=gray_image.shape\n",
        "\n",
        "# create a array of zeros \n",
        "gray_level_withoutbg_image = np.zeros((m,n), dtype = int) \n",
        "   \n",
        "for i in range(m):  \n",
        "    for j in range(n): \n",
        "        if A < gray_image[i,j] < B:  \n",
        "            gray_level_withoutbg_image[i,j]= 255\n",
        "        else: \n",
        "            gray_level_withoutbg_image[i,j] = 0 \n",
        "  \n",
        "cv2.imwrite('GrayLevelImgWITHOUTBackground.jpg', gray_level_withoutbg_image) \n",
        "cv2_imshow(gray_level_withoutbg_image)"
      ],
      "execution_count": null,
      "outputs": []
    },
    {
      "cell_type": "code",
      "metadata": {
        "id": "yRAXJtfPzKvC"
      },
      "source": [
        "# lower threshold \n",
        "A = 75\n",
        "  \n",
        "# upper threshold \n",
        "B = 200 \n",
        "\n",
        "# Initialize m and n\n",
        "m,n=gray_image.shape\n",
        "\n",
        "# create a array of zeros \n",
        "gray_level_withbg_image = np.zeros((m,n), dtype = int) \n",
        "   \n",
        "for i in range(m):  \n",
        "    for j in range(n): \n",
        "        if A < gray_image[i,j] < B:  \n",
        "            gray_level_withbg_image[i,j]= 255\n",
        "        else: \n",
        "            gray_level_withbg_image[i,j] = gray_image[i,j] \n",
        "  \n",
        "cv2.imwrite('GrayLevelImgWITHBackground.jpg', gray_level_withbg_image) \n",
        "cv2_imshow(gray_level_withbg_image)"
      ],
      "execution_count": null,
      "outputs": []
    }
  ]
}